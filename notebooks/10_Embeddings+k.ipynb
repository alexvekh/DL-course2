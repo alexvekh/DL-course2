{
  "cells": [
    {
      "cell_type": "markdown",
      "source": [
        "# Тренування word embeddings з нуля\n",
        "\n",
        "Ми навчимо модель Word2Vec з нуля, перетворюючи необроблені текстові дані у значущі векторні представлення. Навчання моделі Word2Vec з нуля передбачає фіксацію контекстуальних зв’язків між словами в межах певного корпусу, кодування семантичних і синтаксичних нюансів у результуючі вектори слів.\n",
        "\n",
        "\n",
        "Завдяки ітераційному навчанню з текстових корпусів модель Word2Vec поступово вивчає семантичну структуру мови, відображаючи слова у щільних безперервних векторних просторах. Керуючись цим процесом, ми усвідомлюємо як труднощі, так і переваги створення власних ембедингів, адаптованих до нашого набору даних, що дозволить нам розкрити приховану семантику й патерни в тексті."
      ],
      "metadata": {
        "id": "vesYZjrrio6P"
      },
      "id": "vesYZjrrio6P"
    },
    {
      "cell_type": "code",
      "execution_count": null,
      "id": "652a1da5",
      "metadata": {
        "colab": {
          "base_uri": "https://localhost:8080/"
        },
        "id": "652a1da5",
        "outputId": "f42590a7-20b7-46d2-967e-d0df5e7a510f"
      },
      "outputs": [
        {
          "output_type": "stream",
          "name": "stdout",
          "text": [
            "Mounted at /content/drive\n"
          ]
        },
        {
          "output_type": "stream",
          "name": "stderr",
          "text": [
            "[nltk_data] Downloading package stopwords to /root/nltk_data...\n",
            "[nltk_data]   Unzipping corpora/stopwords.zip.\n",
            "[nltk_data] Downloading package punkt to /root/nltk_data...\n",
            "[nltk_data]   Unzipping tokenizers/punkt.zip.\n"
          ]
        },
        {
          "output_type": "execute_result",
          "data": {
            "text/plain": [
              "True"
            ]
          },
          "metadata": {},
          "execution_count": 2
        }
      ],
      "source": [
        "import re\n",
        "import os\n",
        "import gc\n",
        "import datetime\n",
        "\n",
        "import pandas as pd\n",
        "import numpy as np\n",
        "\n",
        "from nltk.corpus import stopwords\n",
        "from nltk.tokenize import word_tokenize\n",
        "\n",
        "import gensim\n",
        "from gensim.models import word2vec\n",
        "from gensim.models import KeyedVectors #  implements word vectors\n",
        "from gensim.test.utils import datapath, get_tmpfile\n",
        "from gensim.scripts.glove2word2vec import glove2word2vec\n",
        "\n",
        "from sklearn.manifold import TSNE\n",
        "from sklearn.metrics import roc_auc_score\n",
        "from sklearn.linear_model import LogisticRegression\n",
        "\n",
        "import matplotlib.cm as cm\n",
        "\n",
        "import spacy\n",
        "\n",
        "from tqdm.auto import tqdm\n",
        "tqdm.pandas()\n",
        "\n",
        "import matplotlib.pyplot as plt\n",
        "\n",
        "from google.colab import drive\n",
        "drive.mount('/content/drive')\n",
        "\n",
        "import nltk\n",
        "nltk.download('stopwords')\n",
        "nltk.download('punkt')"
      ]
    },
    {
      "cell_type": "markdown",
      "source": [
        "# EDA"
      ],
      "metadata": {
        "id": "tq3Ymwj-Efjf"
      },
      "id": "tq3Ymwj-Efjf"
    },
    {
      "cell_type": "code",
      "execution_count": null,
      "id": "26b6375c",
      "metadata": {
        "colab": {
          "base_uri": "https://localhost:8080/"
        },
        "id": "26b6375c",
        "outputId": "9a921a74-f5f9-4494-952c-056da9d97be0"
      },
      "outputs": [
        {
          "output_type": "execute_result",
          "data": {
            "text/plain": [
              "(364133, 10)"
            ]
          },
          "metadata": {},
          "execution_count": 3
        }
      ],
      "source": [
        "# Ми продовжимо працювати з набором даних відгуків продуктів Amazon.\n",
        "df = pd.read_csv('/content/drive/MyDrive/ds/Reviews.csv', index_col='Id')\n",
        "\n",
        "# Quick data pre-processing\n",
        "\n",
        "df = df.loc[df['Score']!=3]\n",
        "\n",
        "df['sentiment'] = [1 if score in [4, 5] else 0 for score in df['Score']]\n",
        "\n",
        "df = df.drop_duplicates().reset_index(drop=True)\n",
        "\n",
        "df = df.drop_duplicates(subset={\"UserId\", \"Time\",\"Text\"})\n",
        "\n",
        "# Final size\n",
        "\n",
        "df.shape"
      ]
    },
    {
      "cell_type": "code",
      "execution_count": null,
      "id": "35fb434d",
      "metadata": {
        "code_folding": [],
        "id": "35fb434d"
      },
      "outputs": [],
      "source": [
        "# Contractions. Source http://stackoverflow.com/questions/19790188/expanding-english-language-contractions-in-python\n",
        "\n",
        "contractions = {\n",
        "\"ain't\": \"am not\",\n",
        "\"aren't\": \"are not\",\n",
        "\"can't\": \"cannot\",\n",
        "\"can't've\": \"cannot have\",\n",
        "\"'cause\": \"because\",\n",
        "\"could've\": \"could have\",\n",
        "\"couldn't\": \"could not\",\n",
        "\"couldn't've\": \"could not have\",\n",
        "\"didn't\": \"did not\",\n",
        "\"doesn't\": \"does not\",\n",
        "\"don't\": \"do not\",\n",
        "\"hadn't\": \"had not\",\n",
        "\"hadn't've\": \"had not have\",\n",
        "\"hasn't\": \"has not\",\n",
        "\"haven't\": \"have not\",\n",
        "\"he'd\": \"he would\",\n",
        "\"he'd've\": \"he would have\",\n",
        "\"he'll\": \"he will\",\n",
        "\"he's\": \"he is\",\n",
        "\"how'd\": \"how did\",\n",
        "\"how'll\": \"how will\",\n",
        "\"how's\": \"how is\",\n",
        "\"i'd\": \"i would\",\n",
        "\"i'll\": \"i will\",\n",
        "\"i'm\": \"i am\",\n",
        "\"i've\": \"i have\",\n",
        "\"isn't\": \"is not\",\n",
        "\"it'd\": \"it would\",\n",
        "\"it'll\": \"it will\",\n",
        "\"it's\": \"it is\",\n",
        "\"let's\": \"let us\",\n",
        "\"ma'am\": \"madam\",\n",
        "\"mayn't\": \"may not\",\n",
        "\"might've\": \"might have\",\n",
        "\"mightn't\": \"might not\",\n",
        "\"must've\": \"must have\",\n",
        "\"mustn't\": \"must not\",\n",
        "\"needn't\": \"need not\",\n",
        "\"oughtn't\": \"ought not\",\n",
        "\"shan't\": \"shall not\",\n",
        "\"sha'n't\": \"shall not\",\n",
        "\"she'd\": \"she would\",\n",
        "\"she'll\": \"she will\",\n",
        "\"she's\": \"she is\",\n",
        "\"should've\": \"should have\",\n",
        "\"shouldn't\": \"should not\",\n",
        "\"that'd\": \"that would\",\n",
        "\"that's\": \"that is\",\n",
        "\"there'd\": \"there had\",\n",
        "\"there's\": \"there is\",\n",
        "\"they'd\": \"they would\",\n",
        "\"they'll\": \"they will\",\n",
        "\"they're\": \"they are\",\n",
        "\"they've\": \"they have\",\n",
        "\"wasn't\": \"was not\",\n",
        "\"we'd\": \"we would\",\n",
        "\"we'll\": \"we will\",\n",
        "\"we're\": \"we are\",\n",
        "\"we've\": \"we have\",\n",
        "\"weren't\": \"were not\",\n",
        "\"what'll\": \"what will\",\n",
        "\"what're\": \"what are\",\n",
        "\"what's\": \"what is\",\n",
        "\"what've\": \"what have\",\n",
        "\"where'd\": \"where did\",\n",
        "\"where's\": \"where is\",\n",
        "\"who'll\": \"who will\",\n",
        "\"who's\": \"who is\",\n",
        "\"won't\": \"will not\",\n",
        "\"wouldn't\": \"would not\",\n",
        "\"you'd\": \"you would\",\n",
        "\"you'll\": \"you will\",\n",
        "\"you're\": \"you are\"\n",
        "}"
      ]
    },
    {
      "cell_type": "code",
      "execution_count": null,
      "id": "58950b17",
      "metadata": {
        "code_folding": [
          3
        ],
        "id": "58950b17"
      },
      "outputs": [],
      "source": [
        "# Stop-words\n",
        "stop_words = set(stopwords.words('english')).union({'also', 'would', 'much', 'many'})\n",
        "\n",
        "negations = {\n",
        "    'aren',\n",
        "    \"aren't\",\n",
        "    'couldn',\n",
        "    \"couldn't\",\n",
        "    'didn',\n",
        "    \"didn't\",\n",
        "    'doesn',\n",
        "    \"doesn't\",\n",
        "    'don',\n",
        "    \"don't\",\n",
        "    'hadn',\n",
        "    \"hadn't\",\n",
        "    'hasn',\n",
        "    \"hasn't\",\n",
        "    'haven',\n",
        "    \"haven't\",\n",
        "    'isn',\n",
        "    \"isn't\",\n",
        "    'mightn',\n",
        "    \"mightn't\",\n",
        "    'mustn',\n",
        "    \"mustn't\",\n",
        "    'needn',\n",
        "    \"needn't\",\n",
        "    'no',\n",
        "    'nor',\n",
        "    'not',\n",
        "    'shan',\n",
        "    \"shan't\",\n",
        "    'shouldn',\n",
        "    \"shouldn't\",\n",
        "    'wasn',\n",
        "    \"wasn't\",\n",
        "    'weren',\n",
        "    \"weren't\",\n",
        "    'won',\n",
        "    \"won't\",\n",
        "    'wouldn',\n",
        "    \"wouldn't\"\n",
        "}\n",
        "\n",
        "stop_words = stop_words.difference(negations)"
      ]
    },
    {
      "cell_type": "code",
      "execution_count": null,
      "id": "6caed34b",
      "metadata": {
        "code_folding": [],
        "id": "6caed34b"
      },
      "outputs": [],
      "source": [
        "nlp = spacy.load(\"en_core_web_sm\", disable = ['parser','ner'])\n",
        "\n",
        "def normalize_text(raw_review):\n",
        "\n",
        "    # Remove html tags\n",
        "    text = re.sub(\"<[^>]*>\", \" \", raw_review) # match <> and everything in between. [^>] - match everything except >\n",
        "\n",
        "    # Remove emails\n",
        "    text = re.sub(\"\\S*@\\S*[\\s]+\", \" \", text) # match non-whitespace characters, @ and a whitespaces in the end\n",
        "\n",
        "    # remove links\n",
        "    text = re.sub(\"https?:\\/\\/.*?[\\s]+\", \" \", text) # match http, s - zero or once, //,\n",
        "                                                    # any char 0-unlimited, whitespaces in the end\n",
        "\n",
        "     # Convert to lower case, split into individual words\n",
        "    text = text.lower().split()\n",
        "\n",
        "    # Replace contractions with their full versions\n",
        "    text = [contractions.get(word) if word in contractions else word\n",
        "            for word in text]\n",
        "\n",
        "    # Re-splitting for the correct stop-words extraction\n",
        "    text = \" \".join(text).split()\n",
        "\n",
        "    # Remove stop words\n",
        "    text = [word for word in text if not word in stop_words]\n",
        "\n",
        "    text = \" \".join(text)\n",
        "\n",
        "    # Remove non-letters\n",
        "    text = re.sub(\"[^a-zA-Z' ]\", \"\", text) # match everything except letters and '\n",
        "\n",
        "\n",
        "    # Stem words. Need to define porter stemmer above\n",
        "    # text = [stemmer.stem(word) for word in text.split()]\n",
        "\n",
        "    # Lemmatize words. Need to define lemmatizer above\n",
        "    doc = nlp(text)\n",
        "    text = \" \".join([token.lemma_ for token in doc if len(token.lemma_) > 1 ])\n",
        "\n",
        "    # Remove excesive whitespaces\n",
        "    text = re.sub(\"[\\s]+\", \" \", text)\n",
        "\n",
        "    # Join the words back into one string separated by space, and return the result.\n",
        "    return(text)"
      ]
    },
    {
      "cell_type": "code",
      "execution_count": null,
      "id": "fe22889a",
      "metadata": {
        "id": "fe22889a",
        "outputId": "5c17d9c1-1438-4f6d-efc0-5bb4072d7cd9",
        "colab": {
          "base_uri": "https://localhost:8080/"
        }
      },
      "outputs": [
        {
          "output_type": "execute_result",
          "data": {
            "text/plain": [
              "(5000, 10)"
            ]
          },
          "metadata": {},
          "execution_count": 9
        }
      ],
      "source": [
        "# Slicing dataset for demonstrative purposes\n",
        "\n",
        "df = df.groupby('sentiment').sample(2500, random_state=42).reset_index(drop=True)\n",
        "\n",
        "# Note: without resetting an index we slice over the original Id`s\n",
        "df.shape"
      ]
    },
    {
      "cell_type": "code",
      "execution_count": null,
      "id": "f9eaa4f8",
      "metadata": {
        "colab": {
          "referenced_widgets": [
            "5b854f130619443ca04bca7f1b0d6894",
            "031e44a63c1048a28fa9b7ef148b6103",
            "74900e29148e46e785236440425de911",
            "1cd1865481334c13afa433cc2caf18aa",
            "0149e6331b564b35800a4e29ab0e1076",
            "b85f994ad6d74988916db5807d445b77",
            "9b476c75143b4a03a26796ce5f3b303b",
            "3690cf308255470293c2bad58f3a105a",
            "9600d620f1da4be1b24864a1b30d7ed1",
            "142e46bbf8e44840bca72effbf9a66e5",
            "c53984d9694547a0ab7660d46c31ab76"
          ],
          "base_uri": "https://localhost:8080/",
          "height": 49
        },
        "id": "f9eaa4f8",
        "outputId": "ac090419-5f90-4aa2-b7c0-03c782500bf7"
      },
      "outputs": [
        {
          "output_type": "display_data",
          "data": {
            "text/plain": [
              "  0%|          | 0/5000 [00:00<?, ?it/s]"
            ],
            "application/vnd.jupyter.widget-view+json": {
              "version_major": 2,
              "version_minor": 0,
              "model_id": "5b854f130619443ca04bca7f1b0d6894"
            }
          },
          "metadata": {}
        }
      ],
      "source": [
        "df['text_normalized'] = df['Text'].progress_apply(normalize_text)"
      ]
    },
    {
      "cell_type": "markdown",
      "source": [
        "# From scratch"
      ],
      "metadata": {
        "id": "bg1Hi6p_EonV"
      },
      "id": "bg1Hi6p_EonV"
    },
    {
      "cell_type": "code",
      "execution_count": null,
      "id": "290c7854",
      "metadata": {
        "id": "290c7854"
      },
      "outputs": [],
      "source": [
        "# Напишемо функцію, яка створює список списків, що містить слова з кожного речення.\n",
        "# Таким чином ми розбиваємо наші вхідні речення на токени, які буде вивчати модель векторного представлення.\n",
        "def build_corpus(data):\n",
        "    \"Creates a list of lists containing words from each sentence\"\n",
        "    corpus = []\n",
        "    for sentence in data:\n",
        "        word_list = sentence.split(\" \")\n",
        "        corpus.append(word_list)\n",
        "\n",
        "    return corpus"
      ]
    },
    {
      "cell_type": "code",
      "execution_count": null,
      "id": "21cfff83",
      "metadata": {
        "id": "21cfff83",
        "outputId": "0dc87255-827c-45ac-b1dd-88f23bf6cc70",
        "colab": {
          "base_uri": "https://localhost:8080/"
        }
      },
      "outputs": [
        {
          "output_type": "execute_result",
          "data": {
            "text/plain": [
              "['suppose',\n",
              " 'people',\n",
              " 'might',\n",
              " 'rate',\n",
              " 'product',\n",
              " 'high',\n",
              " 'great',\n",
              " 'substitute',\n",
              " 'bisquik',\n",
              " 'however',\n",
              " 'not',\n",
              " 'like',\n",
              " 'everything',\n",
              " 'make',\n",
              " 'tasted',\n",
              " 'like',\n",
              " 'bisquik']"
            ]
          },
          "metadata": {},
          "execution_count": 12
        }
      ],
      "source": [
        "corpus = build_corpus(df['text_normalized'])\n",
        "corpus[0]"
      ]
    },
    {
      "cell_type": "code",
      "execution_count": null,
      "id": "9540e6b9",
      "metadata": {
        "id": "9540e6b9"
      },
      "outputs": [],
      "source": [
        "# vector_size - Dimensionality of the word vectors ( розмірність векторів слів, тобто кількість вимірів, через які буде представлено кожне слово;)\n",
        "# window - Maximum distance between the current and predicted word within a sentence (максимальна відстань між поточним і прогнозованим словом у реченні, тобто розмір контекстного вікна;)\n",
        "# min_count - Ignores all words with total frequency lower than this (ігнорує всі слова із загальною частотою, нижчою за вказану.)\n",
        "\n",
        "model_emb_from_scratch = word2vec.Word2Vec(corpus, vector_size=100, window=5, min_count=50, workers=4)\n",
        "\n",
        "# saving vectors\n",
        "\n",
        "# Створюємо папку, якщо вона ще не існує\n",
        "os.makedirs('/content/drive/MyDrive/ds/saved_models', exist_ok=True)\n",
        "model_emb_from_scratch.wv.save_word2vec_format('/content/drive/MyDrive/ds/saved_models/model_emb_from_scratch.bin', binary=True)"
      ]
    },
    {
      "cell_type": "markdown",
      "source": [
        "## Попередньо навчені embeddings\n",
        "\n",
        "Однією з найбільших переваг використання word embeddings є можливість застосування попередньо навчених моделей. Ці моделі були навчені на величезних текстових корпусах, що дозволяє їм забезпечити високу якість векторних представлень слів.\n",
        "\n",
        "\n",
        "переваги: зменшення обчислювальних витрат, покращення продуктивності кінцевих моделей і можливість переносу знань на нові задачі з обмеженою кількістю даних.\n",
        "\n",
        "Хоч ці вектори і є якісними узагальненнями, їм може не вистачати специфічних доменних знань.\n",
        "\n",
        "Завантажте векторні представлення за наступними посиланнями:\n",
        "\n",
        "- Word2Vec: https://www.kaggle.com/datasets/leadbest/googlenewsvectorsnegative300\n",
        "\n",
        "- GloVe: https://github.com/stanfordnlp/GloVe — glove.6B.50d\n",
        "\n",
        "- FastText: https://www.kaggle.com/datasets/facebook/fasttext-wikinews?select=wiki-news-300d-1M.vec\n",
        "\n",
        "\n",
        "\n",
        "Збережіть їх у папку pretrained_models."
      ],
      "metadata": {
        "id": "H1H-Xymcu6wP"
      },
      "id": "H1H-Xymcu6wP"
    },
    {
      "cell_type": "code",
      "source": [
        "os.makedirs('/content/drive/MyDrive/ds/pretrained_models', exist_ok=True)"
      ],
      "metadata": {
        "id": "DNJCyqMfveZk"
      },
      "id": "DNJCyqMfveZk",
      "execution_count": null,
      "outputs": []
    },
    {
      "cell_type": "code",
      "execution_count": null,
      "id": "1798e96d",
      "metadata": {
        "code_folding": [
          18,
          34,
          43,
          62,
          71,
          87,
          105,
          120
        ],
        "id": "1798e96d"
      },
      "outputs": [],
      "source": [
        "# Створимо клас для роботи з попередньо навченими представленнями векторів.\n",
        "class WordEmbedding:\n",
        "\n",
        "    def __init__(self):\n",
        "        self.model = {}\n",
        "\n",
        "    def convert(self, source, ipnut_file_path, output_file_path):\n",
        "        '''\n",
        "        Converts word embeddings from GloVe format to Word2Vec format\n",
        "        '''\n",
        "        if source == 'glove':\n",
        "            glove2word2vec(ipnut_file_path, output_file_path)\n",
        "        elif source in ['word2vec', 'fasttext', 'from_scratch']:\n",
        "            pass\n",
        "        else:\n",
        "            raise ValueError('Possible value of source are glove, word2vec, fasttext, or from_scratch')\n",
        "\n",
        "    def load(self, source, file_path):\n",
        "        '''\n",
        "        Loads a specified word embedding model from a file\n",
        "        '''\n",
        "        print(datetime.datetime.now(), 'start: loading', source)\n",
        "        if source in ['glove', 'fasttext']:\n",
        "            self.model[source] = gensim.models.KeyedVectors.load_word2vec_format(file_path)\n",
        "        elif source in ['word2vec', 'from_scratch']:\n",
        "            self.model[source] = gensim.models.KeyedVectors.load_word2vec_format(file_path, binary=True)\n",
        "        else:\n",
        "            raise ValueError('Possible value of source are glove, word2vec, fasttext, or from_scratch')\n",
        "\n",
        "        print(datetime.datetime.now(), 'end: loading', source)\n",
        "\n",
        "        return self\n",
        "\n",
        "    def get_model(self, source):\n",
        "        '''\n",
        "        Retrieves the loaded word embedding model\n",
        "        '''\n",
        "        if source not in ['glove', 'word2vec', 'fasttext', 'from_scratch']:\n",
        "            raise ValueError('Possible value of source are glove, word2vec, fasttext, or from_scratch')\n",
        "\n",
        "        return self.model[source]\n",
        "\n",
        "    def get_words(self, source, size=None):\n",
        "        '''\n",
        "        Retrieves a list of words from the model\n",
        "        '''\n",
        "        if source not in ['glove', 'word2vec', 'fasttext', 'from_scratch']:\n",
        "            raise ValueError('Possible value of source are glove, word2vec, fasttext, or from_scratch')\n",
        "\n",
        "        if size is None:\n",
        "            return [w for w in self.get_model(source=source).key_to_index]\n",
        "        else:\n",
        "            results = []\n",
        "            for i, word in enumerate(self.get_model(source=source).key_to_index):\n",
        "                if i >= size:\n",
        "                    break\n",
        "                results.append(word)\n",
        "            return results\n",
        "\n",
        "        return Exception('Unexpected flow')\n",
        "\n",
        "    def get_dimension(self, source):\n",
        "        '''\n",
        "        Retrieves the dimension of word vectors in the model\n",
        "        '''\n",
        "        if source not in ['glove', 'word2vec', 'fasttext', 'from_scratch']:\n",
        "            raise ValueError('Possible value of source are glove, word2vec, fasttext, or from_scratch')\n",
        "\n",
        "        return self.get_model(source=source).vectors[0].shape[0]\n",
        "\n",
        "    def get_vectors(self, source, words=None):\n",
        "        '''\n",
        "        Retrieves vectors for specified words or for all words in the model\n",
        "        '''\n",
        "        if source not in ['glove', 'word2vec', 'fasttext', 'from_scratch']:\n",
        "            raise ValueError('Possible value of source are glove, word2vec, fasttext, or from_scratch')\n",
        "\n",
        "        if words is None:\n",
        "            words = self.get_words(source=source)\n",
        "\n",
        "        embedding = np.empty((len(words), self.get_dimension(source=source)), dtype=np.float32)\n",
        "        for i, word in enumerate(words):\n",
        "            embedding[i] = self.get_vector(source=source, word=word)\n",
        "\n",
        "        return embedding\n",
        "\n",
        "    def get_vector(self, source, word):\n",
        "        '''\n",
        "        Retrieves the vector representation of a single word\n",
        "        '''\n",
        "        if source not in ['glove', 'word2vec', 'fasttext', 'from_scratch']:\n",
        "            raise ValueError('Possible value of source are glove, word2vec, fasttext, or from_scratch')\n",
        "\n",
        "        if source not in self.model:\n",
        "            raise ValueError('Did not load %s model yet' % source)\n",
        "\n",
        "        try:\n",
        "            return self.model[source][word]\n",
        "        except KeyError as e:\n",
        "            dims = self.model[source][0].shape\n",
        "            vect = np.empty(dims)\n",
        "            vect[:] = np.nan\n",
        "            return vect\n",
        "\n",
        "    def get_synonym(self, source, word, topn=5):\n",
        "        '''\n",
        "        Retrieves synonyms for a given word\n",
        "        '''\n",
        "        if source not in ['glove', 'word2vec', 'fasttext', 'from_scratch']:\n",
        "            raise ValueError('Possible value of source are glove, word2vec, fasttext, or from_scratch')\n",
        "\n",
        "        if source not in self.model:\n",
        "            raise ValueError('Did not load %s model yet' % source)\n",
        "\n",
        "        try:\n",
        "            return self.model[source].most_similar(positive=word, topn=topn)\n",
        "        except KeyError as e:\n",
        "            raise\n",
        "\n",
        "    def get_distance_between_two_words(self, source, word1, word2):\n",
        "        '''\n",
        "        Calculates cosine similarity between two words in the model\n",
        "        '''\n",
        "        if source not in ['glove', 'word2vec', 'fasttext', 'from_scratch']:\n",
        "            raise ValueError('Possible value of source are glove, word2vec, fasttext, or from_scratch')\n",
        "\n",
        "        if source not in self.model:\n",
        "            raise ValueError('Did not load %s model yet' % source)\n",
        "\n",
        "        try:\n",
        "            return self.model[source].similarity(word1, word2)\n",
        "        except KeyError as e:\n",
        "            raise"
      ]
    },
    {
      "cell_type": "markdown",
      "source": [
        "# Pretrained"
      ],
      "metadata": {
        "id": "Pqd0Y2D7FLgf"
      },
      "id": "Pqd0Y2D7FLgf"
    },
    {
      "cell_type": "code",
      "execution_count": null,
      "id": "4158293c",
      "metadata": {
        "id": "4158293c"
      },
      "outputs": [],
      "source": [
        "# Створимо змінні, які будуть зберігати посилання на ваги претренованих векторів (pre-trained word vectors).\n",
        "word2vec_file_path = '/content/drive/MyDrive/ds/pretrained_models/GoogleNews-vectors-negative300.bin'\n",
        "\n",
        "fasttext_file_path = '/content/drive/MyDrive/ds/pretrained_models/wiki-news-300d-1M.vec'\n",
        "\n",
        "from_scratch_file_path = '/content/drive/MyDrive/ds/saved_models/model_emb_from_scratch.bin'\n",
        "\n",
        "# adding absolute path for correct gensim work\n",
        "downloaded_glove_file_path = '/content/drive/MyDrive/ds/pretrained_models' + '/glove.6B.50d.txt'\n",
        "glove_file_path = '/content/drive/MyDrive/ds/pretrained_models' + '/glove.6B.50d.vec'"
      ]
    },
    {
      "cell_type": "markdown",
      "id": "4617ab69",
      "metadata": {
        "id": "4617ab69"
      },
      "source": [
        "____"
      ]
    },
    {
      "cell_type": "code",
      "execution_count": null,
      "id": "3abe42ea",
      "metadata": {
        "id": "3abe42ea",
        "outputId": "233804f5-9d65-48ae-dae5-d2340dd6bd9a",
        "colab": {
          "base_uri": "https://localhost:8080/"
        }
      },
      "outputs": [
        {
          "output_type": "execute_result",
          "data": {
            "text/plain": [
              "6683"
            ]
          },
          "metadata": {},
          "execution_count": 17
        }
      ],
      "source": [
        "# Завантажимо деякі із претренованих векторів.\n",
        "# Завантаження усіх векторів разом може призвести до того, що в робочої машини закінчиться доступна робоча пам’ять.\n",
        "# Щоб протестувати всі вектори, можна почергово їх завантажувати.\n",
        "# Для цього можна видаляти об’єкт word_embedding і створювати його заново, підвантажуючи методом load нові вектори.\n",
        "# Також радимо використовувати gc.collect() після видалення, але до завантаження нових векторів.\n",
        "gc.collect()"
      ]
    },
    {
      "cell_type": "code",
      "execution_count": null,
      "id": "3e317159",
      "metadata": {
        "id": "3e317159"
      },
      "outputs": [],
      "source": [
        "word_embedding = WordEmbedding()"
      ]
    },
    {
      "cell_type": "code",
      "execution_count": null,
      "id": "5a68d1c1",
      "metadata": {
        "id": "5a68d1c1",
        "outputId": "39c5c14b-25fe-4904-d601-33862efea170",
        "colab": {
          "base_uri": "https://localhost:8080/"
        }
      },
      "outputs": [
        {
          "output_type": "stream",
          "name": "stderr",
          "text": [
            "<ipython-input-15-b71f5da492b4>:12: DeprecationWarning: Call to deprecated `glove2word2vec` (KeyedVectors.load_word2vec_format(.., binary=False, no_header=True) loads GLoVE text vectors.).\n",
            "  glove2word2vec(ipnut_file_path, output_file_path)\n"
          ]
        }
      ],
      "source": [
        "# Нам потрібно перетворити текстовий файл, завантажений із вебсайту GloVe, у векторний формат.\n",
        "# We may need to convert text file (downloaed from GloVe website) to vector format\n",
        "word_embedding.convert(source='glove', ipnut_file_path=downloaded_glove_file_path, output_file_path=glove_file_path)"
      ]
    },
    {
      "cell_type": "code",
      "execution_count": null,
      "id": "59db1349",
      "metadata": {
        "id": "59db1349",
        "outputId": "f05c3e2e-9165-474d-da0d-3fa9eb466609",
        "colab": {
          "base_uri": "https://localhost:8080/"
        }
      },
      "outputs": [
        {
          "output_type": "stream",
          "name": "stdout",
          "text": [
            "2024-11-28 23:26:57.636710 start: loading glove\n",
            "2024-11-28 23:27:19.298151 end: loading glove\n",
            "2024-11-28 23:27:19.299073 start: loading from_scratch\n",
            "2024-11-28 23:27:19.314309 end: loading from_scratch\n",
            "CPU times: user 18.4 s, sys: 482 ms, total: 18.9 s\n",
            "Wall time: 21.7 s\n"
          ]
        },
        {
          "output_type": "execute_result",
          "data": {
            "text/plain": [
              "<__main__.WordEmbedding at 0x7a8f4f20f100>"
            ]
          },
          "metadata": {},
          "execution_count": 20
        }
      ],
      "source": [
        "%%time\n",
        "# word_embedding.load(source='word2vec', file_path=word2vec_file_path)\n",
        "word_embedding.load(source='glove', file_path=glove_file_path)\n",
        "# word_embedding.load(source='fasttext', file_path=fasttext_file_path)\n",
        "word_embedding.load(source='from_scratch', file_path=from_scratch_file_path)\n",
        "# word_embedding.load(source='from_scratch', file_path='/content/drive/MyDrive/ds/saved_models/model_emb_from_scratch.bin')"
      ]
    },
    {
      "cell_type": "code",
      "execution_count": null,
      "id": "be6c2700",
      "metadata": {
        "scrolled": true,
        "id": "be6c2700",
        "outputId": "261ef796-237f-402b-99b3-2713d2f222a3",
        "colab": {
          "base_uri": "https://localhost:8080/"
        }
      },
      "outputs": [
        {
          "output_type": "stream",
          "name": "stdout",
          "text": [
            "Source: glove\n",
            "[ 0.45281  -0.50108  -0.53714  -0.015697  0.22191   0.54602  -0.67301\n",
            " -0.6891    0.63493  -0.19726   0.33685   0.7735    0.90094   0.38488\n",
            "  0.38367   0.2657   -0.08057   0.61089  -1.2894   -0.22313  -0.61578\n",
            "  0.21697   0.35614   0.44499   0.60885  -1.1633   -1.1579    0.36118\n",
            "  0.10466  -0.78325   1.4352    0.18629  -0.26112   0.83275  -0.23123\n",
            "  0.32481   0.14485  -0.44552   0.33497  -0.95946  -0.097479  0.48138\n",
            " -0.43352   0.69455   0.91043  -0.28173   0.41637  -1.2609    0.71278\n",
            "  0.23782 ]\n",
            "50\n",
            "Source: from_scratch\n",
            "[ 0.3097511   0.33140612  0.30182797  0.5758203  -0.2507634   0.4231797\n",
            "  0.14636606  0.12895049 -0.83914423 -0.7582179   0.5683815  -0.46782738\n",
            "  0.22636564  0.45465946  0.04395078 -0.39497793  0.42294684 -0.13995351\n",
            " -0.65678287 -0.9399801   0.04449884  0.2765523  -0.681809    0.03739413\n",
            " -0.81522834  0.25091857  0.22914734  0.13299593  0.03479294  0.07422868\n",
            "  0.33917722  0.24414684 -0.01529722  0.09588169 -0.41528258  0.4311404\n",
            " -0.24918018 -1.0130943  -0.07617402 -1.2929239   0.02028747  0.487367\n",
            "  0.6506743  -0.21025611  0.78995335  0.30239072 -0.17125826 -0.4574524\n",
            "  0.38665342 -0.22734272 -0.40695477  0.30972904 -0.37981611 -0.28304833\n",
            " -0.0677528   0.7958316  -0.24728788  0.6103283  -0.14110716 -0.14032935\n",
            "  0.36406875  0.31611007 -0.4687483  -0.57845604 -0.39754266  0.16888432\n",
            " -0.76980543 -0.4119758  -0.5640407   0.35596648 -0.14471532  0.3202438\n",
            "  0.22794858 -0.16604184  0.5587925  -0.0028459   0.69239175 -0.38224143\n",
            " -0.9930889  -0.05809083 -0.09688873  0.09920874 -0.5536997   0.8194386\n",
            " -0.37902927  0.13263068 -0.09558142 -0.46365935  1.0268729   0.31124276\n",
            " -0.22470534 -0.53819585 -0.31837445  0.52860314  0.24520642 -0.35907018\n",
            "  0.392928   -0.14382815  0.82585895 -0.24931079]\n",
            "100\n"
          ]
        }
      ],
      "source": [
        "# Get vectors\n",
        "# Подивимося на векторне представлення слова «cat», використовуючи різні ембединги.\n",
        "\n",
        "for source in ['glove', 'from_scratch']: # 'word2vec', 'fasttext',\n",
        "    print('Source: %s' % (source))\n",
        "    print(word_embedding.get_vector(source=source, word='cat'))\n",
        "    print(len(word_embedding.get_vector(source=source, word='cat')))"
      ]
    },
    {
      "cell_type": "code",
      "execution_count": null,
      "id": "20c4bf10",
      "metadata": {
        "id": "20c4bf10",
        "outputId": "eb4d8bda-b5aa-4b76-8a31-ef0be795289c",
        "colab": {
          "base_uri": "https://localhost:8080/"
        }
      },
      "outputs": [
        {
          "output_type": "stream",
          "name": "stdout",
          "text": [
            "Source: glove\n",
            "[('dog', 0.9218006134033203), ('rabbit', 0.8487821221351624), ('monkey', 0.8041081428527832), ('rat', 0.7891963124275208), ('cats', 0.7865270972251892)]\n",
            "Source: from_scratch\n",
            "[('dog', 0.981605589389801), ('treat', 0.9735870361328125), ('feed', 0.9633387327194214), ('food', 0.9562637805938721), ('they', 0.9188718795776367)]\n"
          ]
        }
      ],
      "source": [
        "# У вихідному векторі, отриманому з виклику моделей GloVe і натренованої нами Word2Vec для слова «cat»,\n",
        "# кожна з 50 (100) координат представляє певні семантичні характеристики цього слова у просторі високої розмірності.\n",
        "\n",
        "# Виведемо найбільш близькі за значенням до слова «cat» слова.\n",
        "# Для цього викличемо метод get_synonym, який у свою чергу викликає метод most_similar моделі.\n",
        "# Метод most_similar використовує косинусну подібність як міру близькості слів у n-мірному просторі.\n",
        "\n",
        "# Get Most Similar Words\n",
        "\n",
        "for source in ['glove', 'from_scratch']: # ,, 'word2vec', 'fasttext'\n",
        "    print('Source: %s' % (source))\n",
        "    print(word_embedding.get_synonym(source=source, word='cat', topn=5))"
      ]
    },
    {
      "cell_type": "markdown",
      "source": [
        "У порівнянні двох моделей — GloVe і моделі, навченої з нуля, — можна побачити різницю в наборі найбільш схожих слів для слова «cat».\n",
        "\n",
        "\n",
        "\n",
        "Для GloVe найбільш схожі слова включають «dog», «rabbit», «monkey», «rat» і «cats». Ці слова мають семантичні зв'язки з «cat», такі як тварини або домашні улюбленці.\n",
        "\n",
        "\n",
        "\n",
        "Для моделі, навченої з нуля, найбільш схожі слова — «dog», «treat», «feed», «food» і «they». Ці слова можуть вказувати на контекст відношень між «cat» і його поведінкою або діями, такими як «treat» і «feed». Цей результат стає очевидним, якщо пригадати специфіку нашого тренувального набору даних.\n",
        "\n",
        "\n",
        "\n",
        "👉🏻 Зауважимо, що GloVe, як попередньо навчена модель, базується на глобальних статистиках корпусу текстів, тоді як модель, навчена з нуля, була навчена на конкретній тематиці, що відображається в її результатах."
      ],
      "metadata": {
        "id": "q5ELeYB1BKjw"
      },
      "id": "q5ELeYB1BKjw"
    },
    {
      "cell_type": "code",
      "execution_count": null,
      "id": "2fd1d0e9",
      "metadata": {
        "id": "2fd1d0e9",
        "outputId": "60c91788-302c-4c77-d564-326364bad26b",
        "colab": {
          "base_uri": "https://localhost:8080/"
        }
      },
      "outputs": [
        {
          "output_type": "stream",
          "name": "stdout",
          "text": [
            "Source: glove\n",
            "0.7839043\n"
          ]
        }
      ],
      "source": [
        "# Ми також можемо виміряти косинусну подібність між двома словами:\n",
        "# Get Distance\n",
        "\n",
        "w1 = 'king'\n",
        "w2 = 'queen'\n",
        "\n",
        "for source in ['glove']: # 'word2vec', 'fasttext'\n",
        "    print('Source: %s' % (source))\n",
        "    print(word_embedding.get_distance_between_two_words(source=source,word1=w1, word2=w2))"
      ]
    },
    {
      "cell_type": "markdown",
      "source": [
        "Косинусна подібність між словами «king» і «queen» становить 0.78. Це високе значення близькості, що вказує на семантичну асоціацію між цими словами.\n",
        "\n",
        "\n",
        "\n",
        "У звичайному використанні «king» (король) і «queen» (королева) часто належать до пари термінів, які описують монархію або монархічне правління. Таким чином, висока косинусна подібність відображає семантичну близькість між цими словами в контексті подібних концепцій або суспільних ролей."
      ],
      "metadata": {
        "id": "d4XqSi_pBXH2"
      },
      "id": "d4XqSi_pBXH2"
    },
    {
      "cell_type": "code",
      "execution_count": null,
      "id": "ea796521",
      "metadata": {
        "id": "ea796521"
      },
      "outputs": [],
      "source": [
        "del word_embedding"
      ]
    },
    {
      "cell_type": "code",
      "execution_count": null,
      "id": "e899f020",
      "metadata": {
        "id": "e899f020",
        "outputId": "9a23b6a1-c973-4093-c8c4-c89e3103a795",
        "colab": {
          "base_uri": "https://localhost:8080/"
        }
      },
      "outputs": [
        {
          "output_type": "execute_result",
          "data": {
            "text/plain": [
              "0"
            ]
          },
          "metadata": {},
          "execution_count": 25
        }
      ],
      "source": [
        "gc.collect()"
      ]
    },
    {
      "cell_type": "markdown",
      "id": "90411fc5",
      "metadata": {
        "id": "90411fc5"
      },
      "source": [
        "___"
      ]
    },
    {
      "cell_type": "markdown",
      "id": "2e823141",
      "metadata": {
        "id": "2e823141"
      },
      "source": [
        "**Important**\n",
        "\n",
        "At this point, your machine may run out of memory. In the next step, the kernel may die.\n",
        "It's highly recommended to restart the kernel and run everything till the following part:\n",
        "\n",
        "```\n",
        "word2vec_file_path = '../pretrained_models/GoogleNews-vectors-negative300.bin'\n",
        "\n",
        "fasttext_file_path = '../pretrained_models/wiki-news-300d-1M.vec'\n",
        "\n",
        "from_scratch_file_path = '../saved_models/model_emb_from_scratch.bin'\n",
        "\n",
        "# adding absolute path for correct gensim work\n",
        "downloaded_glove_file_path = '../pretrained_models' + '/glove.6B.50d.txt'\n",
        "glove_file_path = '../pretrained_models' + '/glove.6B.50d.vec'word2vec_file_path = '../pretrained_models/GoogleNews-vectors-negative300.bin'\n",
        "\n",
        "fasttext_file_path = '../pretrained_models/wiki-news-300d-1M.vec'\n",
        "\n",
        "from_scratch_file_path = '../saved_models/model_emb_from_scratch.bin'\n",
        "\n",
        "# adding absolute path for correct gensim work\n",
        "downloaded_glove_file_path = '../pretrained_models' + '/glove.6B.50d.txt'\n",
        "glove_file_path = '../pretrained_models' + '/glove.6B.50d.vec'\n",
        "```\n",
        "\n",
        "Skip the code after (this code is separated with the markdown) and proceed running the code starting the next cell."
      ]
    },
    {
      "cell_type": "markdown",
      "source": [
        "# Візуалізація ембедингів\n",
        "\n",
        "Векторні представлення слів зазвичай мають високі розмірності (50, 100, 300). Щоб їх візуалізувати, ми зменшимо розмірність до двох вимірів.\n",
        "\n",
        "Використаємо алгоритм t-SNE замість уже відомого нам PCA.\n",
        "t-SNE (t-Distributed Stochastic Neighbor Embedding) — це алгоритм зменшення розмірності, який часто використовується для візуалізації високовимірних даних у 2D- або 3D-просторі.\n",
        "\n",
        "Алгоритм роботи t-SNE:\n",
        "1. Перетворення відстаней у ймовірності\n",
        " - t-SNE розраховує ймовірності схожості між парами точок у високовимірному просторі. Чим ближче точки одна до одної, тим вища ймовірність.\n",
        " - t-SNE також розраховує ймовірності схожості між парами точок у низьковимірному просторі (2D або 3D).\n",
        "2. Мінімізація різниці між просторами\n",
        "\n",
        " Алгоритм намагається мінімізувати різницю між імовірностями у високовимірному й низьковимірному просторах, використовуючи спеціальну функцію втрат (Kullback-Leibler divergence).\n",
        "\n",
        "Kullback-Leibler (KL) divergence, або дивергенція Кульбака-Лейблера — це міра відмінності між двома ймовірнісними розподілами.\n",
        "\n",
        "KL-дивергенція показує, наскільки один розподіл Q відрізняється від іншого розподілу P. Вона не є симетричною, тобто DKL(P∥Q) =/ DKL​(Q∥P) . У машинному навчанні вона використовується для оцінки ефективності моделей, порівнюючи розподіл прогнозованих значень з реальними даними.\n",
        "\n",
        "Алгоритм t-SNE мінімізує KL-дивергенцію між імовірностями у високовимірному й низьковимірному просторах, щоб зберегти структуру даних під час зменшення розмірності.\n",
        "\n",
        "3. Оптимізація розташування точок\n",
        "\n",
        " t-SNE оптимізує розташування точок у низьковимірному просторі так, щоб зберегти локальні структури даних, тобто точки, які були близькими у високовимірному просторі, залишаються близькими і у 2D або 3D просторі.\n",
        "\n",
        "Якщо мета — візуалізація - t-SNE є найкращим вибором\n",
        "якщо потрібно швидко й ефективно зменшити розмірність даних перед подальшою обробкою, зберігаючи глобальну структуру, PCA є більш доречним варіантом. PCA також краще підходить для роботи з великими наборами даних, оскільки є менш вимогливим до обчислювальних ресурсів."
      ],
      "metadata": {
        "id": "NB2m1xlHB0jI"
      },
      "id": "NB2m1xlHB0jI"
    },
    {
      "cell_type": "code",
      "execution_count": null,
      "id": "60b2432a",
      "metadata": {
        "id": "60b2432a"
      },
      "outputs": [],
      "source": [
        "# Візуалізуємо ряд ключових слів keys і найближчих до них слів, використовуючи алгоритм Word2Vec.\n",
        "# Для кожного ключового слова знайдемо 10 найближчих слів і відповідні їм вектори.\n",
        "model = gensim.models.KeyedVectors.load_word2vec_format(word2vec_file_path, binary=True)"
      ]
    },
    {
      "cell_type": "code",
      "execution_count": null,
      "id": "69fc678e",
      "metadata": {
        "id": "69fc678e"
      },
      "outputs": [],
      "source": [
        "keys = ['Paris', 'Python', 'Sunday', 'Shakespeare', 'Twitter', 'bachelor', 'delivery', 'election', 'expensive',\n",
        "        'experience', 'financial', 'food', 'iOS', 'release']\n",
        "\n",
        "embedding_clusters = []\n",
        "word_clusters = []\n",
        "\n",
        "for word in keys:\n",
        "    embeddings = []\n",
        "    words = []\n",
        "    for similar_word, _ in model.most_similar(word, topn=10):\n",
        "        words.append(similar_word)\n",
        "        embeddings.append(model[similar_word])\n",
        "    embedding_clusters.append(embeddings)\n",
        "    word_clusters.append(words)"
      ]
    },
    {
      "cell_type": "code",
      "execution_count": null,
      "id": "1fab3810",
      "metadata": {
        "id": "1fab3810",
        "outputId": "22ec86f7-e6a8-478b-e7ea-cc8584aa32af",
        "colab": {
          "base_uri": "https://localhost:8080/"
        }
      },
      "outputs": [
        {
          "output_type": "stream",
          "name": "stderr",
          "text": [
            "/usr/local/lib/python3.10/dist-packages/sklearn/manifold/_t_sne.py:1162: FutureWarning: 'n_iter' was renamed to 'max_iter' in version 1.5 and will be removed in 1.7.\n",
            "  warnings.warn(\n"
          ]
        },
        {
          "output_type": "execute_result",
          "data": {
            "text/plain": [
              "(14, 10, 2)"
            ]
          },
          "metadata": {},
          "execution_count": 28
        }
      ],
      "source": [
        "# Підготуємо дані для візуалізації. Будемо переводити наші 300-вимірні вектори у 2-вимірні (параметр n_components).\n",
        "# perplexity пов’язана з кількістю найближчих сусідів, яка використовується в інших різноманітних алгоритмах навчання.\n",
        "# Більші набори даних зазвичай вимагають більшого значення perplexity.\n",
        "# Рекомендованим є значення від 5 до 50. Різні значення можуть призвести до суттєво різних результатів.\n",
        "# Ми маємо відносно невеликий набір даних розмірності (14, 10, 300), тому встановимо цей показник рівним 10.\n",
        "\n",
        "# Для кращої глобальної стабільності використаємо ініціалізацію PCA.\n",
        "\n",
        "embedding_clusters = np.array(embedding_clusters)\n",
        "n, m, k = embedding_clusters.shape\n",
        "\n",
        "tsne_model_en_2d = TSNE(\n",
        "    perplexity=10, # The perplexity is related to the number of nearest neighbors\n",
        "                   # that is used in other manifold learning algorithms\n",
        "    n_components=2, # Dimension of the embedded space\n",
        "    init='pca', # PCA initialization cannot be used with precomputed distances and is\n",
        "                # usually more globally stable than random initialization\n",
        "    n_iter=3500, # Maximum number of iterations for the optimization. Should be at least 250\n",
        "    random_state=42\n",
        ")\n",
        "\n",
        "embeddings_en_2d = np.array(\n",
        "    tsne_model_en_2d.fit_transform(embedding_clusters.reshape(n * m, k))).reshape(n, m, 2)\n",
        "\n",
        "embeddings_en_2d.shape"
      ]
    },
    {
      "cell_type": "code",
      "execution_count": null,
      "id": "5d486ab7",
      "metadata": {
        "id": "5d486ab7",
        "outputId": "63563f16-0ecc-4814-8132-df654c9f2299",
        "colab": {
          "base_uri": "https://localhost:8080/"
        }
      },
      "outputs": [
        {
          "output_type": "execute_result",
          "data": {
            "text/plain": [
              "(14, 10, 300)"
            ]
          },
          "metadata": {},
          "execution_count": 29
        }
      ],
      "source": [
        "embedding_clusters.shape"
      ]
    },
    {
      "cell_type": "code",
      "execution_count": null,
      "id": "adeade79",
      "metadata": {
        "id": "adeade79"
      },
      "outputs": [],
      "source": [
        "# Також створимо функцію для візуалізації та візуалізуємо наші дані.\n",
        "def tsne_plot_similar_words(title, labels, embedding_clusters, word_clusters, alpha, filename=None):\n",
        "\n",
        "    plt.figure(figsize=(16, 9))\n",
        "    colors = cm.rainbow(np.linspace(0, 1, len(labels)))\n",
        "\n",
        "    for label, embeddings, words, color in zip(labels, embedding_clusters, word_clusters, colors):\n",
        "        x = embeddings[:, 0]\n",
        "        y = embeddings[:, 1]\n",
        "        plt.scatter(x, y, color=color, alpha=alpha, label=label, )\n",
        "        for i, word in enumerate(words):\n",
        "            plt.annotate(word, alpha=0.5, xy=(x[i], y[i]), xytext=(5, 2),\n",
        "                         textcoords='offset points', ha='right', va='bottom', size=8)\n",
        "    plt.legend(loc=4)\n",
        "    plt.title(title)\n",
        "    plt.grid(True)\n",
        "    if filename:\n",
        "        plt.savefig(filename, format='png', dpi=150, bbox_inches='tight')\n",
        "    plt.show()"
      ]
    },
    {
      "cell_type": "code",
      "execution_count": null,
      "id": "d01b83bf",
      "metadata": {
        "id": "d01b83bf",
        "outputId": "a74cc129-46c6-4b30-9462-984cc0475073",
        "colab": {
          "base_uri": "https://localhost:8080/",
          "height": 744
        }
      },
      "outputs": [
        {
          "output_type": "display_data",
          "data": {
            "text/plain": [
              "<Figure size 1600x900 with 1 Axes>"
            ],
            "image/png": "[encoded data removed]"
          },
          "metadata": {}
        }
      ],
      "source": [
        "tsne_plot_similar_words('Similar words from Google News', keys, embeddings_en_2d, word_clusters, 0.8)"
      ]
    },
    {
      "cell_type": "markdown",
      "source": [
        "Алгоритм Word2Vec успішно виявив і згрупував схожі слова в семантичні кластери. Ця модель показує високу здатність розпізнавати контексти та взаємозв'язки між словами на основі їх використання в тексті.\n",
        "\n",
        "\n",
        "Застосування t-SNE для зменшення розмірності також дозволило візуально оцінити якість кластеризації, підтверджуючи ефективність Word2Vec у завданні семантичного аналізу текстових даних."
      ],
      "metadata": {
        "id": "RNEP94fkOCMH"
      },
      "id": "RNEP94fkOCMH"
    },
    {
      "cell_type": "code",
      "execution_count": null,
      "id": "7cb6beb0",
      "metadata": {
        "id": "7cb6beb0"
      },
      "outputs": [],
      "source": [
        "del model"
      ]
    },
    {
      "cell_type": "markdown",
      "source": [
        "# Ембединги як ознаки\n",
        "\n",
        "Word embeddings можна використовувати як ознаки для тренування моделей\n",
        "\n",
        "Переваги: можливість репрезентувати семантичні відношення між словами у векторному просторі. Це дозволяє моделям легше розуміти семантичну схожість між словами й використовувати цю інформацію для різних завдань. (є потужним інструментом)"
      ],
      "metadata": {
        "id": "-xWThIxdOZuo"
      },
      "id": "-xWThIxdOZuo"
    },
    {
      "cell_type": "code",
      "execution_count": null,
      "id": "eda80871",
      "metadata": {
        "id": "eda80871"
      },
      "outputs": [],
      "source": [
        "# Створимо функцію, яка, маючи список токенів, буде отримувати їх векторне представлення.\n",
        "\n",
        "# Далі будемо повертати усереднене значення всіх векторів.\n",
        "# Це робиться тому, що кожне речення буде представлено різною кількістю токенів,\n",
        "# але для тренування моделі кожне вхідне речення має містити однакову кількість ознак.\n",
        "# Саме тому ми усереднюємо значення векторів для всіх токенів, щоб отримати представлення відгуку розмірності (1, кількість_вимірів_алгоритму).\n",
        "\n",
        "# Якщо метод усереднення має значення mean, функція обчислює середнє значення векторів. Якщо методом усереднення є sum, функція обчислює суму векторів.\n",
        "\n",
        "# np.nanmean і np.nansum використовуються для обробки випадків, коли отриманий вектор для токена має значення NaN.\n",
        "# Це можливо у випадку, коли даний токен відсутній у словнику моделі.\n",
        "\n",
        "def tok2vec(tokens, source:str, avg:str):\n",
        "    \"\"\"\n",
        "    Given a list of tokens, return their vector representation.\n",
        "    Args:\n",
        "        tokens: List(str) tokenized input\n",
        "        source: embedding algorithm to use with the WordEmbedding object\n",
        "        avg: vectors averaging method - `sum` or `mean` of all vectors\n",
        "    \"\"\"\n",
        "    vects = word_embedding.get_vectors(source=source, words=tokens)\n",
        "\n",
        "    if avg == 'mean':\n",
        "        return np.nanmean(vects, axis=0)\n",
        "    elif avg == 'sum':\n",
        "        return np.nansum(vects, axis=0)\n",
        "    else:\n",
        "        raise ValueError('Select correct averaging method: sum or mean')"
      ]
    },
    {
      "cell_type": "code",
      "execution_count": null,
      "id": "41d6e70f",
      "metadata": {
        "id": "41d6e70f"
      },
      "outputs": [],
      "source": [
        "# Оновимо об’єкт WordEmbedding. Поекспериментуємо і цього разу попрацюємо з претренованими векторами Word2Vec.\n",
        "word_embedding = WordEmbedding()"
      ]
    },
    {
      "cell_type": "code",
      "execution_count": null,
      "id": "339221a6",
      "metadata": {
        "id": "339221a6",
        "outputId": "46b99376-6520-4ed9-bf00-57d520051a83",
        "colab": {
          "base_uri": "https://localhost:8080/"
        }
      },
      "outputs": [
        {
          "output_type": "execute_result",
          "data": {
            "text/plain": [
              "8249"
            ]
          },
          "metadata": {},
          "execution_count": 35
        }
      ],
      "source": [
        "gc.collect()"
      ]
    },
    {
      "cell_type": "code",
      "execution_count": null,
      "id": "0f7269a4",
      "metadata": {
        "id": "0f7269a4",
        "outputId": "ac3a4a6c-4cc2-40bf-d27e-b4f9dbcd4a56",
        "colab": {
          "base_uri": "https://localhost:8080/"
        }
      },
      "outputs": [
        {
          "output_type": "stream",
          "name": "stdout",
          "text": [
            "2024-11-28 23:40:58.554533 start: loading word2vec\n",
            "2024-11-28 23:41:56.020507 end: loading word2vec\n"
          ]
        },
        {
          "output_type": "execute_result",
          "data": {
            "text/plain": [
              "<__main__.WordEmbedding at 0x7a8d751c00d0>"
            ]
          },
          "metadata": {},
          "execution_count": 36
        }
      ],
      "source": [
        "source = 'word2vec'\n",
        "\n",
        "word_embedding.load(source=source, file_path=word2vec_file_path)"
      ]
    },
    {
      "cell_type": "code",
      "execution_count": null,
      "id": "245a5c25",
      "metadata": {
        "id": "245a5c25",
        "colab": {
          "base_uri": "https://localhost:8080/",
          "height": 779
        },
        "outputId": "6bc094d8-cbfb-4c4d-9b2e-d901b93af64d"
      },
      "outputs": [
        {
          "output_type": "error",
          "ename": "LookupError",
          "evalue": "\n**********************************************************************\n  Resource \u001b[93mpunkt_tab\u001b[0m not found.\n  Please use the NLTK Downloader to obtain the resource:\n\n  \u001b[31m>>> import nltk\n  >>> nltk.download('punkt_tab')\n  \u001b[0m\n  For more information see: https://www.nltk.org/data.html\n\n  Attempted to load \u001b[93mtokenizers/punkt_tab/english/\u001b[0m\n\n  Searched in:\n    - '/root/nltk_data'\n    - '/usr/nltk_data'\n    - '/usr/share/nltk_data'\n    - '/usr/lib/nltk_data'\n    - '/usr/share/nltk_data'\n    - '/usr/local/share/nltk_data'\n    - '/usr/lib/nltk_data'\n    - '/usr/local/lib/nltk_data'\n**********************************************************************\n",
          "traceback": [
            "\u001b[0;31m---------------------------------------------------------------------------\u001b[0m",
            "\u001b[0;31mLookupError\u001b[0m                               Traceback (most recent call last)",
            "\u001b[0;32m<ipython-input-37-f31a59e8c665>\u001b[0m in \u001b[0;36m<cell line: 8>\u001b[0;34m()\u001b[0m\n\u001b[1;32m      6\u001b[0m \u001b[0mtest_idxs\u001b[0m \u001b[0;34m=\u001b[0m \u001b[0;34m[\u001b[0m\u001b[0midx\u001b[0m \u001b[0;32mfor\u001b[0m \u001b[0midx\u001b[0m \u001b[0;32min\u001b[0m \u001b[0mdf\u001b[0m\u001b[0;34m.\u001b[0m\u001b[0mindex\u001b[0m \u001b[0;32mif\u001b[0m \u001b[0midx\u001b[0m \u001b[0;32mnot\u001b[0m \u001b[0;32min\u001b[0m \u001b[0mtrain_idxs\u001b[0m\u001b[0;34m]\u001b[0m\u001b[0;34m\u001b[0m\u001b[0;34m\u001b[0m\u001b[0m\n\u001b[1;32m      7\u001b[0m \u001b[0;34m\u001b[0m\u001b[0m\n\u001b[0;32m----> 8\u001b[0;31m X_train = df.loc[train_idxs, 'text_normalized'].apply(\n\u001b[0m\u001b[1;32m      9\u001b[0m     word_tokenize).apply(lambda x: tok2vec(x, source, 'mean')).to_numpy()\n\u001b[1;32m     10\u001b[0m \u001b[0;34m\u001b[0m\u001b[0m\n",
            "\u001b[0;32m/usr/local/lib/python3.10/dist-packages/pandas/core/series.py\u001b[0m in \u001b[0;36mapply\u001b[0;34m(self, func, convert_dtype, args, by_row, **kwargs)\u001b[0m\n\u001b[1;32m   4922\u001b[0m             \u001b[0margs\u001b[0m\u001b[0;34m=\u001b[0m\u001b[0margs\u001b[0m\u001b[0;34m,\u001b[0m\u001b[0;34m\u001b[0m\u001b[0;34m\u001b[0m\u001b[0m\n\u001b[1;32m   4923\u001b[0m             \u001b[0mkwargs\u001b[0m\u001b[0;34m=\u001b[0m\u001b[0mkwargs\u001b[0m\u001b[0;34m,\u001b[0m\u001b[0;34m\u001b[0m\u001b[0;34m\u001b[0m\u001b[0m\n\u001b[0;32m-> 4924\u001b[0;31m         ).apply()\n\u001b[0m\u001b[1;32m   4925\u001b[0m \u001b[0;34m\u001b[0m\u001b[0m\n\u001b[1;32m   4926\u001b[0m     def _reindex_indexer(\n",
            "\u001b[0;32m/usr/local/lib/python3.10/dist-packages/pandas/core/apply.py\u001b[0m in \u001b[0;36mapply\u001b[0;34m(self)\u001b[0m\n\u001b[1;32m   1425\u001b[0m \u001b[0;34m\u001b[0m\u001b[0m\n\u001b[1;32m   1426\u001b[0m         \u001b[0;31m# self.func is Callable\u001b[0m\u001b[0;34m\u001b[0m\u001b[0;34m\u001b[0m\u001b[0m\n\u001b[0;32m-> 1427\u001b[0;31m         \u001b[0;32mreturn\u001b[0m \u001b[0mself\u001b[0m\u001b[0;34m.\u001b[0m\u001b[0mapply_standard\u001b[0m\u001b[0;34m(\u001b[0m\u001b[0;34m)\u001b[0m\u001b[0;34m\u001b[0m\u001b[0;34m\u001b[0m\u001b[0m\n\u001b[0m\u001b[1;32m   1428\u001b[0m \u001b[0;34m\u001b[0m\u001b[0m\n\u001b[1;32m   1429\u001b[0m     \u001b[0;32mdef\u001b[0m \u001b[0magg\u001b[0m\u001b[0;34m(\u001b[0m\u001b[0mself\u001b[0m\u001b[0;34m)\u001b[0m\u001b[0;34m:\u001b[0m\u001b[0;34m\u001b[0m\u001b[0;34m\u001b[0m\u001b[0m\n",
            "\u001b[0;32m/usr/local/lib/python3.10/dist-packages/pandas/core/apply.py\u001b[0m in \u001b[0;36mapply_standard\u001b[0;34m(self)\u001b[0m\n\u001b[1;32m   1505\u001b[0m         \u001b[0;31m#  Categorical (GH51645).\u001b[0m\u001b[0;34m\u001b[0m\u001b[0;34m\u001b[0m\u001b[0m\n\u001b[1;32m   1506\u001b[0m         \u001b[0maction\u001b[0m \u001b[0;34m=\u001b[0m \u001b[0;34m\"ignore\"\u001b[0m \u001b[0;32mif\u001b[0m \u001b[0misinstance\u001b[0m\u001b[0;34m(\u001b[0m\u001b[0mobj\u001b[0m\u001b[0;34m.\u001b[0m\u001b[0mdtype\u001b[0m\u001b[0;34m,\u001b[0m \u001b[0mCategoricalDtype\u001b[0m\u001b[0;34m)\u001b[0m \u001b[0;32melse\u001b[0m \u001b[0;32mNone\u001b[0m\u001b[0;34m\u001b[0m\u001b[0;34m\u001b[0m\u001b[0m\n\u001b[0;32m-> 1507\u001b[0;31m         mapped = obj._map_values(\n\u001b[0m\u001b[1;32m   1508\u001b[0m             \u001b[0mmapper\u001b[0m\u001b[0;34m=\u001b[0m\u001b[0mcurried\u001b[0m\u001b[0;34m,\u001b[0m \u001b[0mna_action\u001b[0m\u001b[0;34m=\u001b[0m\u001b[0maction\u001b[0m\u001b[0;34m,\u001b[0m \u001b[0mconvert\u001b[0m\u001b[0;34m=\u001b[0m\u001b[0mself\u001b[0m\u001b[0;34m.\u001b[0m\u001b[0mconvert_dtype\u001b[0m\u001b[0;34m\u001b[0m\u001b[0;34m\u001b[0m\u001b[0m\n\u001b[1;32m   1509\u001b[0m         )\n",
            "\u001b[0;32m/usr/local/lib/python3.10/dist-packages/pandas/core/base.py\u001b[0m in \u001b[0;36m_map_values\u001b[0;34m(self, mapper, na_action, convert)\u001b[0m\n\u001b[1;32m    919\u001b[0m             \u001b[0;32mreturn\u001b[0m \u001b[0marr\u001b[0m\u001b[0;34m.\u001b[0m\u001b[0mmap\u001b[0m\u001b[0;34m(\u001b[0m\u001b[0mmapper\u001b[0m\u001b[0;34m,\u001b[0m \u001b[0mna_action\u001b[0m\u001b[0;34m=\u001b[0m\u001b[0mna_action\u001b[0m\u001b[0;34m)\u001b[0m\u001b[0;34m\u001b[0m\u001b[0;34m\u001b[0m\u001b[0m\n\u001b[1;32m    920\u001b[0m \u001b[0;34m\u001b[0m\u001b[0m\n\u001b[0;32m--> 921\u001b[0;31m         \u001b[0;32mreturn\u001b[0m \u001b[0malgorithms\u001b[0m\u001b[0;34m.\u001b[0m\u001b[0mmap_array\u001b[0m\u001b[0;34m(\u001b[0m\u001b[0marr\u001b[0m\u001b[0;34m,\u001b[0m \u001b[0mmapper\u001b[0m\u001b[0;34m,\u001b[0m \u001b[0mna_action\u001b[0m\u001b[0;34m=\u001b[0m\u001b[0mna_action\u001b[0m\u001b[0;34m,\u001b[0m \u001b[0mconvert\u001b[0m\u001b[0;34m=\u001b[0m\u001b[0mconvert\u001b[0m\u001b[0;34m)\u001b[0m\u001b[0;34m\u001b[0m\u001b[0;34m\u001b[0m\u001b[0m\n\u001b[0m\u001b[1;32m    922\u001b[0m \u001b[0;34m\u001b[0m\u001b[0m\n\u001b[1;32m    923\u001b[0m     \u001b[0;34m@\u001b[0m\u001b[0mfinal\u001b[0m\u001b[0;34m\u001b[0m\u001b[0;34m\u001b[0m\u001b[0m\n",
            "\u001b[0;32m/usr/local/lib/python3.10/dist-packages/pandas/core/algorithms.py\u001b[0m in \u001b[0;36mmap_array\u001b[0;34m(arr, mapper, na_action, convert)\u001b[0m\n\u001b[1;32m   1741\u001b[0m     \u001b[0mvalues\u001b[0m \u001b[0;34m=\u001b[0m \u001b[0marr\u001b[0m\u001b[0;34m.\u001b[0m\u001b[0mastype\u001b[0m\u001b[0;34m(\u001b[0m\u001b[0mobject\u001b[0m\u001b[0;34m,\u001b[0m \u001b[0mcopy\u001b[0m\u001b[0;34m=\u001b[0m\u001b[0;32mFalse\u001b[0m\u001b[0;34m)\u001b[0m\u001b[0;34m\u001b[0m\u001b[0;34m\u001b[0m\u001b[0m\n\u001b[1;32m   1742\u001b[0m     \u001b[0;32mif\u001b[0m \u001b[0mna_action\u001b[0m \u001b[0;32mis\u001b[0m \u001b[0;32mNone\u001b[0m\u001b[0;34m:\u001b[0m\u001b[0;34m\u001b[0m\u001b[0;34m\u001b[0m\u001b[0m\n\u001b[0;32m-> 1743\u001b[0;31m         \u001b[0;32mreturn\u001b[0m \u001b[0mlib\u001b[0m\u001b[0;34m.\u001b[0m\u001b[0mmap_infer\u001b[0m\u001b[0;34m(\u001b[0m\u001b[0mvalues\u001b[0m\u001b[0;34m,\u001b[0m \u001b[0mmapper\u001b[0m\u001b[0;34m,\u001b[0m \u001b[0mconvert\u001b[0m\u001b[0;34m=\u001b[0m\u001b[0mconvert\u001b[0m\u001b[0;34m)\u001b[0m\u001b[0;34m\u001b[0m\u001b[0;34m\u001b[0m\u001b[0m\n\u001b[0m\u001b[1;32m   1744\u001b[0m     \u001b[0;32melse\u001b[0m\u001b[0;34m:\u001b[0m\u001b[0;34m\u001b[0m\u001b[0;34m\u001b[0m\u001b[0m\n\u001b[1;32m   1745\u001b[0m         return lib.map_infer_mask(\n",
            "\u001b[0;32mlib.pyx\u001b[0m in \u001b[0;36mpandas._libs.lib.map_infer\u001b[0;34m()\u001b[0m\n",
            "\u001b[0;32m/usr/local/lib/python3.10/dist-packages/nltk/tokenize/__init__.py\u001b[0m in \u001b[0;36mword_tokenize\u001b[0;34m(text, language, preserve_line)\u001b[0m\n\u001b[1;32m    140\u001b[0m     \u001b[0;34m:\u001b[0m\u001b[0mtype\u001b[0m \u001b[0mpreserve_line\u001b[0m\u001b[0;34m:\u001b[0m \u001b[0mbool\u001b[0m\u001b[0;34m\u001b[0m\u001b[0;34m\u001b[0m\u001b[0m\n\u001b[1;32m    141\u001b[0m     \"\"\"\n\u001b[0;32m--> 142\u001b[0;31m     \u001b[0msentences\u001b[0m \u001b[0;34m=\u001b[0m \u001b[0;34m[\u001b[0m\u001b[0mtext\u001b[0m\u001b[0;34m]\u001b[0m \u001b[0;32mif\u001b[0m \u001b[0mpreserve_line\u001b[0m \u001b[0;32melse\u001b[0m \u001b[0msent_tokenize\u001b[0m\u001b[0;34m(\u001b[0m\u001b[0mtext\u001b[0m\u001b[0;34m,\u001b[0m \u001b[0mlanguage\u001b[0m\u001b[0;34m)\u001b[0m\u001b[0;34m\u001b[0m\u001b[0;34m\u001b[0m\u001b[0m\n\u001b[0m\u001b[1;32m    143\u001b[0m     return [\n\u001b[1;32m    144\u001b[0m         \u001b[0mtoken\u001b[0m \u001b[0;32mfor\u001b[0m \u001b[0msent\u001b[0m \u001b[0;32min\u001b[0m \u001b[0msentences\u001b[0m \u001b[0;32mfor\u001b[0m \u001b[0mtoken\u001b[0m \u001b[0;32min\u001b[0m \u001b[0m_treebank_word_tokenizer\u001b[0m\u001b[0;34m.\u001b[0m\u001b[0mtokenize\u001b[0m\u001b[0;34m(\u001b[0m\u001b[0msent\u001b[0m\u001b[0;34m)\u001b[0m\u001b[0;34m\u001b[0m\u001b[0;34m\u001b[0m\u001b[0m\n",
            "\u001b[0;32m/usr/local/lib/python3.10/dist-packages/nltk/tokenize/__init__.py\u001b[0m in \u001b[0;36msent_tokenize\u001b[0;34m(text, language)\u001b[0m\n\u001b[1;32m    117\u001b[0m     \u001b[0;34m:\u001b[0m\u001b[0mparam\u001b[0m \u001b[0mlanguage\u001b[0m\u001b[0;34m:\u001b[0m \u001b[0mthe\u001b[0m \u001b[0mmodel\u001b[0m \u001b[0mname\u001b[0m \u001b[0;32min\u001b[0m \u001b[0mthe\u001b[0m \u001b[0mPunkt\u001b[0m \u001b[0mcorpus\u001b[0m\u001b[0;34m\u001b[0m\u001b[0;34m\u001b[0m\u001b[0m\n\u001b[1;32m    118\u001b[0m     \"\"\"\n\u001b[0;32m--> 119\u001b[0;31m     \u001b[0mtokenizer\u001b[0m \u001b[0;34m=\u001b[0m \u001b[0m_get_punkt_tokenizer\u001b[0m\u001b[0;34m(\u001b[0m\u001b[0mlanguage\u001b[0m\u001b[0;34m)\u001b[0m\u001b[0;34m\u001b[0m\u001b[0;34m\u001b[0m\u001b[0m\n\u001b[0m\u001b[1;32m    120\u001b[0m     \u001b[0;32mreturn\u001b[0m \u001b[0mtokenizer\u001b[0m\u001b[0;34m.\u001b[0m\u001b[0mtokenize\u001b[0m\u001b[0;34m(\u001b[0m\u001b[0mtext\u001b[0m\u001b[0;34m)\u001b[0m\u001b[0;34m\u001b[0m\u001b[0;34m\u001b[0m\u001b[0m\n\u001b[1;32m    121\u001b[0m \u001b[0;34m\u001b[0m\u001b[0m\n",
            "\u001b[0;32m/usr/local/lib/python3.10/dist-packages/nltk/tokenize/__init__.py\u001b[0m in \u001b[0;36m_get_punkt_tokenizer\u001b[0;34m(language)\u001b[0m\n\u001b[1;32m    103\u001b[0m     \u001b[0;34m:\u001b[0m\u001b[0mtype\u001b[0m \u001b[0mlanguage\u001b[0m\u001b[0;34m:\u001b[0m \u001b[0mstr\u001b[0m\u001b[0;34m\u001b[0m\u001b[0;34m\u001b[0m\u001b[0m\n\u001b[1;32m    104\u001b[0m     \"\"\"\n\u001b[0;32m--> 105\u001b[0;31m     \u001b[0;32mreturn\u001b[0m \u001b[0mPunktTokenizer\u001b[0m\u001b[0;34m(\u001b[0m\u001b[0mlanguage\u001b[0m\u001b[0;34m)\u001b[0m\u001b[0;34m\u001b[0m\u001b[0;34m\u001b[0m\u001b[0m\n\u001b[0m\u001b[1;32m    106\u001b[0m \u001b[0;34m\u001b[0m\u001b[0m\n\u001b[1;32m    107\u001b[0m \u001b[0;34m\u001b[0m\u001b[0m\n",
            "\u001b[0;32m/usr/local/lib/python3.10/dist-packages/nltk/tokenize/punkt.py\u001b[0m in \u001b[0;36m__init__\u001b[0;34m(self, lang)\u001b[0m\n\u001b[1;32m   1742\u001b[0m     \u001b[0;32mdef\u001b[0m \u001b[0m__init__\u001b[0m\u001b[0;34m(\u001b[0m\u001b[0mself\u001b[0m\u001b[0;34m,\u001b[0m \u001b[0mlang\u001b[0m\u001b[0;34m=\u001b[0m\u001b[0;34m\"english\"\u001b[0m\u001b[0;34m)\u001b[0m\u001b[0;34m:\u001b[0m\u001b[0;34m\u001b[0m\u001b[0;34m\u001b[0m\u001b[0m\n\u001b[1;32m   1743\u001b[0m         \u001b[0mPunktSentenceTokenizer\u001b[0m\u001b[0;34m.\u001b[0m\u001b[0m__init__\u001b[0m\u001b[0;34m(\u001b[0m\u001b[0mself\u001b[0m\u001b[0;34m)\u001b[0m\u001b[0;34m\u001b[0m\u001b[0;34m\u001b[0m\u001b[0m\n\u001b[0;32m-> 1744\u001b[0;31m         \u001b[0mself\u001b[0m\u001b[0;34m.\u001b[0m\u001b[0mload_lang\u001b[0m\u001b[0;34m(\u001b[0m\u001b[0mlang\u001b[0m\u001b[0;34m)\u001b[0m\u001b[0;34m\u001b[0m\u001b[0;34m\u001b[0m\u001b[0m\n\u001b[0m\u001b[1;32m   1745\u001b[0m \u001b[0;34m\u001b[0m\u001b[0m\n\u001b[1;32m   1746\u001b[0m     \u001b[0;32mdef\u001b[0m \u001b[0mload_lang\u001b[0m\u001b[0;34m(\u001b[0m\u001b[0mself\u001b[0m\u001b[0;34m,\u001b[0m \u001b[0mlang\u001b[0m\u001b[0;34m=\u001b[0m\u001b[0;34m\"english\"\u001b[0m\u001b[0;34m)\u001b[0m\u001b[0;34m:\u001b[0m\u001b[0;34m\u001b[0m\u001b[0;34m\u001b[0m\u001b[0m\n",
            "\u001b[0;32m/usr/local/lib/python3.10/dist-packages/nltk/tokenize/punkt.py\u001b[0m in \u001b[0;36mload_lang\u001b[0;34m(self, lang)\u001b[0m\n\u001b[1;32m   1747\u001b[0m         \u001b[0;32mfrom\u001b[0m \u001b[0mnltk\u001b[0m\u001b[0;34m.\u001b[0m\u001b[0mdata\u001b[0m \u001b[0;32mimport\u001b[0m \u001b[0mfind\u001b[0m\u001b[0;34m\u001b[0m\u001b[0;34m\u001b[0m\u001b[0m\n\u001b[1;32m   1748\u001b[0m \u001b[0;34m\u001b[0m\u001b[0m\n\u001b[0;32m-> 1749\u001b[0;31m         \u001b[0mlang_dir\u001b[0m \u001b[0;34m=\u001b[0m \u001b[0mfind\u001b[0m\u001b[0;34m(\u001b[0m\u001b[0;34mf\"tokenizers/punkt_tab/{lang}/\"\u001b[0m\u001b[0;34m)\u001b[0m\u001b[0;34m\u001b[0m\u001b[0;34m\u001b[0m\u001b[0m\n\u001b[0m\u001b[1;32m   1750\u001b[0m         \u001b[0mself\u001b[0m\u001b[0;34m.\u001b[0m\u001b[0m_params\u001b[0m \u001b[0;34m=\u001b[0m \u001b[0mload_punkt_params\u001b[0m\u001b[0;34m(\u001b[0m\u001b[0mlang_dir\u001b[0m\u001b[0;34m)\u001b[0m\u001b[0;34m\u001b[0m\u001b[0;34m\u001b[0m\u001b[0m\n\u001b[1;32m   1751\u001b[0m         \u001b[0mself\u001b[0m\u001b[0;34m.\u001b[0m\u001b[0m_lang\u001b[0m \u001b[0;34m=\u001b[0m \u001b[0mlang\u001b[0m\u001b[0;34m\u001b[0m\u001b[0;34m\u001b[0m\u001b[0m\n",
            "\u001b[0;32m/usr/local/lib/python3.10/dist-packages/nltk/data.py\u001b[0m in \u001b[0;36mfind\u001b[0;34m(resource_name, paths)\u001b[0m\n\u001b[1;32m    577\u001b[0m     \u001b[0msep\u001b[0m \u001b[0;34m=\u001b[0m \u001b[0;34m\"*\"\u001b[0m \u001b[0;34m*\u001b[0m \u001b[0;36m70\u001b[0m\u001b[0;34m\u001b[0m\u001b[0;34m\u001b[0m\u001b[0m\n\u001b[1;32m    578\u001b[0m     \u001b[0mresource_not_found\u001b[0m \u001b[0;34m=\u001b[0m \u001b[0;34mf\"\\n{sep}\\n{msg}\\n{sep}\\n\"\u001b[0m\u001b[0;34m\u001b[0m\u001b[0;34m\u001b[0m\u001b[0m\n\u001b[0;32m--> 579\u001b[0;31m     \u001b[0;32mraise\u001b[0m \u001b[0mLookupError\u001b[0m\u001b[0;34m(\u001b[0m\u001b[0mresource_not_found\u001b[0m\u001b[0;34m)\u001b[0m\u001b[0;34m\u001b[0m\u001b[0;34m\u001b[0m\u001b[0m\n\u001b[0m\u001b[1;32m    580\u001b[0m \u001b[0;34m\u001b[0m\u001b[0m\n\u001b[1;32m    581\u001b[0m \u001b[0;34m\u001b[0m\u001b[0m\n",
            "\u001b[0;31mLookupError\u001b[0m: \n**********************************************************************\n  Resource \u001b[93mpunkt_tab\u001b[0m not found.\n  Please use the NLTK Downloader to obtain the resource:\n\n  \u001b[31m>>> import nltk\n  >>> nltk.download('punkt_tab')\n  \u001b[0m\n  For more information see: https://www.nltk.org/data.html\n\n  Attempted to load \u001b[93mtokenizers/punkt_tab/english/\u001b[0m\n\n  Searched in:\n    - '/root/nltk_data'\n    - '/usr/nltk_data'\n    - '/usr/share/nltk_data'\n    - '/usr/lib/nltk_data'\n    - '/usr/share/nltk_data'\n    - '/usr/local/share/nltk_data'\n    - '/usr/lib/nltk_data'\n    - '/usr/local/lib/nltk_data'\n**********************************************************************\n"
          ]
        }
      ],
      "source": [
        "# Розділимо дані на тренувальні й тестові.\n",
        "# Створимо матриці ознак навчальної та тестової вибірок таким чином: токенізуємо змінну text_normalized,\n",
        "# використавши об’єкт-токенайзер бібліотеки nltk — word_tokenize.\n",
        "# Після цього отримаємо векторні представлення наших відгуків, використавши функцію tok2vec.\n",
        "train_idxs = df.sample(frac=0.8, random_state=42).index\n",
        "test_idxs = [idx for idx in df.index if idx not in train_idxs]\n",
        "\n",
        "X_train = df.loc[train_idxs, 'text_normalized'].apply(\n",
        "    word_tokenize).apply(lambda x: tok2vec(x, source, 'mean')).to_numpy()\n",
        "\n",
        "X_test = df.loc[test_idxs, 'text_normalized'].apply(\n",
        "    word_tokenize).apply(lambda x: tok2vec(x, source, 'mean')).to_numpy()\n",
        "\n",
        "X_train = np.stack(X_train, axis=0)\n",
        "X_test = np.stack(X_test, axis=0)\n",
        "\n",
        "y_train = df.loc[train_idxs, 'sentiment']\n",
        "y_test = df.loc[test_idxs, 'sentiment']"
      ]
    },
    {
      "cell_type": "code",
      "execution_count": null,
      "id": "12f9d181",
      "metadata": {
        "id": "12f9d181",
        "outputId": "51846c7f-dba8-487a-ee5e-1425370d1941",
        "colab": {
          "base_uri": "https://localhost:8080/",
          "height": 80
        }
      },
      "outputs": [
        {
          "output_type": "execute_result",
          "data": {
            "text/plain": [
              "LogisticRegression(random_state=42)"
            ],
            "text/html": [
              "<style>#sk-container-id-1 {\n",
              "  /* Definition of color scheme common for light and dark mode */\n",
              "  --sklearn-color-text: black;\n",
              "  --sklearn-color-line: gray;\n",
              "  /* Definition of color scheme for unfitted estimators */\n",
              "  --sklearn-color-unfitted-level-0: #fff5e6;\n",
              "  --sklearn-color-unfitted-level-1: #f6e4d2;\n",
              "  --sklearn-color-unfitted-level-2: #ffe0b3;\n",
              "  --sklearn-color-unfitted-level-3: chocolate;\n",
              "  /* Definition of color scheme for fitted estimators */\n",
              "  --sklearn-color-fitted-level-0: #f0f8ff;\n",
              "  --sklearn-color-fitted-level-1: #d4ebff;\n",
              "  --sklearn-color-fitted-level-2: #b3dbfd;\n",
              "  --sklearn-color-fitted-level-3: cornflowerblue;\n",
              "\n",
              "  /* Specific color for light theme */\n",
              "  --sklearn-color-text-on-default-background: var(--sg-text-color, var(--theme-code-foreground, var(--jp-content-font-color1, black)));\n",
              "  --sklearn-color-background: var(--sg-background-color, var(--theme-background, var(--jp-layout-color0, white)));\n",
              "  --sklearn-color-border-box: var(--sg-text-color, var(--theme-code-foreground, var(--jp-content-font-color1, black)));\n",
              "  --sklearn-color-icon: #696969;\n",
              "\n",
              "  @media (prefers-color-scheme: dark) {\n",
              "    /* Redefinition of color scheme for dark theme */\n",
              "    --sklearn-color-text-on-default-background: var(--sg-text-color, var(--theme-code-foreground, var(--jp-content-font-color1, white)));\n",
              "    --sklearn-color-background: var(--sg-background-color, var(--theme-background, var(--jp-layout-color0, #111)));\n",
              "    --sklearn-color-border-box: var(--sg-text-color, var(--theme-code-foreground, var(--jp-content-font-color1, white)));\n",
              "    --sklearn-color-icon: #878787;\n",
              "  }\n",
              "}\n",
              "\n",
              "#sk-container-id-1 {\n",
              "  color: var(--sklearn-color-text);\n",
              "}\n",
              "\n",
              "#sk-container-id-1 pre {\n",
              "  padding: 0;\n",
              "}\n",
              "\n",
              "#sk-container-id-1 input.sk-hidden--visually {\n",
              "  border: 0;\n",
              "  clip: rect(1px 1px 1px 1px);\n",
              "  clip: rect(1px, 1px, 1px, 1px);\n",
              "  height: 1px;\n",
              "  margin: -1px;\n",
              "  overflow: hidden;\n",
              "  padding: 0;\n",
              "  position: absolute;\n",
              "  width: 1px;\n",
              "}\n",
              "\n",
              "#sk-container-id-1 div.sk-dashed-wrapped {\n",
              "  border: 1px dashed var(--sklearn-color-line);\n",
              "  margin: 0 0.4em 0.5em 0.4em;\n",
              "  box-sizing: border-box;\n",
              "  padding-bottom: 0.4em;\n",
              "  background-color: var(--sklearn-color-background);\n",
              "}\n",
              "\n",
              "#sk-container-id-1 div.sk-container {\n",
              "  /* jupyter's `normalize.less` sets `[hidden] { display: none; }`\n",
              "     but bootstrap.min.css set `[hidden] { display: none !important; }`\n",
              "     so we also need the `!important` here to be able to override the\n",
              "     default hidden behavior on the sphinx rendered scikit-learn.org.\n",
              "     See: https://github.com/scikit-learn/scikit-learn/issues/21755 */\n",
              "  display: inline-block !important;\n",
              "  position: relative;\n",
              "}\n",
              "\n",
              "#sk-container-id-1 div.sk-text-repr-fallback {\n",
              "  display: none;\n",
              "}\n",
              "\n",
              "div.sk-parallel-item,\n",
              "div.sk-serial,\n",
              "div.sk-item {\n",
              "  /* draw centered vertical line to link estimators */\n",
              "  background-image: linear-gradient(var(--sklearn-color-text-on-default-background), var(--sklearn-color-text-on-default-background));\n",
              "  background-size: 2px 100%;\n",
              "  background-repeat: no-repeat;\n",
              "  background-position: center center;\n",
              "}\n",
              "\n",
              "/* Parallel-specific style estimator block */\n",
              "\n",
              "#sk-container-id-1 div.sk-parallel-item::after {\n",
              "  content: \"\";\n",
              "  width: 100%;\n",
              "  border-bottom: 2px solid var(--sklearn-color-text-on-default-background);\n",
              "  flex-grow: 1;\n",
              "}\n",
              "\n",
              "#sk-container-id-1 div.sk-parallel {\n",
              "  display: flex;\n",
              "  align-items: stretch;\n",
              "  justify-content: center;\n",
              "  background-color: var(--sklearn-color-background);\n",
              "  position: relative;\n",
              "}\n",
              "\n",
              "#sk-container-id-1 div.sk-parallel-item {\n",
              "  display: flex;\n",
              "  flex-direction: column;\n",
              "}\n",
              "\n",
              "#sk-container-id-1 div.sk-parallel-item:first-child::after {\n",
              "  align-self: flex-end;\n",
              "  width: 50%;\n",
              "}\n",
              "\n",
              "#sk-container-id-1 div.sk-parallel-item:last-child::after {\n",
              "  align-self: flex-start;\n",
              "  width: 50%;\n",
              "}\n",
              "\n",
              "#sk-container-id-1 div.sk-parallel-item:only-child::after {\n",
              "  width: 0;\n",
              "}\n",
              "\n",
              "/* Serial-specific style estimator block */\n",
              "\n",
              "#sk-container-id-1 div.sk-serial {\n",
              "  display: flex;\n",
              "  flex-direction: column;\n",
              "  align-items: center;\n",
              "  background-color: var(--sklearn-color-background);\n",
              "  padding-right: 1em;\n",
              "  padding-left: 1em;\n",
              "}\n",
              "\n",
              "\n",
              "/* Toggleable style: style used for estimator/Pipeline/ColumnTransformer box that is\n",
              "clickable and can be expanded/collapsed.\n",
              "- Pipeline and ColumnTransformer use this feature and define the default style\n",
              "- Estimators will overwrite some part of the style using the `sk-estimator` class\n",
              "*/\n",
              "\n",
              "/* Pipeline and ColumnTransformer style (default) */\n",
              "\n",
              "#sk-container-id-1 div.sk-toggleable {\n",
              "  /* Default theme specific background. It is overwritten whether we have a\n",
              "  specific estimator or a Pipeline/ColumnTransformer */\n",
              "  background-color: var(--sklearn-color-background);\n",
              "}\n",
              "\n",
              "/* Toggleable label */\n",
              "#sk-container-id-1 label.sk-toggleable__label {\n",
              "  cursor: pointer;\n",
              "  display: block;\n",
              "  width: 100%;\n",
              "  margin-bottom: 0;\n",
              "  padding: 0.5em;\n",
              "  box-sizing: border-box;\n",
              "  text-align: center;\n",
              "}\n",
              "\n",
              "#sk-container-id-1 label.sk-toggleable__label-arrow:before {\n",
              "  /* Arrow on the left of the label */\n",
              "  content: \"▸\";\n",
              "  float: left;\n",
              "  margin-right: 0.25em;\n",
              "  color: var(--sklearn-color-icon);\n",
              "}\n",
              "\n",
              "#sk-container-id-1 label.sk-toggleable__label-arrow:hover:before {\n",
              "  color: var(--sklearn-color-text);\n",
              "}\n",
              "\n",
              "/* Toggleable content - dropdown */\n",
              "\n",
              "#sk-container-id-1 div.sk-toggleable__content {\n",
              "  max-height: 0;\n",
              "  max-width: 0;\n",
              "  overflow: hidden;\n",
              "  text-align: left;\n",
              "  /* unfitted */\n",
              "  background-color: var(--sklearn-color-unfitted-level-0);\n",
              "}\n",
              "\n",
              "#sk-container-id-1 div.sk-toggleable__content.fitted {\n",
              "  /* fitted */\n",
              "  background-color: var(--sklearn-color-fitted-level-0);\n",
              "}\n",
              "\n",
              "#sk-container-id-1 div.sk-toggleable__content pre {\n",
              "  margin: 0.2em;\n",
              "  border-radius: 0.25em;\n",
              "  color: var(--sklearn-color-text);\n",
              "  /* unfitted */\n",
              "  background-color: var(--sklearn-color-unfitted-level-0);\n",
              "}\n",
              "\n",
              "#sk-container-id-1 div.sk-toggleable__content.fitted pre {\n",
              "  /* unfitted */\n",
              "  background-color: var(--sklearn-color-fitted-level-0);\n",
              "}\n",
              "\n",
              "#sk-container-id-1 input.sk-toggleable__control:checked~div.sk-toggleable__content {\n",
              "  /* Expand drop-down */\n",
              "  max-height: 200px;\n",
              "  max-width: 100%;\n",
              "  overflow: auto;\n",
              "}\n",
              "\n",
              "#sk-container-id-1 input.sk-toggleable__control:checked~label.sk-toggleable__label-arrow:before {\n",
              "  content: \"▾\";\n",
              "}\n",
              "\n",
              "/* Pipeline/ColumnTransformer-specific style */\n",
              "\n",
              "#sk-container-id-1 div.sk-label input.sk-toggleable__control:checked~label.sk-toggleable__label {\n",
              "  color: var(--sklearn-color-text);\n",
              "  background-color: var(--sklearn-color-unfitted-level-2);\n",
              "}\n",
              "\n",
              "#sk-container-id-1 div.sk-label.fitted input.sk-toggleable__control:checked~label.sk-toggleable__label {\n",
              "  background-color: var(--sklearn-color-fitted-level-2);\n",
              "}\n",
              "\n",
              "/* Estimator-specific style */\n",
              "\n",
              "/* Colorize estimator box */\n",
              "#sk-container-id-1 div.sk-estimator input.sk-toggleable__control:checked~label.sk-toggleable__label {\n",
              "  /* unfitted */\n",
              "  background-color: var(--sklearn-color-unfitted-level-2);\n",
              "}\n",
              "\n",
              "#sk-container-id-1 div.sk-estimator.fitted input.sk-toggleable__control:checked~label.sk-toggleable__label {\n",
              "  /* fitted */\n",
              "  background-color: var(--sklearn-color-fitted-level-2);\n",
              "}\n",
              "\n",
              "#sk-container-id-1 div.sk-label label.sk-toggleable__label,\n",
              "#sk-container-id-1 div.sk-label label {\n",
              "  /* The background is the default theme color */\n",
              "  color: var(--sklearn-color-text-on-default-background);\n",
              "}\n",
              "\n",
              "/* On hover, darken the color of the background */\n",
              "#sk-container-id-1 div.sk-label:hover label.sk-toggleable__label {\n",
              "  color: var(--sklearn-color-text);\n",
              "  background-color: var(--sklearn-color-unfitted-level-2);\n",
              "}\n",
              "\n",
              "/* Label box, darken color on hover, fitted */\n",
              "#sk-container-id-1 div.sk-label.fitted:hover label.sk-toggleable__label.fitted {\n",
              "  color: var(--sklearn-color-text);\n",
              "  background-color: var(--sklearn-color-fitted-level-2);\n",
              "}\n",
              "\n",
              "/* Estimator label */\n",
              "\n",
              "#sk-container-id-1 div.sk-label label {\n",
              "  font-family: monospace;\n",
              "  font-weight: bold;\n",
              "  display: inline-block;\n",
              "  line-height: 1.2em;\n",
              "}\n",
              "\n",
              "#sk-container-id-1 div.sk-label-container {\n",
              "  text-align: center;\n",
              "}\n",
              "\n",
              "/* Estimator-specific */\n",
              "#sk-container-id-1 div.sk-estimator {\n",
              "  font-family: monospace;\n",
              "  border: 1px dotted var(--sklearn-color-border-box);\n",
              "  border-radius: 0.25em;\n",
              "  box-sizing: border-box;\n",
              "  margin-bottom: 0.5em;\n",
              "  /* unfitted */\n",
              "  background-color: var(--sklearn-color-unfitted-level-0);\n",
              "}\n",
              "\n",
              "#sk-container-id-1 div.sk-estimator.fitted {\n",
              "  /* fitted */\n",
              "  background-color: var(--sklearn-color-fitted-level-0);\n",
              "}\n",
              "\n",
              "/* on hover */\n",
              "#sk-container-id-1 div.sk-estimator:hover {\n",
              "  /* unfitted */\n",
              "  background-color: var(--sklearn-color-unfitted-level-2);\n",
              "}\n",
              "\n",
              "#sk-container-id-1 div.sk-estimator.fitted:hover {\n",
              "  /* fitted */\n",
              "  background-color: var(--sklearn-color-fitted-level-2);\n",
              "}\n",
              "\n",
              "/* Specification for estimator info (e.g. \"i\" and \"?\") */\n",
              "\n",
              "/* Common style for \"i\" and \"?\" */\n",
              "\n",
              ".sk-estimator-doc-link,\n",
              "a:link.sk-estimator-doc-link,\n",
              "a:visited.sk-estimator-doc-link {\n",
              "  float: right;\n",
              "  font-size: smaller;\n",
              "  line-height: 1em;\n",
              "  font-family: monospace;\n",
              "  background-color: var(--sklearn-color-background);\n",
              "  border-radius: 1em;\n",
              "  height: 1em;\n",
              "  width: 1em;\n",
              "  text-decoration: none !important;\n",
              "  margin-left: 1ex;\n",
              "  /* unfitted */\n",
              "  border: var(--sklearn-color-unfitted-level-1) 1pt solid;\n",
              "  color: var(--sklearn-color-unfitted-level-1);\n",
              "}\n",
              "\n",
              ".sk-estimator-doc-link.fitted,\n",
              "a:link.sk-estimator-doc-link.fitted,\n",
              "a:visited.sk-estimator-doc-link.fitted {\n",
              "  /* fitted */\n",
              "  border: var(--sklearn-color-fitted-level-1) 1pt solid;\n",
              "  color: var(--sklearn-color-fitted-level-1);\n",
              "}\n",
              "\n",
              "/* On hover */\n",
              "div.sk-estimator:hover .sk-estimator-doc-link:hover,\n",
              ".sk-estimator-doc-link:hover,\n",
              "div.sk-label-container:hover .sk-estimator-doc-link:hover,\n",
              ".sk-estimator-doc-link:hover {\n",
              "  /* unfitted */\n",
              "  background-color: var(--sklearn-color-unfitted-level-3);\n",
              "  color: var(--sklearn-color-background);\n",
              "  text-decoration: none;\n",
              "}\n",
              "\n",
              "div.sk-estimator.fitted:hover .sk-estimator-doc-link.fitted:hover,\n",
              ".sk-estimator-doc-link.fitted:hover,\n",
              "div.sk-label-container:hover .sk-estimator-doc-link.fitted:hover,\n",
              ".sk-estimator-doc-link.fitted:hover {\n",
              "  /* fitted */\n",
              "  background-color: var(--sklearn-color-fitted-level-3);\n",
              "  color: var(--sklearn-color-background);\n",
              "  text-decoration: none;\n",
              "}\n",
              "\n",
              "/* Span, style for the box shown on hovering the info icon */\n",
              ".sk-estimator-doc-link span {\n",
              "  display: none;\n",
              "  z-index: 9999;\n",
              "  position: relative;\n",
              "  font-weight: normal;\n",
              "  right: .2ex;\n",
              "  padding: .5ex;\n",
              "  margin: .5ex;\n",
              "  width: min-content;\n",
              "  min-width: 20ex;\n",
              "  max-width: 50ex;\n",
              "  color: var(--sklearn-color-text);\n",
              "  box-shadow: 2pt 2pt 4pt #999;\n",
              "  /* unfitted */\n",
              "  background: var(--sklearn-color-unfitted-level-0);\n",
              "  border: .5pt solid var(--sklearn-color-unfitted-level-3);\n",
              "}\n",
              "\n",
              ".sk-estimator-doc-link.fitted span {\n",
              "  /* fitted */\n",
              "  background: var(--sklearn-color-fitted-level-0);\n",
              "  border: var(--sklearn-color-fitted-level-3);\n",
              "}\n",
              "\n",
              ".sk-estimator-doc-link:hover span {\n",
              "  display: block;\n",
              "}\n",
              "\n",
              "/* \"?\"-specific style due to the `<a>` HTML tag */\n",
              "\n",
              "#sk-container-id-1 a.estimator_doc_link {\n",
              "  float: right;\n",
              "  font-size: 1rem;\n",
              "  line-height: 1em;\n",
              "  font-family: monospace;\n",
              "  background-color: var(--sklearn-color-background);\n",
              "  border-radius: 1rem;\n",
              "  height: 1rem;\n",
              "  width: 1rem;\n",
              "  text-decoration: none;\n",
              "  /* unfitted */\n",
              "  color: var(--sklearn-color-unfitted-level-1);\n",
              "  border: var(--sklearn-color-unfitted-level-1) 1pt solid;\n",
              "}\n",
              "\n",
              "#sk-container-id-1 a.estimator_doc_link.fitted {\n",
              "  /* fitted */\n",
              "  border: var(--sklearn-color-fitted-level-1) 1pt solid;\n",
              "  color: var(--sklearn-color-fitted-level-1);\n",
              "}\n",
              "\n",
              "/* On hover */\n",
              "#sk-container-id-1 a.estimator_doc_link:hover {\n",
              "  /* unfitted */\n",
              "  background-color: var(--sklearn-color-unfitted-level-3);\n",
              "  color: var(--sklearn-color-background);\n",
              "  text-decoration: none;\n",
              "}\n",
              "\n",
              "#sk-container-id-1 a.estimator_doc_link.fitted:hover {\n",
              "  /* fitted */\n",
              "  background-color: var(--sklearn-color-fitted-level-3);\n",
              "}\n",
              "</style><div id=\"sk-container-id-1\" class=\"sk-top-container\"><div class=\"sk-text-repr-fallback\"><pre>LogisticRegression(random_state=42)</pre><b>In a Jupyter environment, please rerun this cell to show the HTML representation or trust the notebook. <br />On GitHub, the HTML representation is unable to render, please try loading this page with nbviewer.org.</b></div><div class=\"sk-container\" hidden><div class=\"sk-item\"><div class=\"sk-estimator fitted sk-toggleable\"><input class=\"sk-toggleable__control sk-hidden--visually\" id=\"sk-estimator-id-1\" type=\"checkbox\" checked><label for=\"sk-estimator-id-1\" class=\"sk-toggleable__label fitted sk-toggleable__label-arrow fitted\">&nbsp;&nbsp;LogisticRegression<a class=\"sk-estimator-doc-link fitted\" rel=\"noreferrer\" target=\"_blank\" href=\"https://scikit-learn.org/1.5/modules/generated/sklearn.linear_model.LogisticRegression.html\">?<span>Documentation for LogisticRegression</span></a><span class=\"sk-estimator-doc-link fitted\">i<span>Fitted</span></span></label><div class=\"sk-toggleable__content fitted\"><pre>LogisticRegression(random_state=42)</pre></div> </div></div></div></div>"
            ]
          },
          "metadata": {},
          "execution_count": 35
        }
      ],
      "source": [
        "model = LogisticRegression(random_state=42)\n",
        "model.fit(X_train, y_train)"
      ]
    },
    {
      "cell_type": "code",
      "execution_count": null,
      "id": "63292f00",
      "metadata": {
        "id": "63292f00",
        "outputId": "2f49c869-6382-4c05-f576-a357a09eb6ee",
        "colab": {
          "base_uri": "https://localhost:8080/"
        }
      },
      "outputs": [
        {
          "output_type": "stream",
          "name": "stdout",
          "text": [
            "AUC:  0.8071177944862156\n"
          ]
        }
      ],
      "source": [
        "predictions = model.predict(X_test)\n",
        "\n",
        "print('AUC: ', roc_auc_score(y_test, predictions))"
      ]
    },
    {
      "cell_type": "markdown",
      "source": [
        "Отримання значення AUC, яке рівне 0.8, для натренованої моделі є досить гарним результатом і свідчить про те, що модель виявила досить високу прогностичну здатність.\n",
        "\n",
        "\n",
        "Отримання гіршого результату з використанням усереднених векторів Word2Vec як ознак для логістичної регресії порівняно з використанням методу Bag of Words може мати кілька причин.\n",
        "\n",
        "\n",
        "Під час усереднення векторів Word2Vec усі слова мають однаковий ваговий вплив на підсумковий ознаковий вектор. Однак деякі слова можуть мати більший семантичний вплив на текст, ніж інші. Метод Bag of Words може враховувати це, якщо якісь слова є більш повторювані за інші в певному відгуці.\n",
        "\n",
        "\n",
        "Також використання усереднених векторів Word2Vec може призвести до меншої розмірності ознакового простору порівняно з методом Bag of Words. Менший розмір ознакового простору може спричинити втрату інформації та зменшення точності моделі.\n",
        "\n",
        "\n",
        "👉🏻 Отже, хоча використання усереднених векторів Word2Vec може бути корисним для багатьох завдань у сфері обробки природної мови, для певних завдань він може бути менш ефективним порівняно з іншими методами, такими як Bag of Words."
      ],
      "metadata": {
        "id": "KfBwuQyNQTt1"
      },
      "id": "KfBwuQyNQTt1"
    },
    {
      "cell_type": "code",
      "execution_count": null,
      "id": "962503bc",
      "metadata": {
        "id": "962503bc"
      },
      "outputs": [],
      "source": [
        "# Для подальшої роботи окремо збережемо токенізоване представлення text_normalized.\n",
        "text_tokenized = df['text_normalized'].apply(word_tokenize).to_list()"
      ]
    },
    {
      "cell_type": "code",
      "execution_count": null,
      "id": "4c624c34",
      "metadata": {
        "id": "4c624c34"
      },
      "outputs": [],
      "source": [
        "# Щоб навчити модель Doc2Vec, використовуючи бібліотеку gensim, нам потрібен тегований документ,\n",
        "# який можна створити за допомогою models.doc2vec.TaggedDocument().\n",
        "def tagged_document(list_of_list_of_words):\n",
        "    for i, list_of_words in enumerate(list_of_list_of_words):\n",
        "        yield gensim.models.doc2vec.TaggedDocument(list_of_words, [i])"
      ]
    },
    {
      "cell_type": "code",
      "execution_count": null,
      "id": "fa0100e3",
      "metadata": {
        "id": "fa0100e3"
      },
      "outputs": [],
      "source": [
        "text_tokenized_tagget = list(tagged_document(text_tokenized))"
      ]
    },
    {
      "cell_type": "code",
      "execution_count": null,
      "id": "794dc0d5",
      "metadata": {
        "id": "794dc0d5",
        "outputId": "53c82861-b4f3-428d-a4ae-82ae64ecea85",
        "colab": {
          "base_uri": "https://localhost:8080/"
        }
      },
      "outputs": [
        {
          "output_type": "execute_result",
          "data": {
            "text/plain": [
              "TaggedDocument(words=['try', 'differant', 'brand', 'juice', 'imply', 'get', 'relief', 'arthritis', 'pain', 'save', 'money', 'buy', 'tylenol', 'brand', 'good', 'bland', 'taste', 'nothing', 'pain'], tags=[3])"
            ]
          },
          "metadata": {},
          "execution_count": 40
        }
      ],
      "source": [
        "text_tokenized_tagget[3]"
      ]
    },
    {
      "cell_type": "code",
      "execution_count": null,
      "id": "c7e872e5",
      "metadata": {
        "id": "c7e872e5"
      },
      "outputs": [],
      "source": [
        "# Створимо й натренуємо модель Doc2Vec.\n",
        "model_Doc2Vec = gensim.models.doc2vec.Doc2Vec(vector_size=300, min_count=5, epochs=200)\n",
        "\n",
        "model_Doc2Vec.build_vocab(text_tokenized_tagget)\n",
        "\n",
        "model_Doc2Vec.train(text_tokenized_tagget, total_examples=model_Doc2Vec.corpus_count, epochs=model_Doc2Vec.epochs)"
      ]
    },
    {
      "cell_type": "code",
      "execution_count": null,
      "id": "b0d48c1a",
      "metadata": {
        "scrolled": true,
        "id": "b0d48c1a",
        "outputId": "5553a80a-8586-4f74-ff93-8663714a3453",
        "colab": {
          "base_uri": "https://localhost:8080/"
        }
      },
      "outputs": [
        {
          "output_type": "execute_result",
          "data": {
            "text/plain": [
              "(300,)"
            ]
          },
          "metadata": {},
          "execution_count": 42
        }
      ],
      "source": [
        "model_Doc2Vec.infer_vector(text_tokenized[0]).shape"
      ]
    },
    {
      "cell_type": "code",
      "execution_count": null,
      "id": "c6f63fa3",
      "metadata": {
        "id": "c6f63fa3"
      },
      "outputs": [],
      "source": [
        "X = [model_Doc2Vec.infer_vector(x) for x in text_tokenized]"
      ]
    },
    {
      "cell_type": "code",
      "execution_count": null,
      "id": "5e797122",
      "metadata": {
        "id": "5e797122"
      },
      "outputs": [],
      "source": [
        "X_train = [X[idx] for idx in train_idxs]\n",
        "X_test = [X[idx] for idx in test_idxs]\n",
        "\n",
        "X_train = np.vstack(X_train)\n",
        "X_test = np.vstack(X_test)"
      ]
    },
    {
      "cell_type": "code",
      "execution_count": null,
      "id": "028330f4",
      "metadata": {
        "id": "028330f4",
        "outputId": "c6a0799b-cd9f-4836-c978-e1e473ef1260",
        "colab": {
          "base_uri": "https://localhost:8080/",
          "height": 220
        }
      },
      "outputs": [
        {
          "output_type": "error",
          "ename": "NameError",
          "evalue": "name 'LogisticRegression' is not defined",
          "traceback": [
            "\u001b[0;31m---------------------------------------------------------------------------\u001b[0m",
            "\u001b[0;31mNameError\u001b[0m                                 Traceback (most recent call last)",
            "\u001b[0;32m<ipython-input-1-1d5e018172cc>\u001b[0m in \u001b[0;36m<cell line: 2>\u001b[0;34m()\u001b[0m\n\u001b[1;32m      1\u001b[0m \u001b[0;31m# тренування й тестування\u001b[0m\u001b[0;34m\u001b[0m\u001b[0;34m\u001b[0m\u001b[0m\n\u001b[0;32m----> 2\u001b[0;31m \u001b[0mmodel\u001b[0m \u001b[0;34m=\u001b[0m \u001b[0mLogisticRegression\u001b[0m\u001b[0;34m(\u001b[0m\u001b[0mrandom_state\u001b[0m\u001b[0;34m=\u001b[0m\u001b[0;36m42\u001b[0m\u001b[0;34m)\u001b[0m\u001b[0;34m\u001b[0m\u001b[0;34m\u001b[0m\u001b[0m\n\u001b[0m\u001b[1;32m      3\u001b[0m \u001b[0mmodel\u001b[0m\u001b[0;34m.\u001b[0m\u001b[0mfit\u001b[0m\u001b[0;34m(\u001b[0m\u001b[0mX_train\u001b[0m\u001b[0;34m,\u001b[0m \u001b[0my_train\u001b[0m\u001b[0;34m)\u001b[0m\u001b[0;34m\u001b[0m\u001b[0;34m\u001b[0m\u001b[0m\n\u001b[1;32m      4\u001b[0m \u001b[0mpredictions\u001b[0m \u001b[0;34m=\u001b[0m \u001b[0mmodel\u001b[0m\u001b[0;34m.\u001b[0m\u001b[0mpredict\u001b[0m\u001b[0;34m(\u001b[0m\u001b[0mX_test\u001b[0m\u001b[0;34m)\u001b[0m\u001b[0;34m\u001b[0m\u001b[0;34m\u001b[0m\u001b[0m\n\u001b[1;32m      5\u001b[0m \u001b[0;34m\u001b[0m\u001b[0m\n",
            "\u001b[0;31mNameError\u001b[0m: name 'LogisticRegression' is not defined"
          ]
        }
      ],
      "source": [
        "# тренування й тестування\n",
        "model = LogisticRegression(random_state=42)\n",
        "model.fit(X_train, y_train)\n",
        "predictions = model.predict(X_test)\n",
        "\n",
        "print('AUC: ', roc_auc_score(y_test, predictions))"
      ]
    },
    {
      "cell_type": "markdown",
      "source": [
        "Порівнюючи ефективність двох підходів до представлення текстів у векторній формі — використання усереднених претренованих векторів Word2Vec і тренування власних ембедингів Doc2Vec — бачимо перевагу методу Doc2Vec. Дійсно, при тренуванні модель Doc2Vec вивчила специфічну для набору даних лексику, що дало перевагу над моделлю Word2Vec."
      ],
      "metadata": {
        "id": "YCz3FIjD1B3t"
      },
      "id": "YCz3FIjD1B3t"
    },
    {
      "cell_type": "code",
      "source": [],
      "metadata": {
        "id": "MGJL5Y4x092N"
      },
      "id": "MGJL5Y4x092N",
      "execution_count": null,
      "outputs": []
    }
  ],
  "metadata": {
    "kernelspec": {
      "display_name": "Python 3",
      "name": "python3"
    },
    "language_info": {
      "codemirror_mode": {
        "name": "ipython",
        "version": 3
      },
      "file_extension": ".py",
      "mimetype": "text/x-python",
      "name": "python",
      "nbconvert_exporter": "python",
      "pygments_lexer": "ipython3",
      "version": "3.10.12"
    },
    "toc": {
      "base_numbering": 1,
      "nav_menu": {},
      "number_sections": true,
      "sideBar": true,
      "skip_h1_title": false,
      "title_cell": "Table of Contents",
      "title_sidebar": "Contents",
      "toc_cell": false,
      "toc_position": {},
      "toc_section_display": true,
      "toc_window_display": false
    },
    "colab": {
      "provenance": []
    },
    "widgets": {
      "application/vnd.jupyter.widget-state+json": {
        "5b854f130619443ca04bca7f1b0d6894": {
          "model_module": "@jupyter-widgets/controls",
          "model_name": "HBoxModel",
          "model_module_version": "1.5.0",
          "state": {
            "_dom_classes": [],
            "_model_module": "@jupyter-widgets/controls",
            "_model_module_version": "1.5.0",
            "_model_name": "HBoxModel",
            "_view_count": null,
            "_view_module": "@jupyter-widgets/controls",
            "_view_module_version": "1.5.0",
            "_view_name": "HBoxView",
            "box_style": "",
            "children": [
              "IPY_MODEL_031e44a63c1048a28fa9b7ef148b6103",
              "IPY_MODEL_74900e29148e46e785236440425de911",
              "IPY_MODEL_1cd1865481334c13afa433cc2caf18aa"
            ],
            "layout": "IPY_MODEL_0149e6331b564b35800a4e29ab0e1076"
          }
        },
        "031e44a63c1048a28fa9b7ef148b6103": {
          "model_module": "@jupyter-widgets/controls",
          "model_name": "HTMLModel",
          "model_module_version": "1.5.0",
          "state": {
            "_dom_classes": [],
            "_model_module": "@jupyter-widgets/controls",
            "_model_module_version": "1.5.0",
            "_model_name": "HTMLModel",
            "_view_count": null,
            "_view_module": "@jupyter-widgets/controls",
            "_view_module_version": "1.5.0",
            "_view_name": "HTMLView",
            "description": "",
            "description_tooltip": null,
            "layout": "IPY_MODEL_b85f994ad6d74988916db5807d445b77",
            "placeholder": "​",
            "style": "IPY_MODEL_9b476c75143b4a03a26796ce5f3b303b",
            "value": "100%"
          }
        },
        "74900e29148e46e785236440425de911": {
          "model_module": "@jupyter-widgets/controls",
          "model_name": "FloatProgressModel",
          "model_module_version": "1.5.0",
          "state": {
            "_dom_classes": [],
            "_model_module": "@jupyter-widgets/controls",
            "_model_module_version": "1.5.0",
            "_model_name": "FloatProgressModel",
            "_view_count": null,
            "_view_module": "@jupyter-widgets/controls",
            "_view_module_version": "1.5.0",
            "_view_name": "ProgressView",
            "bar_style": "success",
            "description": "",
            "description_tooltip": null,
            "layout": "IPY_MODEL_3690cf308255470293c2bad58f3a105a",
            "max": 5000,
            "min": 0,
            "orientation": "horizontal",
            "style": "IPY_MODEL_9600d620f1da4be1b24864a1b30d7ed1",
            "value": 5000
          }
        },
        "1cd1865481334c13afa433cc2caf18aa": {
          "model_module": "@jupyter-widgets/controls",
          "model_name": "HTMLModel",
          "model_module_version": "1.5.0",
          "state": {
            "_dom_classes": [],
            "_model_module": "@jupyter-widgets/controls",
            "_model_module_version": "1.5.0",
            "_model_name": "HTMLModel",
            "_view_count": null,
            "_view_module": "@jupyter-widgets/controls",
            "_view_module_version": "1.5.0",
            "_view_name": "HTMLView",
            "description": "",
            "description_tooltip": null,
            "layout": "IPY_MODEL_142e46bbf8e44840bca72effbf9a66e5",
            "placeholder": "​",
            "style": "IPY_MODEL_c53984d9694547a0ab7660d46c31ab76",
            "value": " 5000/5000 [01:01&lt;00:00, 99.43it/s]"
          }
        },
        "0149e6331b564b35800a4e29ab0e1076": {
          "model_module": "@jupyter-widgets/base",
          "model_name": "LayoutModel",
          "model_module_version": "1.2.0",
          "state": {
            "_model_module": "@jupyter-widgets/base",
            "_model_module_version": "1.2.0",
            "_model_name": "LayoutModel",
            "_view_count": null,
            "_view_module": "@jupyter-widgets/base",
            "_view_module_version": "1.2.0",
            "_view_name": "LayoutView",
            "align_content": null,
            "align_items": null,
            "align_self": null,
            "border": null,
            "bottom": null,
            "display": null,
            "flex": null,
            "flex_flow": null,
            "grid_area": null,
            "grid_auto_columns": null,
            "grid_auto_flow": null,
            "grid_auto_rows": null,
            "grid_column": null,
            "grid_gap": null,
            "grid_row": null,
            "grid_template_areas": null,
            "grid_template_columns": null,
            "grid_template_rows": null,
            "height": null,
            "justify_content": null,
            "justify_items": null,
            "left": null,
            "margin": null,
            "max_height": null,
            "max_width": null,
            "min_height": null,
            "min_width": null,
            "object_fit": null,
            "object_position": null,
            "order": null,
            "overflow": null,
            "overflow_x": null,
            "overflow_y": null,
            "padding": null,
            "right": null,
            "top": null,
            "visibility": null,
            "width": null
          }
        },
        "b85f994ad6d74988916db5807d445b77": {
          "model_module": "@jupyter-widgets/base",
          "model_name": "LayoutModel",
          "model_module_version": "1.2.0",
          "state": {
            "_model_module": "@jupyter-widgets/base",
            "_model_module_version": "1.2.0",
            "_model_name": "LayoutModel",
            "_view_count": null,
            "_view_module": "@jupyter-widgets/base",
            "_view_module_version": "1.2.0",
            "_view_name": "LayoutView",
            "align_content": null,
            "align_items": null,
            "align_self": null,
            "border": null,
            "bottom": null,
            "display": null,
            "flex": null,
            "flex_flow": null,
            "grid_area": null,
            "grid_auto_columns": null,
            "grid_auto_flow": null,
            "grid_auto_rows": null,
            "grid_column": null,
            "grid_gap": null,
            "grid_row": null,
            "grid_template_areas": null,
            "grid_template_columns": null,
            "grid_template_rows": null,
            "height": null,
            "justify_content": null,
            "justify_items": null,
            "left": null,
            "margin": null,
            "max_height": null,
            "max_width": null,
            "min_height": null,
            "min_width": null,
            "object_fit": null,
            "object_position": null,
            "order": null,
            "overflow": null,
            "overflow_x": null,
            "overflow_y": null,
            "padding": null,
            "right": null,
            "top": null,
            "visibility": null,
            "width": null
          }
        },
        "9b476c75143b4a03a26796ce5f3b303b": {
          "model_module": "@jupyter-widgets/controls",
          "model_name": "DescriptionStyleModel",
          "model_module_version": "1.5.0",
          "state": {
            "_model_module": "@jupyter-widgets/controls",
            "_model_module_version": "1.5.0",
            "_model_name": "DescriptionStyleModel",
            "_view_count": null,
            "_view_module": "@jupyter-widgets/base",
            "_view_module_version": "1.2.0",
            "_view_name": "StyleView",
            "description_width": ""
          }
        },
        "3690cf308255470293c2bad58f3a105a": {
          "model_module": "@jupyter-widgets/base",
          "model_name": "LayoutModel",
          "model_module_version": "1.2.0",
          "state": {
            "_model_module": "@jupyter-widgets/base",
            "_model_module_version": "1.2.0",
            "_model_name": "LayoutModel",
            "_view_count": null,
            "_view_module": "@jupyter-widgets/base",
            "_view_module_version": "1.2.0",
            "_view_name": "LayoutView",
            "align_content": null,
            "align_items": null,
            "align_self": null,
            "border": null,
            "bottom": null,
            "display": null,
            "flex": null,
            "flex_flow": null,
            "grid_area": null,
            "grid_auto_columns": null,
            "grid_auto_flow": null,
            "grid_auto_rows": null,
            "grid_column": null,
            "grid_gap": null,
            "grid_row": null,
            "grid_template_areas": null,
            "grid_template_columns": null,
            "grid_template_rows": null,
            "height": null,
            "justify_content": null,
            "justify_items": null,
            "left": null,
            "margin": null,
            "max_height": null,
            "max_width": null,
            "min_height": null,
            "min_width": null,
            "object_fit": null,
            "object_position": null,
            "order": null,
            "overflow": null,
            "overflow_x": null,
            "overflow_y": null,
            "padding": null,
            "right": null,
            "top": null,
            "visibility": null,
            "width": null
          }
        },
        "9600d620f1da4be1b24864a1b30d7ed1": {
          "model_module": "@jupyter-widgets/controls",
          "model_name": "ProgressStyleModel",
          "model_module_version": "1.5.0",
          "state": {
            "_model_module": "@jupyter-widgets/controls",
            "_model_module_version": "1.5.0",
            "_model_name": "ProgressStyleModel",
            "_view_count": null,
            "_view_module": "@jupyter-widgets/base",
            "_view_module_version": "1.2.0",
            "_view_name": "StyleView",
            "bar_color": null,
            "description_width": ""
          }
        },
        "142e46bbf8e44840bca72effbf9a66e5": {
          "model_module": "@jupyter-widgets/base",
          "model_name": "LayoutModel",
          "model_module_version": "1.2.0",
          "state": {
            "_model_module": "@jupyter-widgets/base",
            "_model_module_version": "1.2.0",
            "_model_name": "LayoutModel",
            "_view_count": null,
            "_view_module": "@jupyter-widgets/base",
            "_view_module_version": "1.2.0",
            "_view_name": "LayoutView",
            "align_content": null,
            "align_items": null,
            "align_self": null,
            "border": null,
            "bottom": null,
            "display": null,
            "flex": null,
            "flex_flow": null,
            "grid_area": null,
            "grid_auto_columns": null,
            "grid_auto_flow": null,
            "grid_auto_rows": null,
            "grid_column": null,
            "grid_gap": null,
            "grid_row": null,
            "grid_template_areas": null,
            "grid_template_columns": null,
            "grid_template_rows": null,
            "height": null,
            "justify_content": null,
            "justify_items": null,
            "left": null,
            "margin": null,
            "max_height": null,
            "max_width": null,
            "min_height": null,
            "min_width": null,
            "object_fit": null,
            "object_position": null,
            "order": null,
            "overflow": null,
            "overflow_x": null,
            "overflow_y": null,
            "padding": null,
            "right": null,
            "top": null,
            "visibility": null,
            "width": null
          }
        },
        "c53984d9694547a0ab7660d46c31ab76": {
          "model_module": "@jupyter-widgets/controls",
          "model_name": "DescriptionStyleModel",
          "model_module_version": "1.5.0",
          "state": {
            "_model_module": "@jupyter-widgets/controls",
            "_model_module_version": "1.5.0",
            "_model_name": "DescriptionStyleModel",
            "_view_count": null,
            "_view_module": "@jupyter-widgets/base",
            "_view_module_version": "1.2.0",
            "_view_name": "StyleView",
            "description_width": ""
          }
        }
      }
    }
  },
  "nbformat": 4,
  "nbformat_minor": 5
}
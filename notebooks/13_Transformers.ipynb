{
  "cells": [
    {
      "cell_type": "code",
      "execution_count": 5,
      "id": "d7ead7ac",
      "metadata": {
        "execution": {
          "iopub.execute_input": "2024-07-25T13:22:16.393277Z",
          "iopub.status.busy": "2024-07-25T13:22:16.392893Z",
          "iopub.status.idle": "2024-07-25T13:22:46.298325Z",
          "shell.execute_reply": "2024-07-25T13:22:46.297192Z"
        },
        "papermill": {
          "duration": 29.918686,
          "end_time": "2024-07-25T13:22:46.301082",
          "exception": false,
          "start_time": "2024-07-25T13:22:16.382396",
          "status": "completed"
        },
        "tags": [],
        "colab": {
          "base_uri": "https://localhost:8080/"
        },
        "id": "d7ead7ac",
        "outputId": "86774261-1242-457e-b308-067be8cd6069"
      },
      "outputs": [
        {
          "output_type": "stream",
          "name": "stdout",
          "text": [
            "Requirement already satisfied: rouge_score in /usr/local/lib/python3.10/dist-packages (0.1.2)\n",
            "Requirement already satisfied: absl-py in /usr/local/lib/python3.10/dist-packages (from rouge_score) (1.4.0)\n",
            "Requirement already satisfied: nltk in /usr/local/lib/python3.10/dist-packages (from rouge_score) (3.9.1)\n",
            "Requirement already satisfied: numpy in /usr/local/lib/python3.10/dist-packages (from rouge_score) (1.26.4)\n",
            "Requirement already satisfied: six>=1.14.0 in /usr/local/lib/python3.10/dist-packages (from rouge_score) (1.16.0)\n",
            "Requirement already satisfied: click in /usr/local/lib/python3.10/dist-packages (from nltk->rouge_score) (8.1.7)\n",
            "Requirement already satisfied: joblib in /usr/local/lib/python3.10/dist-packages (from nltk->rouge_score) (1.4.2)\n",
            "Requirement already satisfied: regex>=2021.8.3 in /usr/local/lib/python3.10/dist-packages (from nltk->rouge_score) (2024.9.11)\n",
            "Requirement already satisfied: tqdm in /usr/local/lib/python3.10/dist-packages (from nltk->rouge_score) (4.66.6)\n",
            "Requirement already satisfied: evaluate in /usr/local/lib/python3.10/dist-packages (0.4.3)\n",
            "Requirement already satisfied: datasets>=2.0.0 in /usr/local/lib/python3.10/dist-packages (from evaluate) (3.1.0)\n",
            "Requirement already satisfied: numpy>=1.17 in /usr/local/lib/python3.10/dist-packages (from evaluate) (1.26.4)\n",
            "Requirement already satisfied: dill in /usr/local/lib/python3.10/dist-packages (from evaluate) (0.3.8)\n",
            "Requirement already satisfied: pandas in /usr/local/lib/python3.10/dist-packages (from evaluate) (2.2.2)\n",
            "Requirement already satisfied: requests>=2.19.0 in /usr/local/lib/python3.10/dist-packages (from evaluate) (2.32.3)\n",
            "Requirement already satisfied: tqdm>=4.62.1 in /usr/local/lib/python3.10/dist-packages (from evaluate) (4.66.6)\n",
            "Requirement already satisfied: xxhash in /usr/local/lib/python3.10/dist-packages (from evaluate) (3.5.0)\n",
            "Requirement already satisfied: multiprocess in /usr/local/lib/python3.10/dist-packages (from evaluate) (0.70.16)\n",
            "Requirement already satisfied: fsspec>=2021.05.0 in /usr/local/lib/python3.10/dist-packages (from fsspec[http]>=2021.05.0->evaluate) (2024.9.0)\n",
            "Requirement already satisfied: huggingface-hub>=0.7.0 in /usr/local/lib/python3.10/dist-packages (from evaluate) (0.26.3)\n",
            "Requirement already satisfied: packaging in /usr/local/lib/python3.10/dist-packages (from evaluate) (24.2)\n",
            "Requirement already satisfied: filelock in /usr/local/lib/python3.10/dist-packages (from datasets>=2.0.0->evaluate) (3.16.1)\n",
            "Requirement already satisfied: pyarrow>=15.0.0 in /usr/local/lib/python3.10/dist-packages (from datasets>=2.0.0->evaluate) (17.0.0)\n",
            "Requirement already satisfied: aiohttp in /usr/local/lib/python3.10/dist-packages (from datasets>=2.0.0->evaluate) (3.11.9)\n",
            "Requirement already satisfied: pyyaml>=5.1 in /usr/local/lib/python3.10/dist-packages (from datasets>=2.0.0->evaluate) (6.0.2)\n",
            "Requirement already satisfied: typing-extensions>=3.7.4.3 in /usr/local/lib/python3.10/dist-packages (from huggingface-hub>=0.7.0->evaluate) (4.12.2)\n",
            "Requirement already satisfied: charset-normalizer<4,>=2 in /usr/local/lib/python3.10/dist-packages (from requests>=2.19.0->evaluate) (3.4.0)\n",
            "Requirement already satisfied: idna<4,>=2.5 in /usr/local/lib/python3.10/dist-packages (from requests>=2.19.0->evaluate) (3.10)\n",
            "Requirement already satisfied: urllib3<3,>=1.21.1 in /usr/local/lib/python3.10/dist-packages (from requests>=2.19.0->evaluate) (2.2.3)\n",
            "Requirement already satisfied: certifi>=2017.4.17 in /usr/local/lib/python3.10/dist-packages (from requests>=2.19.0->evaluate) (2024.8.30)\n",
            "Requirement already satisfied: python-dateutil>=2.8.2 in /usr/local/lib/python3.10/dist-packages (from pandas->evaluate) (2.8.2)\n",
            "Requirement already satisfied: pytz>=2020.1 in /usr/local/lib/python3.10/dist-packages (from pandas->evaluate) (2024.2)\n",
            "Requirement already satisfied: tzdata>=2022.7 in /usr/local/lib/python3.10/dist-packages (from pandas->evaluate) (2024.2)\n",
            "Requirement already satisfied: aiohappyeyeballs>=2.3.0 in /usr/local/lib/python3.10/dist-packages (from aiohttp->datasets>=2.0.0->evaluate) (2.4.4)\n",
            "Requirement already satisfied: aiosignal>=1.1.2 in /usr/local/lib/python3.10/dist-packages (from aiohttp->datasets>=2.0.0->evaluate) (1.3.1)\n",
            "Requirement already satisfied: async-timeout<6.0,>=4.0 in /usr/local/lib/python3.10/dist-packages (from aiohttp->datasets>=2.0.0->evaluate) (4.0.3)\n",
            "Requirement already satisfied: attrs>=17.3.0 in /usr/local/lib/python3.10/dist-packages (from aiohttp->datasets>=2.0.0->evaluate) (24.2.0)\n",
            "Requirement already satisfied: frozenlist>=1.1.1 in /usr/local/lib/python3.10/dist-packages (from aiohttp->datasets>=2.0.0->evaluate) (1.5.0)\n",
            "Requirement already satisfied: multidict<7.0,>=4.5 in /usr/local/lib/python3.10/dist-packages (from aiohttp->datasets>=2.0.0->evaluate) (6.1.0)\n",
            "Requirement already satisfied: propcache>=0.2.0 in /usr/local/lib/python3.10/dist-packages (from aiohttp->datasets>=2.0.0->evaluate) (0.2.1)\n",
            "Requirement already satisfied: yarl<2.0,>=1.17.0 in /usr/local/lib/python3.10/dist-packages (from aiohttp->datasets>=2.0.0->evaluate) (1.18.3)\n",
            "Requirement already satisfied: six>=1.5 in /usr/local/lib/python3.10/dist-packages (from python-dateutil>=2.8.2->pandas->evaluate) (1.16.0)\n"
          ]
        }
      ],
      "source": [
        "# розглянемо задачу відповіді на запитання (question answering, QA) з використанням архітектури трансформер.\n",
        "# Це завдання має багато різновидів, але той, на якому ми зосередимося в цьому розділі, називається екстрактивною відповіддю на запитання (extractive question answering).\n",
        "# Воно передбачає постановку запитань до документа й визначення відповідей у вигляді фрагментів тексту в самому документі.\n",
        "# Ми донавчимо модель BERT на наборі даних SQuAD (альтернативне посилання).\n",
        "# Stanford Question Answering Dataset (SQuAD) — це набір даних для розуміння прочитаного (reading comprehension), що складається із запитань,\n",
        "# поставлених до набору статей Вікіпедії, де відповіддю на кожне запитання є сегмент тексту, або уривок; або ж запитання може не мати відповіді.\n",
        "\n",
        "# У налаштуваннях kaggle notebook виберіть пристрій GPU P100. Ви можете запустити виконання коду на ніч, щоб уранці переглянути отримані результати.\n",
        "!pip install rouge_score\n",
        "!pip install evaluate"
      ]
    },
    {
      "cell_type": "code",
      "execution_count": 6,
      "id": "c82f44e3",
      "metadata": {
        "execution": {
          "iopub.execute_input": "2024-07-25T13:22:46.323955Z",
          "iopub.status.busy": "2024-07-25T13:22:46.323609Z",
          "iopub.status.idle": "2024-07-25T13:23:07.094812Z",
          "shell.execute_reply": "2024-07-25T13:23:07.093769Z"
        },
        "papermill": {
          "duration": 20.785484,
          "end_time": "2024-07-25T13:23:07.097334",
          "exception": false,
          "start_time": "2024-07-25T13:22:46.311850",
          "status": "completed"
        },
        "tags": [],
        "id": "c82f44e3"
      },
      "outputs": [],
      "source": [
        "import warnings\n",
        "warnings.filterwarnings('ignore')\n",
        "\n",
        "import gc\n",
        "import random\n",
        "import collections\n",
        "\n",
        "import numpy as np\n",
        "\n",
        "from datasets import load_dataset\n",
        "from datasets import DatasetDict\n",
        "\n",
        "from tqdm.auto import tqdm\n",
        "\n",
        "import torch\n",
        "from torch.utils.data import DataLoader\n",
        "\n",
        "from transformers import pipeline\n",
        "from transformers import AutoModelForSeq2SeqLM, AutoTokenizer\n",
        "from transformers import AutoModelForQuestionAnswering\n",
        "from transformers import DataCollatorForSeq2Seq\n",
        "from transformers import AdamW\n",
        "from transformers import default_data_collator\n",
        "\n",
        "import evaluate\n",
        "\n",
        "import nltk"
      ]
    },
    {
      "cell_type": "code",
      "execution_count": 7,
      "id": "1f53a245",
      "metadata": {
        "execution": {
          "iopub.execute_input": "2024-07-25T13:23:07.120867Z",
          "iopub.status.busy": "2024-07-25T13:23:07.119679Z",
          "iopub.status.idle": "2024-07-25T13:23:07.125426Z",
          "shell.execute_reply": "2024-07-25T13:23:07.124461Z"
        },
        "papermill": {
          "duration": 0.019316,
          "end_time": "2024-07-25T13:23:07.127391",
          "exception": false,
          "start_time": "2024-07-25T13:23:07.108075",
          "status": "completed"
        },
        "tags": [],
        "id": "1f53a245"
      },
      "outputs": [],
      "source": [
        "def sample_n_examples(dataset, p):\n",
        "    n = int(len(dataset) * p)\n",
        "    indices = random.sample(range(len(dataset)), n)\n",
        "    return dataset.select(indices)"
      ]
    },
    {
      "cell_type": "code",
      "execution_count": 8,
      "id": "87e54644",
      "metadata": {
        "execution": {
          "iopub.execute_input": "2024-07-25T13:23:07.150205Z",
          "iopub.status.busy": "2024-07-25T13:23:07.149345Z",
          "iopub.status.idle": "2024-07-25T13:23:07.216105Z",
          "shell.execute_reply": "2024-07-25T13:23:07.215050Z"
        },
        "papermill": {
          "duration": 0.080276,
          "end_time": "2024-07-25T13:23:07.218054",
          "exception": false,
          "start_time": "2024-07-25T13:23:07.137778",
          "status": "completed"
        },
        "tags": [],
        "id": "87e54644"
      },
      "outputs": [],
      "source": [
        "device = \"cuda\" if torch.cuda.is_available() else None   # Визначимо пристрій, на якому будемо проводити розрахунки"
      ]
    },
    {
      "cell_type": "markdown",
      "id": "e590d889",
      "metadata": {
        "papermill": {
          "duration": 0.01018,
          "end_time": "2024-07-25T13:23:07.238841",
          "exception": false,
          "start_time": "2024-07-25T13:23:07.228661",
          "status": "completed"
        },
        "tags": [],
        "id": "e590d889"
      },
      "source": [
        "# Question answering\n",
        "## Завантаження даних\n",
        "\n"
      ]
    },
    {
      "cell_type": "code",
      "execution_count": 9,
      "id": "cf1e0337",
      "metadata": {
        "execution": {
          "iopub.execute_input": "2024-07-25T13:23:07.261815Z",
          "iopub.status.busy": "2024-07-25T13:23:07.260955Z",
          "iopub.status.idle": "2024-07-25T13:23:12.050933Z",
          "shell.execute_reply": "2024-07-25T13:23:12.050033Z"
        },
        "papermill": {
          "duration": 4.80378,
          "end_time": "2024-07-25T13:23:12.053208",
          "exception": false,
          "start_time": "2024-07-25T13:23:07.249428",
          "status": "completed"
        },
        "tags": [],
        "colab": {
          "base_uri": "https://localhost:8080/"
        },
        "id": "cf1e0337",
        "outputId": "75755b73-775c-4992-9491-df99633f5a24"
      },
      "outputs": [
        {
          "output_type": "execute_result",
          "data": {
            "text/plain": [
              "DatasetDict({\n",
              "    train: Dataset({\n",
              "        features: ['id', 'title', 'context', 'question', 'answers'],\n",
              "        num_rows: 87599\n",
              "    })\n",
              "    validation: Dataset({\n",
              "        features: ['id', 'title', 'context', 'question', 'answers'],\n",
              "        num_rows: 10570\n",
              "    })\n",
              "})"
            ]
          },
          "metadata": {},
          "execution_count": 9
        }
      ],
      "source": [
        "raw_datasets = load_dataset(\"squad\")\n",
        "raw_datasets"
      ]
    },
    {
      "cell_type": "code",
      "execution_count": 10,
      "id": "ac98a866",
      "metadata": {
        "execution": {
          "iopub.execute_input": "2024-07-25T13:23:12.079202Z",
          "iopub.status.busy": "2024-07-25T13:23:12.078830Z",
          "iopub.status.idle": "2024-07-25T13:23:12.082986Z",
          "shell.execute_reply": "2024-07-25T13:23:12.082060Z"
        },
        "papermill": {
          "duration": 0.018872,
          "end_time": "2024-07-25T13:23:12.084955",
          "exception": false,
          "start_time": "2024-07-25T13:23:12.066083",
          "status": "completed"
        },
        "tags": [],
        "id": "ac98a866"
      },
      "outputs": [],
      "source": [
        "# p = 0.4\n",
        "# # Sample N examples from each split in the DatasetDict\n",
        "# sampled_dataset_dict = {split: sample_n_examples(dataset, p) for split, dataset in raw_datasets.items()}\n",
        "# sampled_dataset_dict"
      ]
    },
    {
      "cell_type": "code",
      "execution_count": 11,
      "id": "e5f29b58",
      "metadata": {
        "execution": {
          "iopub.execute_input": "2024-07-25T13:23:12.109799Z",
          "iopub.status.busy": "2024-07-25T13:23:12.109438Z",
          "iopub.status.idle": "2024-07-25T13:23:12.119197Z",
          "shell.execute_reply": "2024-07-25T13:23:12.118193Z"
        },
        "papermill": {
          "duration": 0.024741,
          "end_time": "2024-07-25T13:23:12.121302",
          "exception": false,
          "start_time": "2024-07-25T13:23:12.096561",
          "status": "completed"
        },
        "tags": [],
        "colab": {
          "base_uri": "https://localhost:8080/"
        },
        "id": "e5f29b58",
        "outputId": "f754a160-1313-4da8-ed4e-df83248f1882"
      },
      "outputs": [
        {
          "output_type": "stream",
          "name": "stdout",
          "text": [
            "Context:  Architecturally, the school has a Catholic character. Atop the Main Building's gold dome is a golden statue of the Virgin Mary. Immediately in front of the Main Building and facing it, is a copper statue of Christ with arms upraised with the legend \"Venite Ad Me Omnes\". Next to the Main Building is the Basilica of the Sacred Heart. Immediately behind the basilica is the Grotto, a Marian place of prayer and reflection. It is a replica of the grotto at Lourdes, France where the Virgin Mary reputedly appeared to Saint Bernadette Soubirous in 1858. At the end of the main drive (and in a direct line that connects through 3 statues and the Gold Dome), is a simple, modern stone statue of Mary.\n",
            "Question:  To whom did the Virgin Mary allegedly appear in 1858 in Lourdes France?\n",
            "Answer:  {'text': ['Saint Bernadette Soubirous'], 'answer_start': [515]}\n"
          ]
        }
      ],
      "source": [
        "# У нас є всі необхідні дані в полях context, question і answers. Переглянемо перший приклад у нашому наборі даних\n",
        "print(\"Context: \", raw_datasets[\"train\"][0][\"context\"])\n",
        "print(\"Question: \", raw_datasets[\"train\"][0][\"question\"])\n",
        "print(\"Answer: \", raw_datasets[\"train\"][0][\"answers\"])"
      ]
    },
    {
      "cell_type": "code",
      "execution_count": 12,
      "id": "9c8f736e",
      "metadata": {
        "execution": {
          "iopub.execute_input": "2024-07-25T13:23:12.146391Z",
          "iopub.status.busy": "2024-07-25T13:23:12.145723Z",
          "iopub.status.idle": "2024-07-25T13:23:14.336502Z",
          "shell.execute_reply": "2024-07-25T13:23:14.335593Z"
        },
        "papermill": {
          "duration": 2.205704,
          "end_time": "2024-07-25T13:23:14.338538",
          "exception": false,
          "start_time": "2024-07-25T13:23:12.132834",
          "status": "completed"
        },
        "tags": [],
        "colab": {
          "base_uri": "https://localhost:8080/"
        },
        "id": "9c8f736e",
        "outputId": "6e5d449d-af5f-4edb-b809-5d891a649e38"
      },
      "outputs": [
        {
          "output_type": "execute_result",
          "data": {
            "text/plain": [
              "Dataset({\n",
              "    features: ['id', 'title', 'context', 'question', 'answers'],\n",
              "    num_rows: 0\n",
              "})"
            ]
          },
          "metadata": {},
          "execution_count": 12
        }
      ],
      "source": [
        "# Поля context і question дуже прості у використанні. Поле answers трохи складніше, оскільки воно поєднує словник із двома полями, які є списками.\n",
        "# Саме такого формату очікує метрика squad під час оцінювання. Трохи далі ми розглянемо, як вона розраховується.\n",
        "# Поле text досить очевидне, а поле answer_start містить індекс початкового символу кожної відповіді в контексті.\n",
        "# Під час навчання можлива лише одна відповідь. Ми можемо перевірити це за допомогою методу Dataset.filter(). Спробуємо знайти поля answers, що містять більше одного значення в полі text.\n",
        "raw_datasets[\"train\"].filter(lambda x: len(x[\"answers\"][\"text\"]) != 1)"
      ]
    },
    {
      "cell_type": "code",
      "execution_count": 13,
      "id": "135bfd74",
      "metadata": {
        "execution": {
          "iopub.execute_input": "2024-07-25T13:23:14.365137Z",
          "iopub.status.busy": "2024-07-25T13:23:14.364773Z",
          "iopub.status.idle": "2024-07-25T13:23:14.371474Z",
          "shell.execute_reply": "2024-07-25T13:23:14.370229Z"
        },
        "papermill": {
          "duration": 0.022595,
          "end_time": "2024-07-25T13:23:14.373507",
          "exception": false,
          "start_time": "2024-07-25T13:23:14.350912",
          "status": "completed"
        },
        "tags": [],
        "colab": {
          "base_uri": "https://localhost:8080/"
        },
        "id": "135bfd74",
        "outputId": "abf74848-9714-4c04-ab83-8011131f61c2"
      },
      "outputs": [
        {
          "output_type": "stream",
          "name": "stdout",
          "text": [
            "{'text': ['Denver Broncos', 'Denver Broncos', 'Denver Broncos'], 'answer_start': [177, 177, 177]}\n",
            "{'text': ['Santa Clara, California', \"Levi's Stadium\", \"Levi's Stadium in the San Francisco Bay Area at Santa Clara, California.\"], 'answer_start': [403, 355, 355]}\n"
          ]
        }
      ],
      "source": [
        "# Для тестування, однак, є кілька можливих відповідей для кожної вибірки, які можуть бути однаковими або різними:\n",
        "print(raw_datasets[\"validation\"][0][\"answers\"])\n",
        "print(raw_datasets[\"validation\"][2][\"answers\"])"
      ]
    },
    {
      "cell_type": "markdown",
      "source": [
        "## Підготовка навчальних даних"
      ],
      "metadata": {
        "id": "NcgEQxCST_Vj"
      },
      "id": "NcgEQxCST_Vj"
    },
    {
      "cell_type": "code",
      "execution_count": 14,
      "id": "2887630c",
      "metadata": {
        "execution": {
          "iopub.execute_input": "2024-07-25T13:23:14.399873Z",
          "iopub.status.busy": "2024-07-25T13:23:14.399029Z",
          "iopub.status.idle": "2024-07-25T13:23:18.027747Z",
          "shell.execute_reply": "2024-07-25T13:23:18.026803Z"
        },
        "papermill": {
          "duration": 3.644412,
          "end_time": "2024-07-25T13:23:18.030179",
          "exception": false,
          "start_time": "2024-07-25T13:23:14.385767",
          "status": "completed"
        },
        "tags": [],
        "colab": {
          "base_uri": "https://localhost:8080/"
        },
        "id": "2887630c",
        "outputId": "da62614b-ee1c-4cf8-8f05-ca909a94ac61"
      },
      "outputs": [
        {
          "output_type": "stream",
          "name": "stderr",
          "text": [
            "Some weights of BertForQuestionAnswering were not initialized from the model checkpoint at bert-base-cased and are newly initialized: ['qa_outputs.bias', 'qa_outputs.weight']\n",
            "You should probably TRAIN this model on a down-stream task to be able to use it for predictions and inference.\n"
          ]
        }
      ],
      "source": [
        "# Почнемо з попередньої обробки навчальних даних.\n",
        "# Найскладніше буде згенерувати мітки для відповідей на запитання, які будуть початковою та кінцевою позиціями токенів, що відповідають відповіді в контексті.\n",
        "# Але не будемо забігати наперед. По-перше, нам потрібно перетворити текст на вході в ідентифікатори, які модель зможе зрозуміти, за допомогою токенізатора:\n",
        "model_checkpoint = \"bert-base-cased\"\n",
        "\n",
        "model = AutoModelForQuestionAnswering.from_pretrained(model_checkpoint).to(device)\n",
        "tokenizer = AutoTokenizer.from_pretrained(model_checkpoint)"
      ]
    },
    {
      "cell_type": "markdown",
      "source": [
        "Мітки, які ми передбачатимемо, будуть індексами токенів, що починають і закінчують відповідь. Моделі буде поставлено завдання передбачити по одному початковому й кінцевому логіту на кожен токен у вхідних даних, як наведено нижче:\n",
        "\n",
        "![image.png](data:image/png;base64,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)"
      ],
      "metadata": {
        "id": "JaW1W89nUS7x"
      },
      "id": "JaW1W89nUS7x"
    },
    {
      "cell_type": "code",
      "execution_count": 15,
      "id": "197848f1",
      "metadata": {
        "execution": {
          "iopub.execute_input": "2024-07-25T13:23:18.058827Z",
          "iopub.status.busy": "2024-07-25T13:23:18.057943Z",
          "iopub.status.idle": "2024-07-25T13:23:18.073297Z",
          "shell.execute_reply": "2024-07-25T13:23:18.072201Z"
        },
        "papermill": {
          "duration": 0.032006,
          "end_time": "2024-07-25T13:23:18.075477",
          "exception": false,
          "start_time": "2024-07-25T13:23:18.043471",
          "status": "completed"
        },
        "tags": [],
        "colab": {
          "base_uri": "https://localhost:8080/",
          "height": 109
        },
        "id": "197848f1",
        "outputId": "bd32c828-529d-4665-928b-8dabd6a25ffb"
      },
      "outputs": [
        {
          "output_type": "execute_result",
          "data": {
            "text/plain": [
              "'[CLS] To whom did the Virgin Mary allegedly appear in 1858 in Lourdes France? [SEP] Architecturally, the school has a Catholic character. Atop the Main Building \\' s gold dome is a golden statue of the Virgin Mary. Immediately in front of the Main Building and facing it, is a copper statue of Christ with arms upraised with the legend \" Venite Ad Me Omnes \". Next to the Main Building is the Basilica of the Sacred Heart. Immediately behind the basilica is the Grotto, a Marian place of prayer and reflection. It is a replica of the grotto at Lourdes, France where the Virgin Mary reputedly appeared to Saint Bernadette Soubirous in 1858. At the end of the main drive ( and in a direct line that connects through 3 statues and the Gold Dome ), is a simple, modern stone statue of Mary. [SEP]'"
            ],
            "application/vnd.google.colaboratory.intrinsic+json": {
              "type": "string"
            }
          },
          "metadata": {},
          "execution_count": 15
        }
      ],
      "source": [
        "context = raw_datasets[\"train\"][0][\"context\"]\n",
        "question = raw_datasets[\"train\"][0][\"question\"]\n",
        "\n",
        "inputs = tokenizer(question, context)\n",
        "tokenizer.decode(inputs[\"input_ids\"])"
      ]
    },
    {
      "cell_type": "markdown",
      "source": [
        "У нашому наборі даних довжина документа (контексту) не є великою. Однак, зустрічаються тексти, довжина яких перевищує розмір контекстного вікна (context window) моделі.\n",
        "\n",
        "\n",
        "\n",
        "Щоб опрацьовувати довгі контексти, ми будемо розбивати їх на менші, створюючи кілька навчальних ознак на основі одного прикладу з нашого набору даних, із ковзним вікном між ними. Під використанням ковзного вікна мається на увазі, що кожен сегмент частково перекривається з попереднім і наступним сегментом на довжину ковзного вікна.\n",
        "\n",
        "\n",
        "\n",
        "Давайте розглянемо приклад розбиття одного контексту на декілька менших.\n",
        "\n",
        "\n",
        "\n",
        "Тут ми використовуємо наступні параметри нашого токенізатора:\n",
        "\n",
        "- max_length - для встановлення максимальної довжини (тут 100);\n",
        "\n",
        "- truncation=«only_second» - щоб обрізати контекст (який знаходиться у другій позиції), коли питання з контекстом занадто довге;\n",
        "\n",
        "- stride - щоб задати кількість токенів, що перекриваються між двома послідовними фрагментами (тут 50);\n",
        "\n",
        "- return_overflowing_tokens=True - щоб повідомити токенізатору, що ми хочемо отримувати інформацію про токени, які перевищують максимальну довжину контекстного вікна."
      ],
      "metadata": {
        "id": "YVM5vHwibZpT"
      },
      "id": "YVM5vHwibZpT"
    },
    {
      "cell_type": "code",
      "execution_count": 16,
      "id": "65dcb41d",
      "metadata": {
        "execution": {
          "iopub.execute_input": "2024-07-25T13:23:18.103450Z",
          "iopub.status.busy": "2024-07-25T13:23:18.102780Z",
          "iopub.status.idle": "2024-07-25T13:23:18.115635Z",
          "shell.execute_reply": "2024-07-25T13:23:18.114409Z"
        },
        "papermill": {
          "duration": 0.029154,
          "end_time": "2024-07-25T13:23:18.117800",
          "exception": false,
          "start_time": "2024-07-25T13:23:18.088646",
          "status": "completed"
        },
        "tags": [],
        "colab": {
          "base_uri": "https://localhost:8080/"
        },
        "id": "65dcb41d",
        "outputId": "bae187d1-2cec-485f-ea1f-7ae5702400e5"
      },
      "outputs": [
        {
          "output_type": "stream",
          "name": "stdout",
          "text": [
            "[CLS] To whom did the Virgin Mary allegedly appear in 1858 in Lourdes France? [SEP] Architecturally, the school has a Catholic character. Atop the Main Building ' s gold dome is a golden statue of the Virgin Mary. Immediately in front of the Main Building and facing it, is a copper statue of Christ with arms upraised with the legend \" Venite Ad Me Omnes \". Next to the Main Building is the Basilica of the Sacred Heart. Immediately behind the basi [SEP]\n",
            "\n",
            "[CLS] To whom did the Virgin Mary allegedly appear in 1858 in Lourdes France? [SEP] the Main Building and facing it, is a copper statue of Christ with arms upraised with the legend \" Venite Ad Me Omnes \". Next to the Main Building is the Basilica of the Sacred Heart. Immediately behind the basilica is the Grotto, a Marian place of prayer and reflection. It is a replica of the grotto at Lourdes, France where the Virgin [SEP]\n",
            "\n",
            "[CLS] To whom did the Virgin Mary allegedly appear in 1858 in Lourdes France? [SEP] Next to the Main Building is the Basilica of the Sacred Heart. Immediately behind the basilica is the Grotto, a Marian place of prayer and reflection. It is a replica of the grotto at Lourdes, France where the Virgin Mary reputedly appeared to Saint Bernadette Soubirous in 1858. At the end of the main drive ( and in a direct line that connects through 3 [SEP]\n",
            "\n",
            "[CLS] To whom did the Virgin Mary allegedly appear in 1858 in Lourdes France? [SEP]. It is a replica of the grotto at Lourdes, France where the Virgin Mary reputedly appeared to Saint Bernadette Soubirous in 1858. At the end of the main drive ( and in a direct line that connects through 3 statues and the Gold Dome ), is a simple, modern stone statue of Mary. [SEP]\n",
            "\n"
          ]
        }
      ],
      "source": [
        "# У нашому наборі даних довжина документа (контексту) не є великою. Однак, зустрічаються тексти, довжина яких перевищує розмір контекстного вікна (context window) моделі.\n",
        "# Щоб опрацьовувати довгі контексти, ми будемо розбивати їх на менші, створюючи кілька навчальних ознак на основі одного прикладу з нашого набору даних, із ковзним вікном між ними.\n",
        "# Під використанням ковзного вікна мається на увазі, що кожен сегмент частково перекривається з попереднім і наступним сегментом на довжину ковзного вікна.\n",
        "# Давайте розглянемо приклад розбиття одного контексту на декілька менших.\n",
        "# Тут ми використовуємо наступні параметри нашого токенізатора:\n",
        " # - max_length - для встановлення максимальної довжини (тут 100);\n",
        " # - truncation=«only_second» - щоб обрізати контекст (який знаходиться у другій позиції), коли питання з контекстом занадто довге;\n",
        " # - stride - щоб задати кількість токенів, що перекриваються між двома послідовними фрагментами (тут 50);\n",
        " # - return_overflowing_tokens=True - щоб повідомити токенізатору, що ми хочемо отримувати інформацію про токени, які перевищують максимальну довжину контекстного вікна.\n",
        "\n",
        "inputs = tokenizer(\n",
        "    question,\n",
        "    context,\n",
        "    max_length=100,\n",
        "    truncation=\"only_second\", # truncates only context\n",
        "    stride=50, # the number of overlapping tokens between two successive chunks\n",
        "    return_overflowing_tokens=True,\n",
        ")\n",
        "\n",
        "for ids in inputs[\"input_ids\"]:\n",
        "    print(tokenizer.decode(ids)); print()"
      ]
    },
    {
      "cell_type": "code",
      "execution_count": 17,
      "id": "1d27c394",
      "metadata": {
        "execution": {
          "iopub.execute_input": "2024-07-25T13:23:18.146722Z",
          "iopub.status.busy": "2024-07-25T13:23:18.146327Z",
          "iopub.status.idle": "2024-07-25T13:23:18.154053Z",
          "shell.execute_reply": "2024-07-25T13:23:18.153106Z"
        },
        "papermill": {
          "duration": 0.024396,
          "end_time": "2024-07-25T13:23:18.156136",
          "exception": false,
          "start_time": "2024-07-25T13:23:18.131740",
          "status": "completed"
        },
        "tags": [],
        "colab": {
          "base_uri": "https://localhost:8080/"
        },
        "id": "1d27c394",
        "outputId": "77c8ca42-3fdd-4aa1-89f4-3db78bc66f1b"
      },
      "outputs": [
        {
          "output_type": "execute_result",
          "data": {
            "text/plain": [
              "dict_keys(['input_ids', 'token_type_ids', 'attention_mask', 'offset_mapping', 'overflow_to_sample_mapping'])"
            ]
          },
          "metadata": {},
          "execution_count": 17
        }
      ],
      "source": [
        "# Як бачимо, наш приклад було розбито на чотири, кожен з яких містить запитання та частину контексту.\n",
        "\n",
        "# Зверніть увагу, що відповідь на питання («Bernadette Soubirous») з'являється лише у третьому й останньому контекстах, тому, працюючи з довгими контекстами таким чином,\n",
        "# ми створимо кілька навчальних прикладів, у яких відповідь не буде включена в контекст.\n",
        "\n",
        "# Для цих прикладів мітками будуть start_position = end_position = 0.\n",
        "# Ми також встановимо ці мітки у випадку, коли відповідь було урізано так, що ми маємо лише її початок (або кінець).\n",
        "# У прикладах, де відповідь повністю відповідає контексту, мітки будуть індексом токена, з якого починається відповідь, та індексом токена, яким вона закінчується.\n",
        "\n",
        "# Набір даних надає нам початковий символ відповіді в контексті, а додавши довжину відповіді, ми можемо знайти кінцевий символ у контексті.\n",
        "# Щоб зіставити ці дані з індексами токенів, нам потрібно буде використати відображення зі зсувом (offset mappings).\n",
        "\n",
        "# Offset mappings у контексті токенізації — це механізм, що дозволяє зіставляти позиції токенів у токенізованому тексті з їхніми початковими позиціями в оригінальному тексті.\n",
        "# Це особливо корисно для задач NLP, таких як розпізнавання іменованих сутностей (NER), питання-відповідь (QA), або виділення сутностей, де важливо знати точні позиції слів у вихідному тексті.\n",
        "\n",
        "# Коли текст токенізується, кожен токен отримує відповідний offset — це початкова й кінцева позиції токена у вихідному тексті. Наприклад:\n",
        "# Оригінальний текст: «Hello, world!»  # Токенізований текст: [«Hello», «,», «world», «!»]\n",
        "# Offset mappings для кожного токена будуть виглядати так:\n",
        "    # «Hello»: (0, 5)\n",
        "    # «,»: (5, 6)\n",
        "    # «world»: (7, 12)\n",
        "    # «!»: (12, 13)\n",
        "# У задачах QA offset mappings допомагають точно вказати місце в тексті, де знаходиться відповідь на запитання.\n",
        "# Ми можемо попросити наш токенізатор повернути їх, передавши return_offsets_mapping=True:\n",
        "\n",
        "inputs = tokenizer(\n",
        "    question,\n",
        "    context,\n",
        "    max_length=100,\n",
        "    truncation=\"only_second\",\n",
        "    stride=50,\n",
        "    return_overflowing_tokens=True,\n",
        "    return_offsets_mapping=True,\n",
        ")\n",
        "inputs.keys()"
      ]
    },
    {
      "cell_type": "code",
      "execution_count": 18,
      "id": "bfa92eea",
      "metadata": {
        "execution": {
          "iopub.execute_input": "2024-07-25T13:23:18.185267Z",
          "iopub.status.busy": "2024-07-25T13:23:18.184851Z",
          "iopub.status.idle": "2024-07-25T13:23:18.190801Z",
          "shell.execute_reply": "2024-07-25T13:23:18.189921Z"
        },
        "papermill": {
          "duration": 0.022835,
          "end_time": "2024-07-25T13:23:18.192830",
          "exception": false,
          "start_time": "2024-07-25T13:23:18.169995",
          "status": "completed"
        },
        "tags": [],
        "colab": {
          "base_uri": "https://localhost:8080/"
        },
        "id": "bfa92eea",
        "outputId": "9abfe81c-cd99-4452-fdb8-422d02c453b5"
      },
      "outputs": [
        {
          "output_type": "execute_result",
          "data": {
            "text/plain": [
              "[0, 0, 0, 0]"
            ]
          },
          "metadata": {},
          "execution_count": 18
        }
      ],
      "source": [
        "# Оскільки тут ми токенізували лише один приклад, ми отримаємо список з 0:\n",
        "inputs[\"overflow_to_sample_mapping\"]"
      ]
    },
    {
      "cell_type": "code",
      "execution_count": 19,
      "id": "b652fa59",
      "metadata": {
        "execution": {
          "iopub.execute_input": "2024-07-25T13:23:18.220943Z",
          "iopub.status.busy": "2024-07-25T13:23:18.220588Z",
          "iopub.status.idle": "2024-07-25T13:23:18.230188Z",
          "shell.execute_reply": "2024-07-25T13:23:18.229102Z"
        },
        "papermill": {
          "duration": 0.026074,
          "end_time": "2024-07-25T13:23:18.232281",
          "exception": false,
          "start_time": "2024-07-25T13:23:18.206207",
          "status": "completed"
        },
        "tags": [],
        "colab": {
          "base_uri": "https://localhost:8080/"
        },
        "id": "b652fa59",
        "outputId": "a298c571-f991-4559-ca45-c37e3c27c277"
      },
      "outputs": [
        {
          "output_type": "stream",
          "name": "stdout",
          "text": [
            "The 4 examples gave 19 features.\n",
            "Here is where each comes from: [0, 0, 0, 0, 1, 1, 1, 1, 2, 2, 2, 2, 3, 3, 3, 3, 3, 3, 3].\n"
          ]
        }
      ],
      "source": [
        "# Але якщо ми токенізуємо більше прикладів, це стане більш корисним:\n",
        "inputs = tokenizer(\n",
        "    raw_datasets[\"train\"][2:6][\"question\"],\n",
        "    raw_datasets[\"train\"][2:6][\"context\"],\n",
        "    max_length=100,\n",
        "    truncation=\"only_second\",\n",
        "    stride=50,\n",
        "    return_overflowing_tokens=True,\n",
        "    return_offsets_mapping=True,\n",
        ")\n",
        "\n",
        "print(f\"The 4 examples gave {len(inputs['input_ids'])} features.\")\n",
        "print(f\"Here is where each comes from: {inputs['overflow_to_sample_mapping']}.\")"
      ]
    },
    {
      "cell_type": "code",
      "execution_count": 20,
      "id": "5673f2dd",
      "metadata": {
        "execution": {
          "iopub.execute_input": "2024-07-25T13:23:18.263148Z",
          "iopub.status.busy": "2024-07-25T13:23:18.262217Z",
          "iopub.status.idle": "2024-07-25T13:23:18.276886Z",
          "shell.execute_reply": "2024-07-25T13:23:18.275980Z"
        },
        "papermill": {
          "duration": 0.031405,
          "end_time": "2024-07-25T13:23:18.278991",
          "exception": false,
          "start_time": "2024-07-25T13:23:18.247586",
          "status": "completed"
        },
        "tags": [],
        "colab": {
          "base_uri": "https://localhost:8080/"
        },
        "id": "5673f2dd",
        "outputId": "89cfdc38-379c-481e-8f01-ccf7085c023f"
      },
      "outputs": [
        {
          "output_type": "execute_result",
          "data": {
            "text/plain": [
              "([83, 51, 19, 0, 0, 64, 27, 0, 34, 0, 0, 0, 67, 34, 0, 0, 0, 0, 0],\n",
              " [85, 53, 21, 0, 0, 70, 33, 0, 40, 0, 0, 0, 68, 35, 0, 0, 0, 0, 0])"
            ]
          },
          "metadata": {},
          "execution_count": 20
        }
      ],
      "source": [
        "answers = raw_datasets[\"train\"][2:6][\"answers\"]\n",
        "start_positions = []\n",
        "end_positions = []\n",
        "\n",
        "for i, offset in enumerate(inputs[\"offset_mapping\"]):\n",
        "    sample_idx = inputs[\"overflow_to_sample_mapping\"][i]\n",
        "    answer = answers[sample_idx]\n",
        "    start_char = answer[\"answer_start\"][0]\n",
        "    end_char = answer[\"answer_start\"][0] + len(answer[\"text\"][0])\n",
        "    sequence_ids = inputs.sequence_ids(i)\n",
        "\n",
        "    # Find the start and end of the context\n",
        "    idx = 0\n",
        "    while sequence_ids[idx] != 1:\n",
        "        idx += 1\n",
        "    context_start = idx\n",
        "    while sequence_ids[idx] == 1:\n",
        "        idx += 1\n",
        "    context_end = idx - 1\n",
        "\n",
        "    # If the answer is not fully inside the context, label is (0, 0)\n",
        "    if offset[context_start][0] > start_char or offset[context_end][1] < end_char:\n",
        "        start_positions.append(0)\n",
        "        end_positions.append(0)\n",
        "    else:\n",
        "        # Otherwise it's the start and end token positions\n",
        "        idx = context_start\n",
        "        while idx <= context_end and offset[idx][0] <= start_char:\n",
        "            idx += 1\n",
        "        start_positions.append(idx - 1)\n",
        "\n",
        "        idx = context_end\n",
        "        while idx >= context_start and offset[idx][1] >= end_char:\n",
        "            idx -= 1\n",
        "        end_positions.append(idx + 1)\n",
        "\n",
        "start_positions, end_positions"
      ]
    },
    {
      "cell_type": "code",
      "execution_count": 21,
      "id": "59d48a17",
      "metadata": {
        "execution": {
          "iopub.execute_input": "2024-07-25T13:23:18.308402Z",
          "iopub.status.busy": "2024-07-25T13:23:18.308057Z",
          "iopub.status.idle": "2024-07-25T13:23:18.314466Z",
          "shell.execute_reply": "2024-07-25T13:23:18.313518Z"
        },
        "papermill": {
          "duration": 0.023802,
          "end_time": "2024-07-25T13:23:18.316521",
          "exception": false,
          "start_time": "2024-07-25T13:23:18.292719",
          "status": "completed"
        },
        "tags": [],
        "colab": {
          "base_uri": "https://localhost:8080/"
        },
        "id": "59d48a17",
        "outputId": "04204261-1bb5-48a6-dec5-f1f9965def01"
      },
      "outputs": [
        {
          "output_type": "stream",
          "name": "stdout",
          "text": [
            "Theoretical answer: the Main Building, labels give: the Main Building\n"
          ]
        }
      ],
      "source": [
        "idx = 0\n",
        "sample_idx = inputs[\"overflow_to_sample_mapping\"][idx]\n",
        "answer = answers[sample_idx][\"text\"][0]\n",
        "\n",
        "start = start_positions[idx]\n",
        "end = end_positions[idx]\n",
        "labeled_answer = tokenizer.decode(inputs[\"input_ids\"][idx][start : end + 1])\n",
        "\n",
        "print(f\"Theoretical answer: {answer}, labels give: {labeled_answer}\")"
      ]
    },
    {
      "cell_type": "code",
      "execution_count": 22,
      "id": "f7ecaec7",
      "metadata": {
        "execution": {
          "iopub.execute_input": "2024-07-25T13:23:18.348051Z",
          "iopub.status.busy": "2024-07-25T13:23:18.347116Z",
          "iopub.status.idle": "2024-07-25T13:23:18.360332Z",
          "shell.execute_reply": "2024-07-25T13:23:18.359327Z"
        },
        "papermill": {
          "duration": 0.03059,
          "end_time": "2024-07-25T13:23:18.362385",
          "exception": false,
          "start_time": "2024-07-25T13:23:18.331795",
          "status": "completed"
        },
        "tags": [],
        "id": "f7ecaec7"
      },
      "outputs": [],
      "source": [
        "# Створимо функцію попередньої обробки даних, яку застосуємо до всього набору навчальних даних.\n",
        "# Ми додамо кожній ознаці максимальну довжину, оскільки більшість контекстів будуть довгими (і відповідні вибірки будуть розбиті на кілька ознак):\n",
        "\n",
        "max_length = 384\n",
        "stride = 128\n",
        "\n",
        "\n",
        "def preprocess_training_examples(examples):\n",
        "    questions = [q.strip() for q in examples[\"question\"]]\n",
        "    inputs = tokenizer(\n",
        "        questions,\n",
        "        examples[\"context\"],\n",
        "        max_length=max_length,\n",
        "        truncation=\"only_second\",\n",
        "        stride=stride,\n",
        "        return_overflowing_tokens=True,\n",
        "        return_offsets_mapping=True,\n",
        "        padding=\"max_length\",\n",
        "    )\n",
        "\n",
        "    offset_mapping = inputs.pop(\"offset_mapping\")\n",
        "    sample_map = inputs.pop(\"overflow_to_sample_mapping\")\n",
        "    answers = examples[\"answers\"]\n",
        "    start_positions = []\n",
        "    end_positions = []\n",
        "\n",
        "    for i, offset in enumerate(offset_mapping):\n",
        "        sample_idx = sample_map[i]\n",
        "        answer = answers[sample_idx]\n",
        "        start_char = answer[\"answer_start\"][0]\n",
        "        end_char = answer[\"answer_start\"][0] + len(answer[\"text\"][0])\n",
        "        sequence_ids = inputs.sequence_ids(i)\n",
        "\n",
        "        # Find the start and end of the context\n",
        "        idx = 0\n",
        "        while sequence_ids[idx] != 1:\n",
        "            idx += 1\n",
        "        context_start = idx\n",
        "        while sequence_ids[idx] == 1:\n",
        "            idx += 1\n",
        "        context_end = idx - 1\n",
        "\n",
        "        # If the answer is not fully inside the context, label is (0, 0)\n",
        "        if offset[context_start][0] > start_char or offset[context_end][1] < end_char:\n",
        "            start_positions.append(0)\n",
        "            end_positions.append(0)\n",
        "        else:\n",
        "            # Otherwise it's the start and end token positions\n",
        "            idx = context_start\n",
        "            while idx <= context_end and offset[idx][0] <= start_char:\n",
        "                idx += 1\n",
        "            start_positions.append(idx - 1)\n",
        "\n",
        "            idx = context_end\n",
        "            while idx >= context_start and offset[idx][1] >= end_char:\n",
        "                idx -= 1\n",
        "            end_positions.append(idx + 1)\n",
        "\n",
        "    inputs[\"start_positions\"] = start_positions\n",
        "    inputs[\"end_positions\"] = end_positions\n",
        "    return inputs"
      ]
    },
    {
      "cell_type": "code",
      "execution_count": 23,
      "id": "d3ada473",
      "metadata": {
        "execution": {
          "iopub.execute_input": "2024-07-25T13:23:18.393904Z",
          "iopub.status.busy": "2024-07-25T13:23:18.393046Z",
          "iopub.status.idle": "2024-07-25T13:24:15.135335Z",
          "shell.execute_reply": "2024-07-25T13:24:15.134412Z"
        },
        "papermill": {
          "duration": 56.759492,
          "end_time": "2024-07-25T13:24:15.137435",
          "exception": false,
          "start_time": "2024-07-25T13:23:18.377943",
          "status": "completed"
        },
        "tags": [],
        "colab": {
          "base_uri": "https://localhost:8080/"
        },
        "id": "d3ada473",
        "outputId": "be8cd703-99ea-4238-a48a-a62c16726794"
      },
      "outputs": [
        {
          "output_type": "execute_result",
          "data": {
            "text/plain": [
              "(87599, 88729)"
            ]
          },
          "metadata": {},
          "execution_count": 23
        }
      ],
      "source": [
        "# Зверніть увагу, що ми визначили дві константи для визначення максимальної довжини, а також довжини ковзного вікна, і що ми додали невелике очищення перед токенізацією.\n",
        "# Деякі питання в наборі даних SQuAD мають зайві пробіли на початку і в кінці, які нічого не додають\n",
        "# (і займають місце при токенізації, якщо ви використовуєте модель на зразок RoBERTa), тому ми видалили ці зайві пробіли.\n",
        "\n",
        "# Щоб застосувати цю функцію до всієї навчальної вибірки, ми використовуємо метод Dataset.map() з прапором batched=True.\n",
        "# Це необхідно, бо ми змінюємо довжину набору даних (оскільки один приклад може давати кілька навчальних ознак):\n",
        "\n",
        "train_dataset = raw_datasets[\"train\"].map(\n",
        "    preprocess_training_examples,\n",
        "    batched=True,\n",
        "    remove_columns=raw_datasets[\"train\"].column_names,\n",
        ")\n",
        "len(raw_datasets[\"train\"]), len(train_dataset)"
      ]
    },
    {
      "cell_type": "markdown",
      "source": [
        "## Підготовка валідаційних даних"
      ],
      "metadata": {
        "id": "aIhpwQqGfGV3"
      },
      "id": "aIhpwQqGfGV3"
    },
    {
      "cell_type": "code",
      "execution_count": 24,
      "id": "366f09df",
      "metadata": {
        "execution": {
          "iopub.execute_input": "2024-07-25T13:24:15.167342Z",
          "iopub.status.busy": "2024-07-25T13:24:15.166614Z",
          "iopub.status.idle": "2024-07-25T13:24:15.174296Z",
          "shell.execute_reply": "2024-07-25T13:24:15.173425Z"
        },
        "papermill": {
          "duration": 0.02481,
          "end_time": "2024-07-25T13:24:15.176243",
          "exception": false,
          "start_time": "2024-07-25T13:24:15.151433",
          "status": "completed"
        },
        "tags": [],
        "id": "366f09df"
      },
      "outputs": [],
      "source": [
        "# Як бачимо, попередня обробка додала приблизно 1 000 ознак. Тепер наш навчальний набір готовий до використання!\n",
        "\n",
        "# Попередня обробка даних валідації буде дещо простішою, оскільки нам не потрібно генерувати мітки (якщо тільки ми не хочемо обчислити функцію втрат валідації,\n",
        "# але це число не допоможе нам зрозуміти, наскільки хороша модель). Найкращою буде інтерпретація прогнозів моделі в діапазони вихідного контексту.\n",
        "\n",
        "# Для цього нам просто потрібно буде зберігати offset mappings і спосіб зіставляти кожну створену ознаку з оригінальним прикладом, з якого вона походить.\n",
        "# Оскільки в оригінальному наборі даних є стовпчик ID, ми використаємо його.\n",
        "\n",
        "# Єдине, що ми зробимо додатково, це трохи почистимо offset mappings. Вони міститимуть зміщення для питання й контексту, але на етапі постобробки ми не зможемо дізнатися,\n",
        "# яка частина вхідних ідентифікаторів відповідає контексту, а яка — питанню (метод sequence_ids(), який ми використовували, доступний лише для виводу токенізатора).\n",
        "\n",
        "# Отже, ми встановимо зміщення, що відповідають питанню, у значення None:\n",
        "\n",
        "def preprocess_validation_examples(examples):\n",
        "    questions = [q.strip() for q in examples[\"question\"]]\n",
        "    inputs = tokenizer(\n",
        "        questions,\n",
        "        examples[\"context\"],\n",
        "        max_length=max_length,\n",
        "        truncation=\"only_second\",\n",
        "        stride=stride,\n",
        "        return_overflowing_tokens=True,\n",
        "        return_offsets_mapping=True,\n",
        "        padding=\"max_length\",\n",
        "    )\n",
        "\n",
        "    sample_map = inputs.pop(\"overflow_to_sample_mapping\")\n",
        "    example_ids = []\n",
        "\n",
        "    for i in range(len(inputs[\"input_ids\"])):\n",
        "        sample_idx = sample_map[i]\n",
        "        example_ids.append(examples[\"id\"][sample_idx])\n",
        "\n",
        "        sequence_ids = inputs.sequence_ids(i)\n",
        "        offset = inputs[\"offset_mapping\"][i]\n",
        "        inputs[\"offset_mapping\"][i] = [\n",
        "            o if sequence_ids[k] == 1 else None for k, o in enumerate(offset)\n",
        "        ]\n",
        "\n",
        "    inputs[\"example_id\"] = example_ids\n",
        "    return inputs"
      ]
    },
    {
      "cell_type": "code",
      "execution_count": 25,
      "id": "cbb718c4",
      "metadata": {
        "execution": {
          "iopub.execute_input": "2024-07-25T13:24:15.206673Z",
          "iopub.status.busy": "2024-07-25T13:24:15.205966Z",
          "iopub.status.idle": "2024-07-25T13:24:24.184481Z",
          "shell.execute_reply": "2024-07-25T13:24:24.183578Z"
        },
        "papermill": {
          "duration": 8.996047,
          "end_time": "2024-07-25T13:24:24.186595",
          "exception": false,
          "start_time": "2024-07-25T13:24:15.190548",
          "status": "completed"
        },
        "tags": [],
        "colab": {
          "base_uri": "https://localhost:8080/",
          "height": 67,
          "referenced_widgets": [
            "54a275b448d34d1e877446a50b1a29e3",
            "95ff8714f6b0492191c810736957ed8f",
            "879e0f4d70f8460fad2e1f21ab48c7b0",
            "6e7dd07cb5ef4515a8cc5b75ad1da506",
            "32eea94ce7a547afa44b4d1fac447b44",
            "6e2d45534796457eb9a53140be92f5c1",
            "0e5a669b108148e1859849a9e0cfa3c8",
            "a503631b98724c8784f2e8ecfc66fe31",
            "f802c9a30cfa47099d34db041d39a69f",
            "6c19a432601d4c9fa9e1cc0d888ef6d8",
            "b94e6be44f654292b0e508001feb0ba3"
          ]
        },
        "id": "cbb718c4",
        "outputId": "8a7d0f5c-9183-44c4-9b33-3e6fe2019833"
      },
      "outputs": [
        {
          "output_type": "display_data",
          "data": {
            "text/plain": [
              "Map:   0%|          | 0/10570 [00:00<?, ? examples/s]"
            ],
            "application/vnd.jupyter.widget-view+json": {
              "version_major": 2,
              "version_minor": 0,
              "model_id": "54a275b448d34d1e877446a50b1a29e3"
            }
          },
          "metadata": {}
        },
        {
          "output_type": "execute_result",
          "data": {
            "text/plain": [
              "(10570, 10822)"
            ]
          },
          "metadata": {},
          "execution_count": 25
        }
      ],
      "source": [
        "# Ми можемо застосувати цю функцію до всього набору даних для валідації:\n",
        "validation_dataset = raw_datasets[\"validation\"].map(\n",
        "    preprocess_validation_examples,\n",
        "    batched=True,\n",
        "    remove_columns=raw_datasets[\"validation\"].column_names,\n",
        ")\n",
        "len(raw_datasets[\"validation\"]), len(validation_dataset)"
      ]
    },
    {
      "cell_type": "markdown",
      "source": [
        "## Етап тренування"
      ],
      "metadata": {
        "id": "xGM2gkzFf1aD"
      },
      "id": "xGM2gkzFf1aD"
    },
    {
      "cell_type": "markdown",
      "source": [
        "### Визначення метрики\n",
        "\n",
        "\n",
        "\n",
        "Набір даних SQuAD має спеціалізовану метрику, яка дає змогу оцінити якість моделі. Метрика squad забезпечує декілька ключових показників для оцінки якості моделей питання-відповіді.\n",
        "\n",
        "\n",
        "\n",
        "Exact Match (EM) — це метрика, яка визначає, чи точно відповідає передбачена відповідь моделі правильній відповіді в тексті. Для кожного запитання й відповіді модель генерує відповідь, яку потім порівнюють з еталонною відповіддю. Якщо відповідь моделі й еталонна відповідь повністю збігаються, це вважається точною відповіддю.\n",
        "\n",
        "\n",
        "\n",
        "EM є бінарним показником: 1 (успіх) або 0 (неуспіх). Якщо відповідь моделі повністю збігається з еталонною відповіддю, EM дорівнює 1, інакше — 0.\n",
        "\n",
        "\n",
        "\n",
        "Середній EM для всіх запитань у тестовому наборі використовується для оцінки загальної точності моделі. Це є простим і прямим способом виміряти, наскільки часто модель надає точні відповіді.\n",
        "\n",
        "\n",
        "\n",
        "F1 Score — це метрика, яка враховує як precision, так і recall відповіді. Вона є більш детальною й інформативною, ніж EM, оскільки оцінює часткові збіги між відповіддю моделі та еталонною відповіддю.\n",
        "\n",
        "\n",
        "\n",
        "Precision розраховується як відношення кількості правильно передбачених слів (або токенів) до загальної кількості слів, передбачених моделлю. Тобто скільки з тих слів, які модель вважала правильними, насправді є правильними.\n",
        "\n",
        "\n",
        "\n",
        "Recall розраховується як відношення кількості правильно передбачених слів до загальної кількості слів в еталонній відповіді. Тобто скільки з правильних слів в еталонній відповіді було знайдено моделлю.\n",
        "\n",
        "\n",
        "\n",
        "Середній F1 Score для всіх запитань у тестовому наборі використовується для оцінки загальної якості відповіді моделі. F1 Score є корисним для оцінки часткових збігів, що може бути особливо важливим у випадках, коли точні відповіді не завжди можливі або не є єдиними можливими правильними відповідями.\n",
        "\n"
      ],
      "metadata": {
        "id": "R03eZO5_f57w"
      },
      "id": "R03eZO5_f57w"
    },
    {
      "cell_type": "code",
      "execution_count": 26,
      "id": "f7f813ac",
      "metadata": {
        "execution": {
          "iopub.execute_input": "2024-07-25T13:24:24.216890Z",
          "iopub.status.busy": "2024-07-25T13:24:24.216515Z",
          "iopub.status.idle": "2024-07-25T13:24:25.027299Z",
          "shell.execute_reply": "2024-07-25T13:24:25.026222Z"
        },
        "papermill": {
          "duration": 0.828477,
          "end_time": "2024-07-25T13:24:25.029564",
          "exception": false,
          "start_time": "2024-07-25T13:24:24.201087",
          "status": "completed"
        },
        "tags": [],
        "id": "f7f813ac"
      },
      "outputs": [],
      "source": [
        "# Завантажимо об’єкт метрики.\n",
        "metric = evaluate.load(\"squad\")"
      ]
    },
    {
      "cell_type": "markdown",
      "source": [
        "## Підготовка до тренування"
      ],
      "metadata": {
        "id": "DHgtDPc6gJ_Z"
      },
      "id": "DHgtDPc6gJ_Z"
    },
    {
      "cell_type": "code",
      "execution_count": 27,
      "id": "2a9ff57f",
      "metadata": {
        "execution": {
          "iopub.execute_input": "2024-07-25T13:24:25.061706Z",
          "iopub.status.busy": "2024-07-25T13:24:25.061310Z",
          "iopub.status.idle": "2024-07-25T13:24:25.071105Z",
          "shell.execute_reply": "2024-07-25T13:24:25.070219Z"
        },
        "papermill": {
          "duration": 0.028869,
          "end_time": "2024-07-25T13:24:25.073283",
          "exception": false,
          "start_time": "2024-07-25T13:24:25.044414",
          "status": "completed"
        },
        "tags": [],
        "id": "2a9ff57f"
      },
      "outputs": [],
      "source": [
        "# Спочатку нам потрібно створити DataLoaders з наших наборів даних.\n",
        "# Ми встановлюємо формат цих наборів даних на torch і видаляємо стовпці з валідаційного набору, які не використовуються моделлю.\n",
        "# Потім ми можемо використати default_data_collator, наданий Transformers, як collate_fn і перемішати навчальний набір, але не валідаційний:\n",
        "\n",
        "train_dataset.set_format(\"torch\")\n",
        "validation_set = validation_dataset.remove_columns([\"example_id\", \"offset_mapping\"])\n",
        "validation_set.set_format(\"torch\")\n",
        "\n",
        "train_dataloader = DataLoader(\n",
        "    train_dataset,\n",
        "    shuffle=True,\n",
        "    collate_fn=default_data_collator,\n",
        "    batch_size=16,\n",
        ")\n",
        "eval_dataloader = DataLoader(\n",
        "    validation_set, collate_fn=default_data_collator, batch_size=32\n",
        ")"
      ]
    },
    {
      "cell_type": "code",
      "execution_count": 28,
      "id": "c1193f5d",
      "metadata": {
        "execution": {
          "iopub.execute_input": "2024-07-25T13:24:25.105031Z",
          "iopub.status.busy": "2024-07-25T13:24:25.104230Z",
          "iopub.status.idle": "2024-07-25T13:24:25.112915Z",
          "shell.execute_reply": "2024-07-25T13:24:25.112137Z"
        },
        "papermill": {
          "duration": 0.026704,
          "end_time": "2024-07-25T13:24:25.115052",
          "exception": false,
          "start_time": "2024-07-25T13:24:25.088348",
          "status": "completed"
        },
        "tags": [],
        "id": "c1193f5d"
      },
      "outputs": [],
      "source": [
        "# Визначимо оптимізатор.\n",
        "optimizer = AdamW(model.parameters(), lr=2e-5)"
      ]
    },
    {
      "cell_type": "code",
      "execution_count": 29,
      "id": "16503270",
      "metadata": {
        "execution": {
          "iopub.execute_input": "2024-07-25T13:24:25.146978Z",
          "iopub.status.busy": "2024-07-25T13:24:25.146082Z",
          "iopub.status.idle": "2024-07-25T13:24:25.151069Z",
          "shell.execute_reply": "2024-07-25T13:24:25.150140Z"
        },
        "papermill": {
          "duration": 0.022877,
          "end_time": "2024-07-25T13:24:25.153008",
          "exception": false,
          "start_time": "2024-07-25T13:24:25.130131",
          "status": "completed"
        },
        "tags": [],
        "id": "16503270"
      },
      "outputs": [],
      "source": [
        "# Визначимо додаткові гіперпараметри моделі.\n",
        "n_best = 20\n",
        "max_answer_length = 30\n",
        "num_train_epochs = 3\n",
        "num_update_steps_per_epoch = len(train_dataloader)\n",
        "num_training_steps = num_train_epochs * num_update_steps_per_epoch"
      ]
    },
    {
      "cell_type": "code",
      "execution_count": 30,
      "id": "70a764bc",
      "metadata": {
        "execution": {
          "iopub.execute_input": "2024-07-25T13:24:25.184332Z",
          "iopub.status.busy": "2024-07-25T13:24:25.183412Z",
          "iopub.status.idle": "2024-07-25T13:24:25.188026Z",
          "shell.execute_reply": "2024-07-25T13:24:25.187000Z"
        },
        "papermill": {
          "duration": 0.022272,
          "end_time": "2024-07-25T13:24:25.190017",
          "exception": false,
          "start_time": "2024-07-25T13:24:25.167745",
          "status": "completed"
        },
        "tags": [],
        "id": "70a764bc"
      },
      "outputs": [],
      "source": [
        "# Визначимо папку, в яку будемо зберігати натреновану модель.\n",
        "output_dir = '/kaggle/working/bert-finetuned-squad.pt'"
      ]
    },
    {
      "cell_type": "code",
      "execution_count": 31,
      "id": "bcc72415",
      "metadata": {
        "execution": {
          "iopub.execute_input": "2024-07-25T13:24:25.221265Z",
          "iopub.status.busy": "2024-07-25T13:24:25.220857Z",
          "iopub.status.idle": "2024-07-25T13:24:25.234132Z",
          "shell.execute_reply": "2024-07-25T13:24:25.233192Z"
        },
        "papermill": {
          "duration": 0.031468,
          "end_time": "2024-07-25T13:24:25.236135",
          "exception": false,
          "start_time": "2024-07-25T13:24:25.204667",
          "status": "completed"
        },
        "tags": [],
        "id": "bcc72415"
      },
      "outputs": [],
      "source": [
        "# Визначимо функцію розрахунку метрики.\n",
        "# Тут example_to_features створює словник, де кожен example_id зіставляється зі списком індексів, що відповідають цьому прикладу.\n",
        "# Для кожного прикладу з examples код витягує його ідентифікатор і текст контексту.\n",
        "# Для кожного індексу ознак, пов'язаних з прикладом, витягуються логіти початку та кінця відповіді, а також offsets mapping.\n",
        "# Індекси для найкращих можливих початків і закінчень відповіді вибираються на основі логітів.\n",
        "# Відповіді створюються на основі комбінацій початкових і кінцевих індексів за умови, що вони відповідають критеріям (довжина і межі).\n",
        "# Вибирається відповідь з найвищим балом логіту й додається до списку передбачених відповідей.\n",
        "# Обчислюється метрика якості за допомогою функції metric.compute, яка порівнює передбачені відповіді з еталонними відповідями.\n",
        "\n",
        "def compute_metrics(start_logits, end_logits, features, examples):\n",
        "    example_to_features = collections.defaultdict(list)\n",
        "    for idx, feature in enumerate(features):\n",
        "        example_to_features[feature[\"example_id\"]].append(idx)\n",
        "\n",
        "    predicted_answers = []\n",
        "    for example in tqdm(examples):\n",
        "        example_id = example[\"id\"]\n",
        "        context = example[\"context\"]\n",
        "        answers = []\n",
        "\n",
        "        # Loop through all features associated with that example\n",
        "        for feature_index in example_to_features[example_id]:\n",
        "            start_logit = start_logits[feature_index]\n",
        "            end_logit = end_logits[feature_index]\n",
        "            offsets = features[feature_index][\"offset_mapping\"]\n",
        "\n",
        "            start_indexes = np.argsort(start_logit)[-1 : -n_best - 1 : -1].tolist()\n",
        "            end_indexes = np.argsort(end_logit)[-1 : -n_best - 1 : -1].tolist()\n",
        "            for start_index in start_indexes:\n",
        "                for end_index in end_indexes:\n",
        "                    # Skip answers that are not fully in the context\n",
        "                    if offsets[start_index] is None or offsets[end_index] is None:\n",
        "                        continue\n",
        "                    # Skip answers with a length that is either < 0 or > max_answer_length\n",
        "                    if (\n",
        "                        end_index < start_index\n",
        "                        or end_index - start_index + 1 > max_answer_length\n",
        "                    ):\n",
        "                        continue\n",
        "\n",
        "                    answer = {\n",
        "                        \"text\": context[offsets[start_index][0] : offsets[end_index][1]],\n",
        "                        \"logit_score\": start_logit[start_index] + end_logit[end_index],\n",
        "                    }\n",
        "                    answers.append(answer)\n",
        "\n",
        "        # Select the answer with the best score\n",
        "        if len(answers) > 0:\n",
        "            best_answer = max(answers, key=lambda x: x[\"logit_score\"])\n",
        "            predicted_answers.append(\n",
        "                {\"id\": example_id, \"prediction_text\": best_answer[\"text\"]}\n",
        "            )\n",
        "        else:\n",
        "            predicted_answers.append({\"id\": example_id, \"prediction_text\": \"\"})\n",
        "\n",
        "    theoretical_answers = [{\"id\": ex[\"id\"], \"answers\": ex[\"answers\"]} for ex in examples]\n",
        "    return metric.compute(predictions=predicted_answers, references=theoretical_answers)\n"
      ]
    },
    {
      "cell_type": "code",
      "execution_count": null,
      "id": "a809ec00",
      "metadata": {
        "execution": {
          "iopub.execute_input": "2024-07-25T13:24:25.267691Z",
          "iopub.status.busy": "2024-07-25T13:24:25.266613Z",
          "iopub.status.idle": "2024-07-25T16:19:40.339019Z",
          "shell.execute_reply": "2024-07-25T16:19:40.338202Z"
        },
        "papermill": {
          "duration": 10515.09061,
          "end_time": "2024-07-25T16:19:40.341401",
          "exception": false,
          "start_time": "2024-07-25T13:24:25.250791",
          "status": "completed"
        },
        "tags": [],
        "id": "a809ec00",
        "colab": {
          "base_uri": "https://localhost:8080/",
          "height": 49,
          "referenced_widgets": [
            "fb323def754d4a4184f0c39f38a3f9b5",
            "aa9bbf24041941baa2b4003743c185c2",
            "edcab883100144649e9a3473b961ede9",
            "806a7cba0bce4b11a517732db70bd018",
            "d2ab3c92a72542fb8f9437795a9d9fce",
            "b1b60c1919044942afeb71c2a9a7b45b",
            "7603646132b1473f8db6cd4fc58f37db",
            "c7cce46baf9840bfb99451c4b834ffc0",
            "88d7726c405744d98e5ec59d172b05b0",
            "bdb147fb97c744dba9107ddc12683234",
            "881af21da2094ef38414c70ce3743b59"
          ]
        },
        "outputId": "fc5d9c3a-14e4-49a5-d8d6-29887efa96fe"
      },
      "outputs": [
        {
          "output_type": "display_data",
          "data": {
            "text/plain": [
              "  0%|          | 0/16638 [00:00<?, ?it/s]"
            ],
            "application/vnd.jupyter.widget-view+json": {
              "version_major": 2,
              "version_minor": 0,
              "model_id": "fb323def754d4a4184f0c39f38a3f9b5"
            }
          },
          "metadata": {}
        }
      ],
      "source": [
        "progress_bar = tqdm(range(num_training_steps))\n",
        "\n",
        "for epoch in range(num_train_epochs):\n",
        "    # Training\n",
        "    model.train()\n",
        "    for step, batch in enumerate(train_dataloader):\n",
        "        batch = {k: v.to(device) for k, v in batch.items()}\n",
        "        outputs = model(**batch)\n",
        "        loss = outputs.loss\n",
        "        loss.backward()\n",
        "\n",
        "        optimizer.step()\n",
        "        optimizer.zero_grad()\n",
        "        progress_bar.update(1)\n",
        "\n",
        "    # Evaluation\n",
        "    model.eval()\n",
        "    start_logits = []\n",
        "    end_logits = []\n",
        "\n",
        "    for batch in tqdm(eval_dataloader):\n",
        "        with torch.no_grad():\n",
        "            batch = {k: v.to(device) for k, v in batch.items()}\n",
        "            outputs = model(**batch)\n",
        "\n",
        "        start_logits.append(outputs.start_logits.cpu().numpy())\n",
        "        end_logits.append(outputs.end_logits.cpu().numpy())\n",
        "\n",
        "    start_logits = np.concatenate(start_logits)\n",
        "    end_logits = np.concatenate(end_logits)\n",
        "    start_logits = start_logits[: len(validation_dataset)]\n",
        "    end_logits = end_logits[: len(validation_dataset)]\n",
        "\n",
        "    metrics = compute_metrics(\n",
        "        start_logits, end_logits, validation_dataset, raw_datasets[\"validation\"]\n",
        "    )\n",
        "    print(f\"epoch {epoch}:\", metrics)\n",
        "\n",
        "    model.save_pretrained(output_dir)"
      ]
    },
    {
      "cell_type": "code",
      "source": [
        "# Метрика Exact Match (EM) зросла з 78.90% до 80.88%. Це показує, що модель з часом покращує свою здатність надавати точні відповіді, які повністю збігаються з еталонними.\n",
        "# F1 Score зросла з 86.95% до 88.15%. Це свідчить про те, що модель також покращує точність і повноту відповідей — краще знаходить релевантні частини тексту.\n",
        "# З огляду на те, що модель покращує свої результати з кожною епохою, можна розглянути можливість додаткового тренування для досягнення ще кращих результатів,\n",
        "# якщо це є можливим і не призводить до перенавчання.\n",
        "# Також корисно провести аналіз помилок, щоб зрозуміти типи запитань або контекстів, з якими модель має труднощі, і відповідно корегувати дані або методи навчання."
      ],
      "metadata": {
        "id": "DOBm7L4chPYB"
      },
      "id": "DOBm7L4chPYB",
      "execution_count": null,
      "outputs": []
    }
  ],
  "metadata": {
    "kaggle": {
      "accelerator": "gpu",
      "dataSources": [],
      "dockerImageVersionId": 30747,
      "isGpuEnabled": true,
      "isInternetEnabled": true,
      "language": "python",
      "sourceType": "notebook"
    },
    "kernelspec": {
      "display_name": "Python 3",
      "name": "python3"
    },
    "language_info": {
      "codemirror_mode": {
        "name": "ipython",
        "version": 3
      },
      "file_extension": ".py",
      "mimetype": "text/x-python",
      "name": "python",
      "nbconvert_exporter": "python",
      "pygments_lexer": "ipython3",
      "version": "3.10.13"
    },
    "papermill": {
      "default_parameters": {},
      "duration": 10650.563125,
      "end_time": "2024-07-25T16:19:43.960922",
      "environment_variables": {},
      "exception": null,
      "input_path": "__notebook__.ipynb",
      "output_path": "__notebook__.ipynb",
      "parameters": {},
      "start_time": "2024-07-25T13:22:13.397797",
      "version": "2.5.0"
    },
    "toc": {
      "base_numbering": 1,
      "nav_menu": {
        "height": "162px",
        "width": "252px"
      },
      "number_sections": true,
      "sideBar": true,
      "skip_h1_title": false,
      "title_cell": "Table of Contents",
      "title_sidebar": "Contents",
      "toc_cell": false,
      "toc_position": {},
      "toc_section_display": true,
      "toc_window_display": false
    },
    "colab": {
      "provenance": []
    },
    "widgets": {
      "application/vnd.jupyter.widget-state+json": {
        "54a275b448d34d1e877446a50b1a29e3": {
          "model_module": "@jupyter-widgets/controls",
          "model_name": "HBoxModel",
          "model_module_version": "1.5.0",
          "state": {
            "_dom_classes": [],
            "_model_module": "@jupyter-widgets/controls",
            "_model_module_version": "1.5.0",
            "_model_name": "HBoxModel",
            "_view_count": null,
            "_view_module": "@jupyter-widgets/controls",
            "_view_module_version": "1.5.0",
            "_view_name": "HBoxView",
            "box_style": "",
            "children": [
              "IPY_MODEL_95ff8714f6b0492191c810736957ed8f",
              "IPY_MODEL_879e0f4d70f8460fad2e1f21ab48c7b0",
              "IPY_MODEL_6e7dd07cb5ef4515a8cc5b75ad1da506"
            ],
            "layout": "IPY_MODEL_32eea94ce7a547afa44b4d1fac447b44"
          }
        },
        "95ff8714f6b0492191c810736957ed8f": {
          "model_module": "@jupyter-widgets/controls",
          "model_name": "HTMLModel",
          "model_module_version": "1.5.0",
          "state": {
            "_dom_classes": [],
            "_model_module": "@jupyter-widgets/controls",
            "_model_module_version": "1.5.0",
            "_model_name": "HTMLModel",
            "_view_count": null,
            "_view_module": "@jupyter-widgets/controls",
            "_view_module_version": "1.5.0",
            "_view_name": "HTMLView",
            "description": "",
            "description_tooltip": null,
            "layout": "IPY_MODEL_6e2d45534796457eb9a53140be92f5c1",
            "placeholder": "​",
            "style": "IPY_MODEL_0e5a669b108148e1859849a9e0cfa3c8",
            "value": "Map: 100%"
          }
        },
        "879e0f4d70f8460fad2e1f21ab48c7b0": {
          "model_module": "@jupyter-widgets/controls",
          "model_name": "FloatProgressModel",
          "model_module_version": "1.5.0",
          "state": {
            "_dom_classes": [],
            "_model_module": "@jupyter-widgets/controls",
            "_model_module_version": "1.5.0",
            "_model_name": "FloatProgressModel",
            "_view_count": null,
            "_view_module": "@jupyter-widgets/controls",
            "_view_module_version": "1.5.0",
            "_view_name": "ProgressView",
            "bar_style": "success",
            "description": "",
            "description_tooltip": null,
            "layout": "IPY_MODEL_a503631b98724c8784f2e8ecfc66fe31",
            "max": 10570,
            "min": 0,
            "orientation": "horizontal",
            "style": "IPY_MODEL_f802c9a30cfa47099d34db041d39a69f",
            "value": 10570
          }
        },
        "6e7dd07cb5ef4515a8cc5b75ad1da506": {
          "model_module": "@jupyter-widgets/controls",
          "model_name": "HTMLModel",
          "model_module_version": "1.5.0",
          "state": {
            "_dom_classes": [],
            "_model_module": "@jupyter-widgets/controls",
            "_model_module_version": "1.5.0",
            "_model_name": "HTMLModel",
            "_view_count": null,
            "_view_module": "@jupyter-widgets/controls",
            "_view_module_version": "1.5.0",
            "_view_name": "HTMLView",
            "description": "",
            "description_tooltip": null,
            "layout": "IPY_MODEL_6c19a432601d4c9fa9e1cc0d888ef6d8",
            "placeholder": "​",
            "style": "IPY_MODEL_b94e6be44f654292b0e508001feb0ba3",
            "value": " 10570/10570 [00:11&lt;00:00, 1034.33 examples/s]"
          }
        },
        "32eea94ce7a547afa44b4d1fac447b44": {
          "model_module": "@jupyter-widgets/base",
          "model_name": "LayoutModel",
          "model_module_version": "1.2.0",
          "state": {
            "_model_module": "@jupyter-widgets/base",
            "_model_module_version": "1.2.0",
            "_model_name": "LayoutModel",
            "_view_count": null,
            "_view_module": "@jupyter-widgets/base",
            "_view_module_version": "1.2.0",
            "_view_name": "LayoutView",
            "align_content": null,
            "align_items": null,
            "align_self": null,
            "border": null,
            "bottom": null,
            "display": null,
            "flex": null,
            "flex_flow": null,
            "grid_area": null,
            "grid_auto_columns": null,
            "grid_auto_flow": null,
            "grid_auto_rows": null,
            "grid_column": null,
            "grid_gap": null,
            "grid_row": null,
            "grid_template_areas": null,
            "grid_template_columns": null,
            "grid_template_rows": null,
            "height": null,
            "justify_content": null,
            "justify_items": null,
            "left": null,
            "margin": null,
            "max_height": null,
            "max_width": null,
            "min_height": null,
            "min_width": null,
            "object_fit": null,
            "object_position": null,
            "order": null,
            "overflow": null,
            "overflow_x": null,
            "overflow_y": null,
            "padding": null,
            "right": null,
            "top": null,
            "visibility": null,
            "width": null
          }
        },
        "6e2d45534796457eb9a53140be92f5c1": {
          "model_module": "@jupyter-widgets/base",
          "model_name": "LayoutModel",
          "model_module_version": "1.2.0",
          "state": {
            "_model_module": "@jupyter-widgets/base",
            "_model_module_version": "1.2.0",
            "_model_name": "LayoutModel",
            "_view_count": null,
            "_view_module": "@jupyter-widgets/base",
            "_view_module_version": "1.2.0",
            "_view_name": "LayoutView",
            "align_content": null,
            "align_items": null,
            "align_self": null,
            "border": null,
            "bottom": null,
            "display": null,
            "flex": null,
            "flex_flow": null,
            "grid_area": null,
            "grid_auto_columns": null,
            "grid_auto_flow": null,
            "grid_auto_rows": null,
            "grid_column": null,
            "grid_gap": null,
            "grid_row": null,
            "grid_template_areas": null,
            "grid_template_columns": null,
            "grid_template_rows": null,
            "height": null,
            "justify_content": null,
            "justify_items": null,
            "left": null,
            "margin": null,
            "max_height": null,
            "max_width": null,
            "min_height": null,
            "min_width": null,
            "object_fit": null,
            "object_position": null,
            "order": null,
            "overflow": null,
            "overflow_x": null,
            "overflow_y": null,
            "padding": null,
            "right": null,
            "top": null,
            "visibility": null,
            "width": null
          }
        },
        "0e5a669b108148e1859849a9e0cfa3c8": {
          "model_module": "@jupyter-widgets/controls",
          "model_name": "DescriptionStyleModel",
          "model_module_version": "1.5.0",
          "state": {
            "_model_module": "@jupyter-widgets/controls",
            "_model_module_version": "1.5.0",
            "_model_name": "DescriptionStyleModel",
            "_view_count": null,
            "_view_module": "@jupyter-widgets/base",
            "_view_module_version": "1.2.0",
            "_view_name": "StyleView",
            "description_width": ""
          }
        },
        "a503631b98724c8784f2e8ecfc66fe31": {
          "model_module": "@jupyter-widgets/base",
          "model_name": "LayoutModel",
          "model_module_version": "1.2.0",
          "state": {
            "_model_module": "@jupyter-widgets/base",
            "_model_module_version": "1.2.0",
            "_model_name": "LayoutModel",
            "_view_count": null,
            "_view_module": "@jupyter-widgets/base",
            "_view_module_version": "1.2.0",
            "_view_name": "LayoutView",
            "align_content": null,
            "align_items": null,
            "align_self": null,
            "border": null,
            "bottom": null,
            "display": null,
            "flex": null,
            "flex_flow": null,
            "grid_area": null,
            "grid_auto_columns": null,
            "grid_auto_flow": null,
            "grid_auto_rows": null,
            "grid_column": null,
            "grid_gap": null,
            "grid_row": null,
            "grid_template_areas": null,
            "grid_template_columns": null,
            "grid_template_rows": null,
            "height": null,
            "justify_content": null,
            "justify_items": null,
            "left": null,
            "margin": null,
            "max_height": null,
            "max_width": null,
            "min_height": null,
            "min_width": null,
            "object_fit": null,
            "object_position": null,
            "order": null,
            "overflow": null,
            "overflow_x": null,
            "overflow_y": null,
            "padding": null,
            "right": null,
            "top": null,
            "visibility": null,
            "width": null
          }
        },
        "f802c9a30cfa47099d34db041d39a69f": {
          "model_module": "@jupyter-widgets/controls",
          "model_name": "ProgressStyleModel",
          "model_module_version": "1.5.0",
          "state": {
            "_model_module": "@jupyter-widgets/controls",
            "_model_module_version": "1.5.0",
            "_model_name": "ProgressStyleModel",
            "_view_count": null,
            "_view_module": "@jupyter-widgets/base",
            "_view_module_version": "1.2.0",
            "_view_name": "StyleView",
            "bar_color": null,
            "description_width": ""
          }
        },
        "6c19a432601d4c9fa9e1cc0d888ef6d8": {
          "model_module": "@jupyter-widgets/base",
          "model_name": "LayoutModel",
          "model_module_version": "1.2.0",
          "state": {
            "_model_module": "@jupyter-widgets/base",
            "_model_module_version": "1.2.0",
            "_model_name": "LayoutModel",
            "_view_count": null,
            "_view_module": "@jupyter-widgets/base",
            "_view_module_version": "1.2.0",
            "_view_name": "LayoutView",
            "align_content": null,
            "align_items": null,
            "align_self": null,
            "border": null,
            "bottom": null,
            "display": null,
            "flex": null,
            "flex_flow": null,
            "grid_area": null,
            "grid_auto_columns": null,
            "grid_auto_flow": null,
            "grid_auto_rows": null,
            "grid_column": null,
            "grid_gap": null,
            "grid_row": null,
            "grid_template_areas": null,
            "grid_template_columns": null,
            "grid_template_rows": null,
            "height": null,
            "justify_content": null,
            "justify_items": null,
            "left": null,
            "margin": null,
            "max_height": null,
            "max_width": null,
            "min_height": null,
            "min_width": null,
            "object_fit": null,
            "object_position": null,
            "order": null,
            "overflow": null,
            "overflow_x": null,
            "overflow_y": null,
            "padding": null,
            "right": null,
            "top": null,
            "visibility": null,
            "width": null
          }
        },
        "b94e6be44f654292b0e508001feb0ba3": {
          "model_module": "@jupyter-widgets/controls",
          "model_name": "DescriptionStyleModel",
          "model_module_version": "1.5.0",
          "state": {
            "_model_module": "@jupyter-widgets/controls",
            "_model_module_version": "1.5.0",
            "_model_name": "DescriptionStyleModel",
            "_view_count": null,
            "_view_module": "@jupyter-widgets/base",
            "_view_module_version": "1.2.0",
            "_view_name": "StyleView",
            "description_width": ""
          }
        },
        "fb323def754d4a4184f0c39f38a3f9b5": {
          "model_module": "@jupyter-widgets/controls",
          "model_name": "HBoxModel",
          "model_module_version": "1.5.0",
          "state": {
            "_dom_classes": [],
            "_model_module": "@jupyter-widgets/controls",
            "_model_module_version": "1.5.0",
            "_model_name": "HBoxModel",
            "_view_count": null,
            "_view_module": "@jupyter-widgets/controls",
            "_view_module_version": "1.5.0",
            "_view_name": "HBoxView",
            "box_style": "",
            "children": [
              "IPY_MODEL_aa9bbf24041941baa2b4003743c185c2",
              "IPY_MODEL_edcab883100144649e9a3473b961ede9",
              "IPY_MODEL_806a7cba0bce4b11a517732db70bd018"
            ],
            "layout": "IPY_MODEL_d2ab3c92a72542fb8f9437795a9d9fce"
          }
        },
        "aa9bbf24041941baa2b4003743c185c2": {
          "model_module": "@jupyter-widgets/controls",
          "model_name": "HTMLModel",
          "model_module_version": "1.5.0",
          "state": {
            "_dom_classes": [],
            "_model_module": "@jupyter-widgets/controls",
            "_model_module_version": "1.5.0",
            "_model_name": "HTMLModel",
            "_view_count": null,
            "_view_module": "@jupyter-widgets/controls",
            "_view_module_version": "1.5.0",
            "_view_name": "HTMLView",
            "description": "",
            "description_tooltip": null,
            "layout": "IPY_MODEL_b1b60c1919044942afeb71c2a9a7b45b",
            "placeholder": "​",
            "style": "IPY_MODEL_7603646132b1473f8db6cd4fc58f37db",
            "value": "  0%"
          }
        },
        "edcab883100144649e9a3473b961ede9": {
          "model_module": "@jupyter-widgets/controls",
          "model_name": "FloatProgressModel",
          "model_module_version": "1.5.0",
          "state": {
            "_dom_classes": [],
            "_model_module": "@jupyter-widgets/controls",
            "_model_module_version": "1.5.0",
            "_model_name": "FloatProgressModel",
            "_view_count": null,
            "_view_module": "@jupyter-widgets/controls",
            "_view_module_version": "1.5.0",
            "_view_name": "ProgressView",
            "bar_style": "",
            "description": "",
            "description_tooltip": null,
            "layout": "IPY_MODEL_c7cce46baf9840bfb99451c4b834ffc0",
            "max": 16638,
            "min": 0,
            "orientation": "horizontal",
            "style": "IPY_MODEL_88d7726c405744d98e5ec59d172b05b0",
            "value": 1
          }
        },
        "806a7cba0bce4b11a517732db70bd018": {
          "model_module": "@jupyter-widgets/controls",
          "model_name": "HTMLModel",
          "model_module_version": "1.5.0",
          "state": {
            "_dom_classes": [],
            "_model_module": "@jupyter-widgets/controls",
            "_model_module_version": "1.5.0",
            "_model_name": "HTMLModel",
            "_view_count": null,
            "_view_module": "@jupyter-widgets/controls",
            "_view_module_version": "1.5.0",
            "_view_name": "HTMLView",
            "description": "",
            "description_tooltip": null,
            "layout": "IPY_MODEL_bdb147fb97c744dba9107ddc12683234",
            "placeholder": "​",
            "style": "IPY_MODEL_881af21da2094ef38414c70ce3743b59",
            "value": " 1/16638 [01:42&lt;473:04:14, 102.37s/it]"
          }
        },
        "d2ab3c92a72542fb8f9437795a9d9fce": {
          "model_module": "@jupyter-widgets/base",
          "model_name": "LayoutModel",
          "model_module_version": "1.2.0",
          "state": {
            "_model_module": "@jupyter-widgets/base",
            "_model_module_version": "1.2.0",
            "_model_name": "LayoutModel",
            "_view_count": null,
            "_view_module": "@jupyter-widgets/base",
            "_view_module_version": "1.2.0",
            "_view_name": "LayoutView",
            "align_content": null,
            "align_items": null,
            "align_self": null,
            "border": null,
            "bottom": null,
            "display": null,
            "flex": null,
            "flex_flow": null,
            "grid_area": null,
            "grid_auto_columns": null,
            "grid_auto_flow": null,
            "grid_auto_rows": null,
            "grid_column": null,
            "grid_gap": null,
            "grid_row": null,
            "grid_template_areas": null,
            "grid_template_columns": null,
            "grid_template_rows": null,
            "height": null,
            "justify_content": null,
            "justify_items": null,
            "left": null,
            "margin": null,
            "max_height": null,
            "max_width": null,
            "min_height": null,
            "min_width": null,
            "object_fit": null,
            "object_position": null,
            "order": null,
            "overflow": null,
            "overflow_x": null,
            "overflow_y": null,
            "padding": null,
            "right": null,
            "top": null,
            "visibility": null,
            "width": null
          }
        },
        "b1b60c1919044942afeb71c2a9a7b45b": {
          "model_module": "@jupyter-widgets/base",
          "model_name": "LayoutModel",
          "model_module_version": "1.2.0",
          "state": {
            "_model_module": "@jupyter-widgets/base",
            "_model_module_version": "1.2.0",
            "_model_name": "LayoutModel",
            "_view_count": null,
            "_view_module": "@jupyter-widgets/base",
            "_view_module_version": "1.2.0",
            "_view_name": "LayoutView",
            "align_content": null,
            "align_items": null,
            "align_self": null,
            "border": null,
            "bottom": null,
            "display": null,
            "flex": null,
            "flex_flow": null,
            "grid_area": null,
            "grid_auto_columns": null,
            "grid_auto_flow": null,
            "grid_auto_rows": null,
            "grid_column": null,
            "grid_gap": null,
            "grid_row": null,
            "grid_template_areas": null,
            "grid_template_columns": null,
            "grid_template_rows": null,
            "height": null,
            "justify_content": null,
            "justify_items": null,
            "left": null,
            "margin": null,
            "max_height": null,
            "max_width": null,
            "min_height": null,
            "min_width": null,
            "object_fit": null,
            "object_position": null,
            "order": null,
            "overflow": null,
            "overflow_x": null,
            "overflow_y": null,
            "padding": null,
            "right": null,
            "top": null,
            "visibility": null,
            "width": null
          }
        },
        "7603646132b1473f8db6cd4fc58f37db": {
          "model_module": "@jupyter-widgets/controls",
          "model_name": "DescriptionStyleModel",
          "model_module_version": "1.5.0",
          "state": {
            "_model_module": "@jupyter-widgets/controls",
            "_model_module_version": "1.5.0",
            "_model_name": "DescriptionStyleModel",
            "_view_count": null,
            "_view_module": "@jupyter-widgets/base",
            "_view_module_version": "1.2.0",
            "_view_name": "StyleView",
            "description_width": ""
          }
        },
        "c7cce46baf9840bfb99451c4b834ffc0": {
          "model_module": "@jupyter-widgets/base",
          "model_name": "LayoutModel",
          "model_module_version": "1.2.0",
          "state": {
            "_model_module": "@jupyter-widgets/base",
            "_model_module_version": "1.2.0",
            "_model_name": "LayoutModel",
            "_view_count": null,
            "_view_module": "@jupyter-widgets/base",
            "_view_module_version": "1.2.0",
            "_view_name": "LayoutView",
            "align_content": null,
            "align_items": null,
            "align_self": null,
            "border": null,
            "bottom": null,
            "display": null,
            "flex": null,
            "flex_flow": null,
            "grid_area": null,
            "grid_auto_columns": null,
            "grid_auto_flow": null,
            "grid_auto_rows": null,
            "grid_column": null,
            "grid_gap": null,
            "grid_row": null,
            "grid_template_areas": null,
            "grid_template_columns": null,
            "grid_template_rows": null,
            "height": null,
            "justify_content": null,
            "justify_items": null,
            "left": null,
            "margin": null,
            "max_height": null,
            "max_width": null,
            "min_height": null,
            "min_width": null,
            "object_fit": null,
            "object_position": null,
            "order": null,
            "overflow": null,
            "overflow_x": null,
            "overflow_y": null,
            "padding": null,
            "right": null,
            "top": null,
            "visibility": null,
            "width": null
          }
        },
        "88d7726c405744d98e5ec59d172b05b0": {
          "model_module": "@jupyter-widgets/controls",
          "model_name": "ProgressStyleModel",
          "model_module_version": "1.5.0",
          "state": {
            "_model_module": "@jupyter-widgets/controls",
            "_model_module_version": "1.5.0",
            "_model_name": "ProgressStyleModel",
            "_view_count": null,
            "_view_module": "@jupyter-widgets/base",
            "_view_module_version": "1.2.0",
            "_view_name": "StyleView",
            "bar_color": null,
            "description_width": ""
          }
        },
        "bdb147fb97c744dba9107ddc12683234": {
          "model_module": "@jupyter-widgets/base",
          "model_name": "LayoutModel",
          "model_module_version": "1.2.0",
          "state": {
            "_model_module": "@jupyter-widgets/base",
            "_model_module_version": "1.2.0",
            "_model_name": "LayoutModel",
            "_view_count": null,
            "_view_module": "@jupyter-widgets/base",
            "_view_module_version": "1.2.0",
            "_view_name": "LayoutView",
            "align_content": null,
            "align_items": null,
            "align_self": null,
            "border": null,
            "bottom": null,
            "display": null,
            "flex": null,
            "flex_flow": null,
            "grid_area": null,
            "grid_auto_columns": null,
            "grid_auto_flow": null,
            "grid_auto_rows": null,
            "grid_column": null,
            "grid_gap": null,
            "grid_row": null,
            "grid_template_areas": null,
            "grid_template_columns": null,
            "grid_template_rows": null,
            "height": null,
            "justify_content": null,
            "justify_items": null,
            "left": null,
            "margin": null,
            "max_height": null,
            "max_width": null,
            "min_height": null,
            "min_width": null,
            "object_fit": null,
            "object_position": null,
            "order": null,
            "overflow": null,
            "overflow_x": null,
            "overflow_y": null,
            "padding": null,
            "right": null,
            "top": null,
            "visibility": null,
            "width": null
          }
        },
        "881af21da2094ef38414c70ce3743b59": {
          "model_module": "@jupyter-widgets/controls",
          "model_name": "DescriptionStyleModel",
          "model_module_version": "1.5.0",
          "state": {
            "_model_module": "@jupyter-widgets/controls",
            "_model_module_version": "1.5.0",
            "_model_name": "DescriptionStyleModel",
            "_view_count": null,
            "_view_module": "@jupyter-widgets/base",
            "_view_module_version": "1.2.0",
            "_view_name": "StyleView",
            "description_width": ""
          }
        }
      }
    }
  },
  "nbformat": 4,
  "nbformat_minor": 5
}